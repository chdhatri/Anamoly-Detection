{
  "cells": [
    {
      "cell_type": "markdown",
      "metadata": {
        "id": "view-in-github",
        "colab_type": "text"
      },
      "source": [
        "<a href=\"https://colab.research.google.com/github/chdhatri/Anamoly-Detection/blob/main/anamoly_detection_mrcnn.ipynb\" target=\"_parent\"><img src=\"https://colab.research.google.com/assets/colab-badge.svg\" alt=\"Open In Colab\"/></a>"
      ]
    },
    {
      "cell_type": "code",
      "execution_count": null,
      "metadata": {
        "id": "-KQkaGT0_QKr"
      },
      "outputs": [],
      "source": [
        "import random\n",
        "from torchvision.models.detection.faster_rcnn import FastRCNNPredictor\n",
        "import numpy as np\n",
        "import torch.utils.data\n",
        "import cv2\n",
        "import torchvision.models.segmentation\n",
        "import torch\n",
        "import os\n",
        "from PIL import Image\n",
        "from torch.optim import lr_scheduler\n",
        "from torchvision.datasets.folder import pil_loader\n",
        "from torch.utils.data import Dataset\n",
        "from torchsummary import summary\n",
        "import glob"
      ]
    },
    {
      "cell_type": "code",
      "execution_count": null,
      "metadata": {
        "colab": {
          "base_uri": "https://localhost:8080/"
        },
        "id": "m8LnI0htMGkf",
        "outputId": "85ce464c-37fd-46c9-deab-1c7843403468"
      },
      "outputs": [
        {
          "output_type": "stream",
          "name": "stdout",
          "text": [
            "Cloning into 'Magnetic-tile-defect-datasets.'...\n",
            "remote: Enumerating objects: 2646, done.\u001b[K\n",
            "remote: Total 2646 (delta 0), reused 0 (delta 0), pack-reused 2646\u001b[K\n",
            "Receiving objects: 100% (2646/2646), 50.04 MiB | 10.02 MiB/s, done.\n",
            "Resolving deltas: 100% (87/87), done.\n"
          ]
        }
      ],
      "source": [
        "!git clone https://github.com/abin24/Magnetic-tile-defect-datasets..git\n"
      ]
    },
    {
      "cell_type": "code",
      "execution_count": null,
      "metadata": {
        "id": "M3sAV99UMis6"
      },
      "outputs": [],
      "source": [
        "!rm -rf Magnetic-tile-defect-datasets./MT_Free/"
      ]
    },
    {
      "cell_type": "code",
      "execution_count": null,
      "metadata": {
        "id": "dmsFD1biNMeV"
      },
      "outputs": [],
      "source": [
        "!rm -rf Magnetic-tile-defect-datasets./MT_Uneven/"
      ]
    },
    {
      "cell_type": "code",
      "execution_count": null,
      "metadata": {
        "colab": {
          "base_uri": "https://localhost:8080/"
        },
        "id": "m1zHKZuWNSLt",
        "outputId": "bae70b5d-0298-443a-900c-46b10e6c4ea6"
      },
      "outputs": [
        {
          "output_type": "stream",
          "name": "stdout",
          "text": [
            "PyTorch Version:  1.12.1+cu113\n",
            "Torchvision Version:  0.13.1+cu113\n"
          ]
        }
      ],
      "source": [
        "import torch\n",
        "import torch.nn as nn\n",
        "import torch.optim as optim\n",
        "import numpy as np\n",
        "import torchvision\n",
        "import matplotlib.pyplot as plt\n",
        "import time\n",
        "import os\n",
        "import copy\n",
        "import random\n",
        "import cv2\n",
        "import pandas as pd\n",
        "import json\n",
        "import logging\n",
        "import warnings\n",
        "from torch.utils.tensorboard import SummaryWriter\n",
        "\n",
        "%matplotlib inline \n",
        "%load_ext tensorboard\n",
        "plt.ion()\n",
        "warnings.filterwarnings('ignore')\n",
        "writer = SummaryWriter()\n",
        "print(\"PyTorch Version: \",torch.__version__)\n",
        "print(\"Torchvision Version: \",torchvision.__version__)"
      ]
    },
    {
      "cell_type": "code",
      "execution_count": null,
      "metadata": {
        "id": "DK7nqJQLQ5Ln"
      },
      "outputs": [],
      "source": []
    },
    {
      "cell_type": "markdown",
      "metadata": {
        "id": "Ls0qwDomQ70B"
      },
      "source": [
        "**Partitioning the data into train and test**"
      ]
    },
    {
      "cell_type": "markdown",
      "metadata": {
        "id": "smVnRQ6uQ4bQ"
      },
      "source": [
        "**bold text**"
      ]
    },
    {
      "cell_type": "code",
      "execution_count": null,
      "metadata": {
        "id": "cXZeT5Cc8pNg"
      },
      "outputs": [],
      "source": [
        "def partition():\n",
        "  split_ratio = [0.7, 0.15]\n",
        "  data_path = {}\n",
        "  partition = {'train', 'test'}\n",
        "\n",
        "  classes = ['Blowhole', 'Break','Crack','Fray']\n",
        "\n",
        "  train = {}\n",
        "  valid = {}\n",
        "  test = {}\n",
        "\n",
        "  for c in classes:\n",
        "    data_path[c] = glob.glob('/content/Magnetic-tile-defect-datasets./MT_' + c + '/Imgs/*.jpg',recursive=True) \n",
        "    random.shuffle(data_path[c])\n",
        "    \n",
        "    l = len(data_path[c])\n",
        "    split = int(split_ratio[0]*l)\n",
        "    split1 = int(split_ratio[0]*l) + int(split_ratio[1]*l)\n",
        "    train[c] = data_path[c][:split]\n",
        "    valid[c] = data_path[c][split: split1]\n",
        "    test[c] = data_path[c][split1:]\n",
        "\n",
        "    print(\"train:\",len(train[c]))\n",
        "    print(\"valid:\", len(valid[c]))\n",
        "    print(\"test:\", len(test[c]))\n",
        "\n",
        "\n",
        "  return train, valid, test  \n",
        "    "
      ]
    },
    {
      "cell_type": "code",
      "execution_count": null,
      "metadata": {
        "colab": {
          "base_uri": "https://localhost:8080/"
        },
        "id": "LKgarbUeKzfJ",
        "outputId": "0ba62f8e-2c7a-440e-f55b-0b8a1c4f72e5"
      },
      "outputs": [
        {
          "output_type": "stream",
          "name": "stdout",
          "text": [
            "train: 80\n",
            "valid: 17\n",
            "test: 18\n",
            "train: 59\n",
            "valid: 12\n",
            "test: 14\n",
            "train: 39\n",
            "valid: 8\n",
            "test: 10\n",
            "train: 22\n",
            "valid: 4\n",
            "test: 6\n"
          ]
        }
      ],
      "source": [
        "\n",
        "train, valid, test = partition()"
      ]
    },
    {
      "cell_type": "code",
      "execution_count": null,
      "metadata": {
        "colab": {
          "base_uri": "https://localhost:8080/"
        },
        "id": "YpLoCXcR5L4K",
        "outputId": "a4e4627e-d7ba-4e91-d1b4-bc2d6a800725"
      },
      "outputs": [
        {
          "output_type": "stream",
          "name": "stdout",
          "text": [
            "['/content/Magnetic-tile-defect-datasets./MT_Break/Imgs/exp6_num_98402.jpg', '/content/Magnetic-tile-defect-datasets./MT_Break/Imgs/exp1_num_284482.jpg', '/content/Magnetic-tile-defect-datasets./MT_Break/Imgs/exp3_num_98116.jpg', '/content/Magnetic-tile-defect-datasets./MT_Break/Imgs/exp3_num_148977.jpg', '/content/Magnetic-tile-defect-datasets./MT_Break/Imgs/exp5_num_304345.jpg', '/content/Magnetic-tile-defect-datasets./MT_Break/Imgs/exp1_num_194173.jpg', '/content/Magnetic-tile-defect-datasets./MT_Break/Imgs/exp3_num_194220.jpg', '/content/Magnetic-tile-defect-datasets./MT_Break/Imgs/exp2_num_116961.jpg', '/content/Magnetic-tile-defect-datasets./MT_Break/Imgs/exp3_num_77583.jpg', '/content/Magnetic-tile-defect-datasets./MT_Break/Imgs/exp6_num_356817.jpg', '/content/Magnetic-tile-defect-datasets./MT_Break/Imgs/exp6_num_26244.jpg', '/content/Magnetic-tile-defect-datasets./MT_Break/Imgs/exp1_num_26106.jpg', '/content/Magnetic-tile-defect-datasets./MT_Break/Imgs/exp6_num_117060.jpg', '/content/Magnetic-tile-defect-datasets./MT_Break/Imgs/exp6_num_276451.jpg']\n"
          ]
        }
      ],
      "source": [
        "print(test['Break'])"
      ]
    },
    {
      "cell_type": "code",
      "execution_count": null,
      "metadata": {
        "id": "R2uiYMDCk8hJ"
      },
      "outputs": [],
      "source": [
        "def mask_to_border(mask):\n",
        "    h, w = mask.shape\n",
        "    border = np.zeros((h, w))\n",
        "    padded_binary_mask = np.pad(mask, pad_width=1, mode='constant', constant_values=0)\n",
        "    contours = find_contours(padded_binary_mask, 128)\n",
        "    contours = np.subtract(contours, 1)\n",
        "\n",
        "    len_contours = len(contours)\n",
        "\n",
        "    for contour in contours:\n",
        "        \n",
        "        for c in contour:\n",
        "            x = int(c[0])\n",
        "            y = int(c[1])\n",
        "            border[x][y] = 255\n",
        "    return border, len_contours  \n",
        "\n",
        "''' convert mask to bbox '''\n",
        "def mask_to_bbox(mask, class_name):\n",
        "    bboxes = []\n",
        "    h, w = mask.shape\n",
        "    border, len_contour = mask_to_border(mask)   \n",
        "    lbl = label(border)  \n",
        "    props = regionprops(lbl)\n",
        "\n",
        "    for prop in props:\n",
        "        x1 = prop.bbox[1]  #xmin\n",
        "        y1 = prop.bbox[0]  #ymin\n",
        "\n",
        "        x2 = prop.bbox[3]  #xmax\n",
        "        y2 = prop.bbox[2]  #yman\n",
        "\n",
        "\n",
        "       \n",
        "        area = int((x2 - x1) * (y2 - y1))\n",
        "        #print(\"Area of bbox\", area)\n",
        "        if (area > 15):\n",
        "            bboxes.append([x1, y1, x2, y2, class_name])\n",
        "\n",
        "\n",
        "    return bboxes\n",
        "\n",
        "def create_dir(path):\n",
        "    if not os.path.exists(path):\n",
        "        os.makedirs(path)"
      ]
    },
    {
      "cell_type": "code",
      "execution_count": null,
      "metadata": {
        "id": "8HO4oYK4pPii"
      },
      "outputs": [],
      "source": [
        "label_map = {\n",
        "    \"Blowhole\": \"0\",\n",
        "    \"Break\": \"1\",\n",
        "    \"Crack\": \"2\",\n",
        "    \"Fray\": \"3\"\n",
        "}"
      ]
    },
    {
      "cell_type": "code",
      "execution_count": null,
      "metadata": {
        "id": "suNbXvX52FQd"
      },
      "outputs": [],
      "source": [
        "from skimage.measure import label, regionprops, find_contours\n",
        "import albumentations as A\n",
        "IMAGE_SIZE = 512\n",
        "\n",
        "class SurfaceDefectDetection(Dataset):\n",
        "  def __init__(self, data=train, is_Train = True, is_valid= False, is_Test= False,transforms=None):\n",
        "    self.data = []\n",
        "    self.masks = []\n",
        "    self.obj_labels = []\n",
        "    self.annotations = []\n",
        "    self.transforms  = []\n",
        "\n",
        "    if transforms!=None:\n",
        "        self.transforms.append(transforms)\n",
        "\n",
        "    classes = ['Blowhole', 'Break', 'Crack', 'Fray']\n",
        "    for c in classes:\n",
        "      #print(c)\n",
        "      for file in data[c]:\n",
        "        file_name = file.split('/')[-1].split('.')[0]\n",
        "        mask_file = file.split('.jpg')[0]+\".png\"\n",
        "        #print(file_name)\n",
        "        img = cv2.imread(file)[:,:,::-1]\n",
        "        height, width, channels = img.shape\n",
        "\n",
        "        mask = Image.open(mask_file)\n",
        "        mask = np.array(mask)\n",
        "        #mask = cv2.imread(mask_file, cv2.IMREAD_GRAYSCALE)\n",
        "\n",
        "        border_mask, len_contours = mask_to_border(mask)\n",
        "        bboxes = mask_to_bbox(mask, int(label_map[c]))\n",
        "\n",
        "         # skip unannotated images\n",
        "        if len(bboxes) == 0: \n",
        "          continue\n",
        "\n",
        "        transform = A.Compose(\n",
        "          [\n",
        "            A.Resize(width=512, height=512),\n",
        "            \n",
        "            \n",
        "            \n",
        "            \n",
        "        ], bbox_params=A.BboxParams(format=\"pascal_voc\", min_area=30,\n",
        "                                min_visibility=0.3, label_fields=[]))\n",
        "        \n",
        "        transformed = transform(\n",
        "              image=img, \n",
        "              mask = mask,\n",
        "              bboxes=bboxes)\n",
        "        transformed_image = transformed['image']\n",
        "        transformed_mask = transformed[\"mask\"]\n",
        "        transformed_bboxes = transformed['bboxes']\n",
        "\n",
        "        #print(transformed_image.shape)\n",
        "\n",
        "        if is_Train:\n",
        "          create_dir(r\"/content/Magnetic-tile-defect-datasets./Augmented_data/train/Imgs\")\n",
        "          create_dir(r\"/content/Magnetic-tile-defect-datasets./Augmented_data/train/Masks\")\n",
        "          aug_img_path = f\"/content/Magnetic-tile-defect-datasets./Augmented_data/train/Imgs/{file_name}.jpg\"\n",
        "          aug_mask_path = f\"/content/Magnetic-tile-defect-datasets./Augmented_data/train/Masks/{file_name}.png\"\n",
        "        elif is_valid:\n",
        "           create_dir(r\"/content/Magnetic-tile-defect-datasets./Augmented_data/val/Imgs\")\n",
        "           create_dir(r\"/content/Magnetic-tile-defect-datasets./Augmented_data/val/Masks\")\n",
        "           aug_img_path = f\"/content/Magnetic-tile-defect-datasets./Augmented_data/val/Imgs/{file_name}.jpg\"\n",
        "           aug_mask_path = f\"/content/Magnetic-tile-defect-datasets./Augmented_data/val/Masks/{file_name}.png\"\n",
        "        else:\n",
        "           create_dir(r\"/content/Magnetic-tile-defect-datasets./Augmented_data/test/Imgs\")\n",
        "           create_dir(r\"/content/Magnetic-tile-defect-datasets./Augmented_data/test/Masks\")\n",
        "           aug_img_path = f\"/content/Magnetic-tile-defect-datasets./Augmented_data/test/Imgs/{file_name}.jpg\"\n",
        "           aug_mask_path = f\"/content/Magnetic-tile-defect-datasets./Augmented_data/test/Masks/{file_name}.png\"\n",
        "\n",
        "        cv2.imwrite(aug_img_path, transformed_image)\n",
        "        cv2.imwrite(aug_mask_path, transformed_mask)\n",
        "\n",
        "         # save required information\n",
        "        self.data.append(aug_img_path)\n",
        "        self.masks.append(aug_mask_path)\n",
        "        self.annotations.append([x[:-1] for x in transformed_bboxes])\n",
        "        self.obj_labels.append([x[-1] for x in transformed_bboxes])\n",
        "\n",
        "  def __getitem__(self, idx):\n",
        "        if torch.is_tensor(idx):\n",
        "            idx = idx.tolist()\n",
        "\n",
        "        img_path, mask_path, annotation, obj_labels = self.data[idx], self.masks[idx], self.annotations[idx], self.obj_labels[idx]\n",
        "        N = len(annotation)\n",
        "\n",
        "        image = Image.open(img_path).convert(\"RGB\")\n",
        "        mask = Image.open(mask_path)\n",
        "        \n",
        "        for i in self.transforms:\n",
        "          image = i(image)\n",
        "          mask = i(mask)\n",
        "\n",
        "       \n",
        "\n",
        "        #print(\"Image shape:\", w, h)\n",
        "\n",
        "        # define requirements for input to model\n",
        "        image_id = torch.tensor([idx])\n",
        "        labels = torch.as_tensor(obj_labels, dtype=torch.int64)\n",
        "        #print(\"labels:\", labels)\n",
        "        boxes = torch.as_tensor(annotation, dtype=torch.float32)\n",
        "        masks = torch.as_tensor(mask, dtype=torch.float32)\n",
        "        area = (boxes[:, 3] - boxes[:, 1]) * (boxes[:, 2] - boxes[:, 0])\n",
        "        iscrowd = torch.zeros((N,), dtype=torch.int64)\n",
        "\n",
        "        \n",
        "        target = {}\n",
        "        target[\"boxes\"] = boxes\n",
        "        target[\"labels\"] = labels\n",
        "        target[\"masks\"] = mask\n",
        "        target[\"image_id\"] = image_id\n",
        "        target[\"area\"] = area\n",
        "        target[\"iscrowd\"] = iscrowd   \n",
        "        \n",
        "\n",
        "       \n",
        "       \n",
        "        return image.double(), target\n",
        "\n",
        "  def __len__(self):\n",
        "        return len(self.data)\n",
        "\n",
        "\n",
        "\n",
        "              \n",
        "\n",
        "\n",
        "    "
      ]
    },
    {
      "cell_type": "code",
      "execution_count": null,
      "metadata": {
        "id": "1ZfQfMbV11h8"
      },
      "outputs": [],
      "source": [
        "!rm -rf /content/Magnetic-tile-defect-datasets./Augmented_data"
      ]
    },
    {
      "cell_type": "code",
      "execution_count": null,
      "metadata": {
        "colab": {
          "base_uri": "https://localhost:8080/"
        },
        "id": "zjV1Pw2y0TUB",
        "outputId": "a9d961c2-d43f-4f11-d618-3ffb416a1f5a"
      },
      "outputs": [
        {
          "output_type": "stream",
          "name": "stdout",
          "text": [
            "Cloning into 'vision'...\n",
            "remote: Enumerating objects: 224895, done.\u001b[K\n",
            "remote: Counting objects: 100% (5158/5158), done.\u001b[K\n",
            "remote: Compressing objects: 100% (438/438), done.\u001b[K\n",
            "remote: Total 224895 (delta 4792), reused 5032 (delta 4708), pack-reused 219737\u001b[K\n",
            "Receiving objects: 100% (224895/224895), 453.00 MiB | 31.19 MiB/s, done.\n",
            "Resolving deltas: 100% (203606/203606), done.\n"
          ]
        }
      ],
      "source": [
        "!git clone 'https://github.com/pytorch/vision.git'"
      ]
    },
    {
      "cell_type": "code",
      "execution_count": null,
      "metadata": {
        "colab": {
          "base_uri": "https://localhost:8080/"
        },
        "id": "-GInroqHcN7k",
        "outputId": "f75e49e6-5ca7-41c1-81cf-d730e66c7232"
      },
      "outputs": [
        {
          "name": "stdout",
          "output_type": "stream",
          "text": [
            "/content\n"
          ]
        }
      ],
      "source": [
        "!pwd"
      ]
    },
    {
      "cell_type": "code",
      "execution_count": null,
      "metadata": {
        "id": "_OfgYLD6dM4V"
      },
      "outputs": [],
      "source": [
        "\n",
        "\n",
        "# use our dataset and defined transformations\n",
        "dataset = SurfaceDefectDetection(train,\n",
        "                                is_Train=True,\n",
        "                                 is_valid=False,\n",
        "                                 is_Test=False,\n",
        "                                 transforms=torchvision.transforms.ToTensor())\n",
        "dataset_valid = SurfaceDefectDetection(valid,\n",
        "                                is_Train=False,\n",
        "                                is_valid=True,\n",
        "                                is_Test=False,\n",
        "                                transforms=torchvision.transforms.ToTensor())\n",
        "\n",
        "\n",
        "dataset_test = SurfaceDefectDetection(valid,\n",
        "                                is_Train=False,\n",
        "                                is_valid=False,\n",
        "                                is_Test=True,\n",
        "                                transforms=torchvision.transforms.ToTensor())\n",
        "\n"
      ]
    },
    {
      "cell_type": "code",
      "execution_count": null,
      "metadata": {
        "id": "8iHc0daGdS0t"
      },
      "outputs": [],
      "source": [
        "images, targets = dataset[0]\n"
      ]
    },
    {
      "cell_type": "code",
      "execution_count": null,
      "metadata": {
        "id": "eqVJX6AIfJE8"
      },
      "outputs": [],
      "source": [
        "# define training and validation data loaders\n",
        "from vision.references.detection import utils\n",
        "data_loader = torch.utils.data.DataLoader(\n",
        "    dataset, batch_size=2, shuffle=True, num_workers=4, collate_fn=utils.collate_fn)\n",
        "\n",
        "data_loader_valid = torch.utils.data.DataLoader(\n",
        "    dataset_valid, batch_size=2, shuffle=False, num_workers=4, collate_fn=utils.collate_fn)"
      ]
    },
    {
      "cell_type": "code",
      "execution_count": null,
      "metadata": {
        "id": "NPUcMt2rqmml",
        "colab": {
          "base_uri": "https://localhost:8080/",
          "height": 87,
          "referenced_widgets": [
            "28a6e04e6dae4352b0f6d77101e939f3",
            "59ecd2294f0b479da9b4d9bf4b824a20",
            "cbe740cde17a417597065f038b79e962",
            "e02c36608f294768b784f16a74172336",
            "ec79ab631ef94f829b21bbc96dc06f1b",
            "d7f374c082a94b06823e7b62d3b8f66d",
            "942a82a038714202a25409ea13f974b7",
            "daed9078da9542a697b1b52dd517d9ee",
            "8819f34db7be4a1eb306d68c7b9a60d4",
            "4a2dc5182e8545dc8adf62f3827e8f0e",
            "f645001910e54ab9a8cdbfee5b8c5b0a"
          ]
        },
        "outputId": "f4820b29-e183-4e3d-8fb4-c00362389ee2"
      },
      "outputs": [
        {
          "output_type": "stream",
          "name": "stderr",
          "text": [
            "Downloading: \"https://download.pytorch.org/models/maskrcnn_resnet50_fpn_coco-bf2d0c1e.pth\" to /root/.cache/torch/hub/checkpoints/maskrcnn_resnet50_fpn_coco-bf2d0c1e.pth\n"
          ]
        },
        {
          "output_type": "display_data",
          "data": {
            "text/plain": [
              "  0%|          | 0.00/170M [00:00<?, ?B/s]"
            ],
            "application/vnd.jupyter.widget-view+json": {
              "version_major": 2,
              "version_minor": 0,
              "model_id": "28a6e04e6dae4352b0f6d77101e939f3"
            }
          },
          "metadata": {}
        }
      ],
      "source": [
        "import torchvision\n",
        "from torchvision.models.detection.faster_rcnn import FastRCNNPredictor\n",
        "from torchvision.models.detection.mask_rcnn import MaskRCNNPredictor\n",
        "\n",
        "\n",
        "\n",
        "num_classes = 1 + 4\n",
        "# load an instance segmentation model pre-trained pre-trained on COCO\n",
        "model = torchvision.models.detection.maskrcnn_resnet50_fpn(pretrained=True)\n",
        "\n",
        "# get number of input features for the classifier\n",
        "in_features = model.roi_heads.box_predictor.cls_score.in_features\n",
        "# replace the pre-trained head with a new one\n",
        "model.roi_heads.box_predictor = FastRCNNPredictor(in_features, num_classes)\n",
        "\n",
        "# now get the number of input features for the mask classifier\n",
        "in_features_mask = model.roi_heads.mask_predictor.conv5_mask.in_channels\n",
        "hidden_layer = 256\n",
        "# and replace the mask predictor with a new one\n",
        "model.roi_heads.mask_predictor = MaskRCNNPredictor(in_features_mask,\n",
        "                                                    hidden_layer,\n",
        "                                                    num_classes)\n",
        "\n",
        "device = torch.device('cuda') if torch.cuda.is_available() else torch.device('cpu')\n",
        "model=model.to(device)\n",
        "\n",
        "params = [p for p in model.parameters() if p.requires_grad]\n",
        "optimizer = torch.optim.SGD(params, lr=0.001, momentum=0.9, weight_decay=0.0005)\n"
      ]
    },
    {
      "cell_type": "code",
      "execution_count": null,
      "metadata": {
        "id": "qrt3tiMXwR2M"
      },
      "outputs": [],
      "source": [
        "!cp /root/.cache/torch/hub/checkpoints/maskrcnn_resnet50_fpn_coco-bf2d0c1e.pth /content/Magnetic-tile-defect-datasets./Models/"
      ]
    },
    {
      "cell_type": "code",
      "execution_count": null,
      "metadata": {
        "id": "20dSciRyTmFX"
      },
      "outputs": [],
      "source": [
        "cp  /root/.cache/torch/hub/checkpoints/maskrcnn_resnet50_fpn_coco-bf2d0c1e.pth /content/Magnetic-tile-defect-datasets./Models"
      ]
    },
    {
      "cell_type": "code",
      "execution_count": null,
      "metadata": {
        "id": "AMbs5b0hqpOh"
      },
      "outputs": [],
      "source": [
        "# run incase tensorboard needs to be refrehsed\n",
        "from datetime import datetime\n",
        "now = datetime.now()\n",
        "!rm -rf ./runs/\n",
        "%reload_ext tensorboard\n",
        "writer = SummaryWriter()"
      ]
    },
    {
      "cell_type": "code",
      "execution_count": null,
      "metadata": {
        "colab": {
          "base_uri": "https://localhost:8080/"
        },
        "id": "C0oqsTq9ytnc",
        "outputId": "10bdf070-1411-4297-822e-047cf203ec4b"
      },
      "outputs": [
        {
          "output_type": "stream",
          "name": "stderr",
          "text": [
            "  0%|          | 0/5 [00:00<?, ?it/s]\n",
            "  0%|          | 0/100 [00:00<?, ?it/s]\u001b[A\n",
            "  1%|          | 1/100 [00:12<21:19, 12.93s/it]\u001b[A\n",
            "  2%|▏         | 2/100 [00:26<21:28, 13.15s/it]\u001b[A\n",
            "  3%|▎         | 3/100 [00:39<21:05, 13.05s/it]\u001b[A\n",
            "  4%|▍         | 4/100 [00:52<20:49, 13.01s/it]\u001b[A\n",
            "  5%|▌         | 5/100 [01:04<20:12, 12.77s/it]\u001b[A\n",
            "  6%|▌         | 6/100 [01:17<20:06, 12.84s/it]\u001b[A\n",
            "  7%|▋         | 7/100 [01:29<19:36, 12.65s/it]\u001b[A\n",
            "  8%|▊         | 8/100 [01:42<19:13, 12.54s/it]\u001b[A\n",
            "  9%|▉         | 9/100 [01:54<19:08, 12.62s/it]\u001b[A\n",
            " 10%|█         | 10/100 [02:07<18:58, 12.65s/it]\u001b[A\n",
            " 11%|█         | 11/100 [02:19<18:36, 12.55s/it]\u001b[A\n",
            " 12%|█▏        | 12/100 [02:33<18:43, 12.77s/it]\u001b[A\n",
            " 13%|█▎        | 13/100 [02:45<18:29, 12.75s/it]\u001b[A\n",
            " 14%|█▍        | 14/100 [02:59<18:34, 12.96s/it]\u001b[A\n",
            " 15%|█▌        | 15/100 [03:11<18:14, 12.88s/it]\u001b[A\n",
            " 16%|█▌        | 16/100 [03:24<17:47, 12.71s/it]\u001b[A\n",
            " 17%|█▋        | 17/100 [03:36<17:25, 12.59s/it]\u001b[A\n",
            " 18%|█▊        | 18/100 [03:49<17:09, 12.56s/it]\u001b[A\n",
            " 19%|█▉        | 19/100 [04:01<17:02, 12.63s/it]\u001b[A\n",
            " 20%|██        | 20/100 [04:14<16:55, 12.69s/it]\u001b[A\n",
            " 21%|██        | 21/100 [04:26<16:33, 12.57s/it]\u001b[A\n",
            " 22%|██▏       | 22/100 [04:40<16:31, 12.71s/it]\u001b[A\n",
            " 23%|██▎       | 23/100 [04:53<16:36, 12.95s/it]\u001b[A\n",
            " 24%|██▍       | 24/100 [05:05<16:09, 12.76s/it]\u001b[A\n",
            " 25%|██▌       | 25/100 [05:18<15:55, 12.74s/it]\u001b[A\n",
            " 26%|██▌       | 26/100 [05:32<16:01, 12.99s/it]\u001b[A\n",
            " 27%|██▋       | 27/100 [05:44<15:33, 12.79s/it]\u001b[A\n",
            " 28%|██▊       | 28/100 [05:57<15:18, 12.76s/it]\u001b[A\n",
            " 29%|██▉       | 29/100 [06:09<15:07, 12.79s/it]\u001b[A\n",
            " 30%|███       | 30/100 [06:22<15:00, 12.86s/it]\u001b[A\n",
            " 31%|███       | 31/100 [06:35<14:48, 12.87s/it]\u001b[A\n",
            " 32%|███▏      | 32/100 [06:48<14:27, 12.76s/it]\u001b[A\n",
            " 33%|███▎      | 33/100 [07:01<14:29, 12.97s/it]\u001b[A\n",
            " 34%|███▍      | 34/100 [07:14<14:07, 12.83s/it]\u001b[A\n",
            " 35%|███▌      | 35/100 [07:27<13:57, 12.89s/it]\u001b[A\n",
            " 36%|███▌      | 36/100 [07:40<13:47, 12.93s/it]\u001b[A\n",
            " 37%|███▋      | 37/100 [07:53<13:28, 12.83s/it]\u001b[A\n",
            " 38%|███▊      | 38/100 [08:06<13:18, 12.88s/it]\u001b[A\n",
            " 39%|███▉      | 39/100 [08:18<12:55, 12.72s/it]\u001b[A\n",
            " 40%|████      | 40/100 [08:31<12:42, 12.71s/it]\u001b[A\n",
            " 41%|████      | 41/100 [08:43<12:23, 12.60s/it]\u001b[A\n",
            " 42%|████▏     | 42/100 [08:56<12:18, 12.74s/it]\u001b[A\n",
            " 43%|████▎     | 43/100 [09:09<12:05, 12.73s/it]\u001b[A\n",
            " 44%|████▍     | 44/100 [09:22<11:55, 12.77s/it]\u001b[A\n",
            " 45%|████▌     | 45/100 [09:34<11:35, 12.64s/it]\u001b[A\n",
            " 46%|████▌     | 46/100 [09:46<11:22, 12.63s/it]\u001b[A\n",
            " 47%|████▋     | 47/100 [09:59<11:05, 12.56s/it]\u001b[A\n",
            " 48%|████▊     | 48/100 [10:12<10:58, 12.66s/it]\u001b[A\n",
            " 49%|████▉     | 49/100 [10:24<10:40, 12.55s/it]\u001b[A\n",
            " 50%|█████     | 50/100 [10:37<10:29, 12.59s/it]\u001b[A\n",
            " 51%|█████     | 51/100 [10:50<10:21, 12.69s/it]\u001b[A\n",
            " 52%|█████▏    | 52/100 [11:02<10:03, 12.58s/it]\u001b[A\n",
            " 53%|█████▎    | 53/100 [11:15<09:50, 12.56s/it]\u001b[A\n",
            " 54%|█████▍    | 54/100 [11:27<09:39, 12.60s/it]\u001b[A\n",
            " 55%|█████▌    | 55/100 [11:40<09:28, 12.62s/it]\u001b[A\n",
            " 56%|█████▌    | 56/100 [11:53<09:27, 12.89s/it]\u001b[A\n",
            " 57%|█████▋    | 57/100 [12:07<09:18, 12.98s/it]\u001b[A\n",
            " 58%|█████▊    | 58/100 [12:19<09:04, 12.95s/it]\u001b[A\n",
            " 59%|█████▉    | 59/100 [12:32<08:49, 12.91s/it]\u001b[A\n",
            " 60%|██████    | 60/100 [12:45<08:31, 12.79s/it]\u001b[A\n",
            " 61%|██████    | 61/100 [12:58<08:20, 12.82s/it]\u001b[A\n",
            " 62%|██████▏   | 62/100 [13:10<08:01, 12.67s/it]\u001b[A\n",
            " 63%|██████▎   | 63/100 [13:22<07:45, 12.58s/it]\u001b[A\n",
            " 64%|██████▍   | 64/100 [13:35<07:33, 12.61s/it]\u001b[A\n",
            " 65%|██████▌   | 65/100 [13:47<07:18, 12.52s/it]\u001b[A\n",
            " 66%|██████▌   | 66/100 [14:00<07:05, 12.51s/it]\u001b[A\n",
            " 67%|██████▋   | 67/100 [14:13<06:55, 12.58s/it]\u001b[A\n",
            " 68%|██████▊   | 68/100 [14:25<06:41, 12.56s/it]\u001b[A\n",
            " 69%|██████▉   | 69/100 [14:38<06:30, 12.60s/it]\u001b[A\n",
            " 70%|███████   | 70/100 [14:51<06:27, 12.92s/it]\u001b[A\n",
            " 71%|███████   | 71/100 [15:04<06:10, 12.79s/it]\u001b[A\n",
            " 72%|███████▏  | 72/100 [15:17<05:58, 12.81s/it]\u001b[A\n",
            " 73%|███████▎  | 73/100 [15:29<05:44, 12.77s/it]\u001b[A\n",
            " 74%|███████▍  | 74/100 [15:42<05:31, 12.75s/it]\u001b[A\n",
            " 75%|███████▌  | 75/100 [15:55<05:17, 12.71s/it]\u001b[A\n",
            " 76%|███████▌  | 76/100 [16:07<05:04, 12.68s/it]\u001b[A\n",
            " 77%|███████▋  | 77/100 [16:20<04:51, 12.69s/it]\u001b[A\n",
            " 78%|███████▊  | 78/100 [16:33<04:41, 12.78s/it]\u001b[A\n",
            " 79%|███████▉  | 79/100 [16:46<04:30, 12.88s/it]\u001b[A\n",
            " 80%|████████  | 80/100 [16:59<04:17, 12.86s/it]\u001b[A\n",
            " 81%|████████  | 81/100 [17:12<04:04, 12.85s/it]\u001b[A\n",
            " 82%|████████▏ | 82/100 [17:24<03:48, 12.69s/it]\u001b[A\n",
            " 83%|████████▎ | 83/100 [17:37<03:37, 12.80s/it]\u001b[A\n",
            " 84%|████████▍ | 84/100 [17:50<03:23, 12.75s/it]\u001b[A\n",
            " 85%|████████▌ | 85/100 [18:03<03:14, 12.94s/it]\u001b[A\n",
            " 86%|████████▌ | 86/100 [18:16<03:00, 12.91s/it]\u001b[A\n",
            " 87%|████████▋ | 87/100 [18:29<02:47, 12.87s/it]\u001b[A\n",
            " 88%|████████▊ | 88/100 [18:41<02:32, 12.71s/it]\u001b[A\n",
            " 89%|████████▉ | 89/100 [18:54<02:20, 12.75s/it]\u001b[A\n",
            " 90%|█████████ | 90/100 [19:06<02:06, 12.62s/it]\u001b[A\n",
            " 91%|█████████ | 91/100 [19:19<01:54, 12.68s/it]\u001b[A\n",
            " 92%|█████████▏| 92/100 [19:33<01:42, 12.87s/it]\u001b[A\n",
            " 93%|█████████▎| 93/100 [19:45<01:30, 12.88s/it]\u001b[A\n",
            " 94%|█████████▍| 94/100 [19:58<01:17, 12.87s/it]\u001b[A\n",
            " 95%|█████████▌| 95/100 [20:11<01:03, 12.72s/it]\u001b[A\n",
            " 96%|█████████▌| 96/100 [20:23<00:50, 12.60s/it]\u001b[A\n",
            " 97%|█████████▋| 97/100 [20:35<00:37, 12.51s/it]\u001b[A\n",
            " 98%|█████████▊| 98/100 [20:48<00:25, 12.54s/it]\u001b[A\n",
            " 99%|█████████▉| 99/100 [21:01<00:12, 12.65s/it]\u001b[A\n",
            "100%|██████████| 100/100 [21:14<00:00, 12.74s/it]\n",
            " 20%|██        | 1/5 [21:14<1:24:56, 1274.13s/it]"
          ]
        },
        {
          "output_type": "stream",
          "name": "stdout",
          "text": [
            "Average loss for epoch = 0.4169 \n"
          ]
        },
        {
          "output_type": "stream",
          "name": "stderr",
          "text": [
            "\n",
            "  0%|          | 0/100 [00:00<?, ?it/s]\u001b[A\n",
            "  1%|          | 1/100 [00:12<21:22, 12.95s/it]\u001b[A\n",
            "  2%|▏         | 2/100 [00:26<21:25, 13.11s/it]\u001b[A\n",
            "  3%|▎         | 3/100 [00:39<20:59, 12.99s/it]\u001b[A\n",
            "  4%|▍         | 4/100 [00:51<20:21, 12.72s/it]\u001b[A\n",
            "  5%|▌         | 5/100 [01:04<20:31, 12.96s/it]\u001b[A\n",
            "  6%|▌         | 6/100 [01:17<20:28, 13.07s/it]\u001b[A\n",
            "  7%|▋         | 7/100 [01:30<19:51, 12.82s/it]\u001b[A\n",
            "  8%|▊         | 8/100 [01:43<19:36, 12.79s/it]\u001b[A\n",
            "  9%|▉         | 9/100 [01:55<19:21, 12.76s/it]\u001b[A\n",
            " 10%|█         | 10/100 [02:08<19:16, 12.85s/it]\u001b[A\n",
            " 11%|█         | 11/100 [02:21<18:59, 12.81s/it]\u001b[A\n",
            " 12%|█▏        | 12/100 [02:34<18:44, 12.78s/it]\u001b[A\n",
            " 13%|█▎        | 13/100 [02:46<18:19, 12.63s/it]\u001b[A\n",
            " 14%|█▍        | 14/100 [02:59<18:13, 12.71s/it]\u001b[A\n",
            " 15%|█▌        | 15/100 [03:12<18:02, 12.74s/it]\u001b[A\n",
            " 16%|█▌        | 16/100 [03:25<17:57, 12.82s/it]\u001b[A\n",
            " 17%|█▋        | 17/100 [03:37<17:43, 12.82s/it]\u001b[A\n",
            " 18%|█▊        | 18/100 [03:50<17:21, 12.70s/it]\u001b[A\n",
            " 19%|█▉        | 19/100 [04:03<17:09, 12.71s/it]\u001b[A\n",
            " 20%|██        | 20/100 [04:15<16:56, 12.70s/it]\u001b[A\n",
            " 21%|██        | 21/100 [04:28<16:47, 12.75s/it]\u001b[A\n",
            " 22%|██▏       | 22/100 [04:41<16:26, 12.65s/it]\u001b[A\n",
            " 23%|██▎       | 23/100 [04:54<16:19, 12.72s/it]\u001b[A\n",
            " 24%|██▍       | 24/100 [05:06<16:04, 12.70s/it]\u001b[A\n",
            " 25%|██▌       | 25/100 [05:19<15:49, 12.66s/it]\u001b[A\n",
            " 26%|██▌       | 26/100 [05:32<15:48, 12.82s/it]\u001b[A\n",
            " 27%|██▋       | 27/100 [05:45<15:36, 12.83s/it]\u001b[A\n",
            " 28%|██▊       | 28/100 [05:58<15:33, 12.96s/it]\u001b[A\n",
            " 29%|██▉       | 29/100 [06:10<15:07, 12.78s/it]\u001b[A\n",
            " 30%|███       | 30/100 [06:23<14:50, 12.73s/it]\u001b[A\n",
            " 31%|███       | 31/100 [06:36<14:36, 12.71s/it]\u001b[A\n",
            " 32%|███▏      | 32/100 [06:48<14:16, 12.60s/it]\u001b[A\n",
            " 33%|███▎      | 33/100 [07:01<14:02, 12.57s/it]\u001b[A\n",
            " 34%|███▍      | 34/100 [07:13<13:52, 12.61s/it]\u001b[A\n",
            " 35%|███▌      | 35/100 [07:26<13:44, 12.69s/it]\u001b[A\n",
            " 36%|███▌      | 36/100 [07:38<13:24, 12.58s/it]\u001b[A\n",
            " 37%|███▋      | 37/100 [07:51<13:10, 12.55s/it]\u001b[A\n",
            " 38%|███▊      | 38/100 [08:05<13:18, 12.89s/it]\u001b[A\n",
            " 39%|███▉      | 39/100 [08:18<13:20, 13.13s/it]\u001b[A\n",
            " 40%|████      | 40/100 [08:31<13:08, 13.15s/it]\u001b[A\n",
            " 41%|████      | 41/100 [08:44<12:41, 12.90s/it]\u001b[A\n",
            " 42%|████▏     | 42/100 [08:56<12:23, 12.82s/it]\u001b[A\n",
            " 43%|████▎     | 43/100 [09:09<12:10, 12.81s/it]\u001b[A\n",
            " 44%|████▍     | 44/100 [09:22<12:03, 12.93s/it]\u001b[A\n",
            " 45%|████▌     | 45/100 [09:35<11:45, 12.83s/it]\u001b[A\n",
            " 46%|████▌     | 46/100 [09:47<11:24, 12.68s/it]\u001b[A\n",
            " 47%|████▋     | 47/100 [10:00<11:13, 12.71s/it]\u001b[A\n",
            " 48%|████▊     | 48/100 [10:13<11:04, 12.77s/it]\u001b[A\n",
            " 49%|████▉     | 49/100 [10:26<10:51, 12.78s/it]\u001b[A\n",
            " 50%|█████     | 50/100 [10:38<10:34, 12.69s/it]\u001b[A\n",
            " 51%|█████     | 51/100 [10:52<10:35, 12.96s/it]\u001b[A\n",
            " 52%|█████▏    | 52/100 [11:05<10:20, 12.93s/it]\u001b[A\n",
            " 53%|█████▎    | 53/100 [11:18<10:06, 12.89s/it]\u001b[A\n",
            " 54%|█████▍    | 54/100 [11:30<09:52, 12.87s/it]\u001b[A\n",
            " 55%|█████▌    | 55/100 [11:44<09:43, 12.97s/it]\u001b[A\n",
            " 56%|█████▌    | 56/100 [11:57<09:38, 13.15s/it]\u001b[A\n",
            " 57%|█████▋    | 57/100 [12:10<09:20, 13.02s/it]\u001b[A\n",
            " 58%|█████▊    | 58/100 [12:22<08:57, 12.81s/it]\u001b[A\n",
            " 59%|█████▉    | 59/100 [12:35<08:44, 12.79s/it]\u001b[A\n",
            " 60%|██████    | 60/100 [12:47<08:25, 12.64s/it]\u001b[A\n",
            " 61%|██████    | 61/100 [13:00<08:13, 12.65s/it]\u001b[A\n",
            " 62%|██████▏   | 62/100 [13:13<08:00, 12.64s/it]\u001b[A\n",
            " 63%|██████▎   | 63/100 [13:25<07:46, 12.60s/it]\u001b[A\n",
            " 64%|██████▍   | 64/100 [13:38<07:38, 12.73s/it]\u001b[A\n",
            " 65%|██████▌   | 65/100 [13:51<07:25, 12.72s/it]\u001b[A\n",
            " 66%|██████▌   | 66/100 [14:04<07:16, 12.83s/it]\u001b[A\n",
            " 67%|██████▋   | 67/100 [14:17<07:06, 12.93s/it]\u001b[A\n",
            " 68%|██████▊   | 68/100 [14:30<06:54, 12.96s/it]\u001b[A\n",
            " 69%|██████▉   | 69/100 [14:42<06:35, 12.76s/it]\u001b[A\n",
            " 70%|███████   | 70/100 [14:55<06:20, 12.68s/it]\u001b[A\n",
            " 71%|███████   | 71/100 [15:08<06:08, 12.72s/it]\u001b[A\n",
            " 72%|███████▏  | 72/100 [15:20<05:52, 12.60s/it]\u001b[A\n",
            " 73%|███████▎  | 73/100 [15:32<05:37, 12.51s/it]\u001b[A\n",
            " 74%|███████▍  | 74/100 [15:45<05:23, 12.46s/it]\u001b[A\n",
            " 75%|███████▌  | 75/100 [15:58<05:16, 12.64s/it]\u001b[A\n",
            " 76%|███████▌  | 76/100 [16:10<05:02, 12.60s/it]\u001b[A\n",
            " 77%|███████▋  | 77/100 [16:22<04:47, 12.52s/it]\u001b[A\n",
            " 78%|███████▊  | 78/100 [16:35<04:38, 12.66s/it]\u001b[A\n",
            " 79%|███████▉  | 79/100 [16:48<04:23, 12.56s/it]\u001b[A\n",
            " 80%|████████  | 80/100 [17:01<04:13, 12.65s/it]\u001b[A\n",
            " 81%|████████  | 81/100 [17:14<04:03, 12.84s/it]\u001b[A\n",
            " 82%|████████▏ | 82/100 [17:26<03:48, 12.68s/it]\u001b[A\n",
            " 83%|████████▎ | 83/100 [17:39<03:36, 12.75s/it]\u001b[A\n",
            " 84%|████████▍ | 84/100 [17:52<03:24, 12.78s/it]\u001b[A\n",
            " 85%|████████▌ | 85/100 [18:04<03:09, 12.64s/it]\u001b[A\n",
            " 86%|████████▌ | 86/100 [18:17<02:56, 12.63s/it]\u001b[A\n",
            " 87%|████████▋ | 87/100 [18:30<02:45, 12.74s/it]\u001b[A\n",
            " 88%|████████▊ | 88/100 [18:44<02:37, 13.13s/it]\u001b[A\n",
            " 89%|████████▉ | 89/100 [18:57<02:23, 13.04s/it]\u001b[A\n",
            " 90%|█████████ | 90/100 [19:10<02:10, 13.04s/it]\u001b[A\n",
            " 91%|█████████ | 91/100 [19:23<01:57, 13.00s/it]\u001b[A\n",
            " 92%|█████████▏| 92/100 [19:35<01:42, 12.79s/it]\u001b[A\n",
            " 93%|█████████▎| 93/100 [19:48<01:30, 12.86s/it]\u001b[A\n",
            " 94%|█████████▍| 94/100 [20:01<01:16, 12.82s/it]\u001b[A\n",
            " 95%|█████████▌| 95/100 [20:13<01:03, 12.71s/it]\u001b[A\n",
            " 96%|█████████▌| 96/100 [20:26<00:50, 12.68s/it]\u001b[A\n",
            " 97%|█████████▋| 97/100 [20:38<00:37, 12.57s/it]\u001b[A\n",
            " 98%|█████████▊| 98/100 [20:51<00:25, 12.59s/it]\u001b[A\n",
            " 99%|█████████▉| 99/100 [21:04<00:12, 12.72s/it]\u001b[A\n",
            "100%|██████████| 100/100 [21:17<00:00, 12.78s/it]\n",
            " 40%|████      | 2/5 [42:31<1:03:48, 1276.25s/it]"
          ]
        },
        {
          "output_type": "stream",
          "name": "stdout",
          "text": [
            "Average loss for epoch = 0.3821 \n"
          ]
        },
        {
          "output_type": "stream",
          "name": "stderr",
          "text": [
            "\n",
            "  0%|          | 0/100 [00:00<?, ?it/s]\u001b[A\n",
            "  1%|          | 1/100 [00:13<22:20, 13.54s/it]\u001b[A\n",
            "  2%|▏         | 2/100 [00:26<21:15, 13.01s/it]\u001b[A\n",
            "  3%|▎         | 3/100 [00:38<20:30, 12.69s/it]\u001b[A\n",
            "  4%|▍         | 4/100 [00:50<20:03, 12.54s/it]\u001b[A\n",
            "  5%|▌         | 5/100 [01:03<20:07, 12.71s/it]\u001b[A\n",
            "  6%|▌         | 6/100 [01:16<20:04, 12.81s/it]\u001b[A\n",
            "  7%|▋         | 7/100 [01:29<19:56, 12.87s/it]\u001b[A\n",
            "  8%|▊         | 8/100 [01:42<19:27, 12.69s/it]\u001b[A\n",
            "  9%|▉         | 9/100 [01:54<19:19, 12.75s/it]\u001b[A\n",
            " 10%|█         | 10/100 [02:07<18:59, 12.66s/it]\u001b[A\n",
            " 11%|█         | 11/100 [02:19<18:37, 12.56s/it]\u001b[A\n",
            " 12%|█▏        | 12/100 [02:33<19:00, 12.96s/it]\u001b[A\n",
            " 13%|█▎        | 13/100 [02:46<18:40, 12.88s/it]\u001b[A\n",
            " 14%|█▍        | 14/100 [02:58<18:12, 12.71s/it]\u001b[A\n",
            " 15%|█▌        | 15/100 [03:11<18:04, 12.76s/it]\u001b[A\n",
            " 16%|█▌        | 16/100 [03:24<17:54, 12.79s/it]\u001b[A\n",
            " 17%|█▋        | 17/100 [03:36<17:33, 12.69s/it]\u001b[A\n",
            " 18%|█▊        | 18/100 [03:49<17:21, 12.70s/it]\u001b[A\n",
            " 19%|█▉        | 19/100 [04:02<17:12, 12.75s/it]\u001b[A\n",
            " 20%|██        | 20/100 [04:14<16:49, 12.62s/it]\u001b[A\n",
            " 21%|██        | 21/100 [04:27<16:42, 12.69s/it]\u001b[A\n",
            " 22%|██▏       | 22/100 [04:40<16:32, 12.72s/it]\u001b[A\n",
            " 23%|██▎       | 23/100 [04:53<16:30, 12.87s/it]\u001b[A\n",
            " 24%|██▍       | 24/100 [05:06<16:14, 12.82s/it]\u001b[A\n",
            " 25%|██▌       | 25/100 [05:19<16:01, 12.82s/it]\u001b[A\n",
            " 26%|██▌       | 26/100 [05:31<15:48, 12.82s/it]\u001b[A\n",
            " 27%|██▋       | 27/100 [05:45<15:44, 12.94s/it]\u001b[A\n",
            " 28%|██▊       | 28/100 [05:58<15:29, 12.90s/it]\u001b[A\n",
            " 29%|██▉       | 29/100 [06:10<15:07, 12.78s/it]\u001b[A\n",
            " 30%|███       | 30/100 [06:23<15:08, 12.98s/it]\u001b[A\n",
            " 31%|███       | 31/100 [06:36<14:45, 12.84s/it]\u001b[A\n",
            " 32%|███▏      | 32/100 [06:49<14:37, 12.91s/it]\u001b[A\n",
            " 33%|███▎      | 33/100 [07:02<14:22, 12.87s/it]\u001b[A\n",
            " 34%|███▍      | 34/100 [07:14<13:58, 12.71s/it]\u001b[A\n",
            " 35%|███▌      | 35/100 [07:27<13:45, 12.71s/it]\u001b[A\n",
            " 36%|███▌      | 36/100 [07:40<13:41, 12.83s/it]\u001b[A\n",
            " 37%|███▋      | 37/100 [07:53<13:28, 12.83s/it]\u001b[A\n",
            " 38%|███▊      | 38/100 [08:06<13:27, 13.02s/it]\u001b[A\n",
            " 39%|███▉      | 39/100 [08:19<13:07, 12.90s/it]\u001b[A\n",
            " 40%|████      | 40/100 [08:32<12:54, 12.91s/it]\u001b[A\n",
            " 41%|████      | 41/100 [08:44<12:34, 12.79s/it]\u001b[A\n",
            " 42%|████▏     | 42/100 [08:57<12:18, 12.74s/it]\u001b[A\n",
            " 43%|████▎     | 43/100 [09:09<11:58, 12.61s/it]\u001b[A\n",
            " 44%|████▍     | 44/100 [09:22<11:50, 12.69s/it]\u001b[A\n",
            " 45%|████▌     | 45/100 [09:34<11:31, 12.57s/it]\u001b[A\n",
            " 46%|████▌     | 46/100 [09:47<11:18, 12.56s/it]\u001b[A\n",
            " 47%|████▋     | 47/100 [10:00<11:07, 12.60s/it]\u001b[A\n",
            " 48%|████▊     | 48/100 [10:12<10:56, 12.63s/it]\u001b[A\n",
            " 49%|████▉     | 49/100 [10:25<10:46, 12.68s/it]\u001b[A\n",
            " 50%|█████     | 50/100 [10:38<10:33, 12.66s/it]\u001b[A\n",
            " 51%|█████     | 51/100 [10:51<10:26, 12.78s/it]\u001b[A\n",
            " 52%|█████▏    | 52/100 [11:04<10:12, 12.76s/it]\u001b[A\n",
            " 53%|█████▎    | 53/100 [11:17<10:05, 12.89s/it]\u001b[A\n",
            " 54%|█████▍    | 54/100 [11:29<09:51, 12.86s/it]\u001b[A\n",
            " 55%|█████▌    | 55/100 [11:43<09:40, 12.91s/it]\u001b[A\n",
            " 56%|█████▌    | 56/100 [11:55<09:20, 12.73s/it]\u001b[A\n",
            " 57%|█████▋    | 57/100 [12:08<09:08, 12.75s/it]\u001b[A\n",
            " 58%|█████▊    | 58/100 [12:20<08:53, 12.71s/it]\u001b[A\n",
            " 59%|█████▉    | 59/100 [12:33<08:45, 12.83s/it]\u001b[A\n",
            " 60%|██████    | 60/100 [12:47<08:39, 12.99s/it]\u001b[A\n",
            " 61%|██████    | 61/100 [13:00<08:29, 13.06s/it]\u001b[A\n",
            " 62%|██████▏   | 62/100 [13:12<08:07, 12.84s/it]\u001b[A\n",
            " 63%|██████▎   | 63/100 [13:25<07:51, 12.74s/it]\u001b[A\n",
            " 64%|██████▍   | 64/100 [13:38<07:38, 12.74s/it]\u001b[A\n",
            " 65%|██████▌   | 65/100 [13:50<07:24, 12.70s/it]\u001b[A\n",
            " 66%|██████▌   | 66/100 [14:03<07:15, 12.82s/it]\u001b[A\n",
            " 67%|██████▋   | 67/100 [14:16<07:06, 12.94s/it]\u001b[A\n",
            " 68%|██████▊   | 68/100 [14:29<06:48, 12.75s/it]\u001b[A\n",
            " 69%|██████▉   | 69/100 [14:42<06:37, 12.83s/it]\u001b[A\n",
            " 70%|███████   | 70/100 [14:55<06:26, 12.88s/it]\u001b[A\n",
            " 71%|███████   | 71/100 [15:08<06:16, 12.98s/it]\u001b[A\n",
            " 72%|███████▏  | 72/100 [15:21<06:00, 12.87s/it]\u001b[A\n",
            " 73%|███████▎  | 73/100 [15:33<05:42, 12.70s/it]\u001b[A\n",
            " 74%|███████▍  | 74/100 [15:46<05:29, 12.69s/it]\u001b[A\n",
            " 75%|███████▌  | 75/100 [15:58<05:17, 12.69s/it]\u001b[A\n",
            " 76%|███████▌  | 76/100 [16:11<05:05, 12.74s/it]\u001b[A\n",
            " 77%|███████▋  | 77/100 [16:23<04:50, 12.61s/it]\u001b[A\n",
            " 78%|███████▊  | 78/100 [16:36<04:36, 12.58s/it]\u001b[A\n",
            " 79%|███████▉  | 79/100 [16:48<04:23, 12.56s/it]\u001b[A\n",
            " 80%|████████  | 80/100 [17:01<04:13, 12.67s/it]\u001b[A\n",
            " 81%|████████  | 81/100 [17:14<04:01, 12.74s/it]\u001b[A\n",
            " 82%|████████▏ | 82/100 [17:27<03:46, 12.61s/it]\u001b[A\n",
            " 83%|████████▎ | 83/100 [17:39<03:35, 12.69s/it]\u001b[A\n",
            " 84%|████████▍ | 84/100 [17:52<03:23, 12.70s/it]\u001b[A\n",
            " 85%|████████▌ | 85/100 [18:05<03:09, 12.64s/it]\u001b[A\n",
            " 86%|████████▌ | 86/100 [18:17<02:56, 12.63s/it]\u001b[A\n",
            " 87%|████████▋ | 87/100 [18:30<02:43, 12.59s/it]\u001b[A\n",
            " 88%|████████▊ | 88/100 [18:43<02:32, 12.72s/it]\u001b[A\n",
            " 89%|████████▉ | 89/100 [18:55<02:19, 12.64s/it]\u001b[A\n",
            " 90%|█████████ | 90/100 [19:08<02:06, 12.61s/it]\u001b[A\n",
            " 91%|█████████ | 91/100 [19:20<01:52, 12.52s/it]\u001b[A\n",
            " 92%|█████████▏| 92/100 [19:33<01:40, 12.58s/it]\u001b[A\n",
            " 93%|█████████▎| 93/100 [19:46<01:28, 12.71s/it]\u001b[A\n",
            " 94%|█████████▍| 94/100 [19:59<01:16, 12.76s/it]\u001b[A\n",
            " 95%|█████████▌| 95/100 [20:11<01:03, 12.75s/it]\u001b[A\n",
            " 96%|█████████▌| 96/100 [20:24<00:51, 12.78s/it]\u001b[A\n",
            " 97%|█████████▋| 97/100 [20:38<00:38, 12.93s/it]\u001b[A\n",
            " 98%|█████████▊| 98/100 [20:50<00:25, 12.81s/it]\u001b[A\n",
            " 99%|█████████▉| 99/100 [21:04<00:13, 13.05s/it]\u001b[A\n",
            "100%|██████████| 100/100 [21:16<00:00, 12.77s/it]\n",
            " 60%|██████    | 3/5 [1:03:48<42:33, 1276.52s/it]"
          ]
        },
        {
          "output_type": "stream",
          "name": "stdout",
          "text": [
            "Average loss for epoch = 0.3521 \n"
          ]
        },
        {
          "output_type": "stream",
          "name": "stderr",
          "text": [
            "\n",
            "  0%|          | 0/100 [00:00<?, ?it/s]\u001b[A\n",
            "  1%|          | 1/100 [00:12<20:57, 12.70s/it]\u001b[A\n",
            "  2%|▏         | 2/100 [00:25<21:08, 12.94s/it]\u001b[A\n",
            "  3%|▎         | 3/100 [00:38<20:43, 12.82s/it]\u001b[A\n",
            "  4%|▍         | 4/100 [00:51<20:33, 12.85s/it]\u001b[A\n",
            "  5%|▌         | 5/100 [01:04<20:31, 12.97s/it]\u001b[A\n",
            "  6%|▌         | 6/100 [01:18<20:35, 13.15s/it]\u001b[A\n",
            "  7%|▋         | 7/100 [01:30<20:02, 12.93s/it]\u001b[A\n",
            "  8%|▊         | 8/100 [01:42<19:30, 12.73s/it]\u001b[A\n",
            "  9%|▉         | 9/100 [01:55<19:20, 12.75s/it]\u001b[A\n",
            " 10%|█         | 10/100 [02:08<19:04, 12.71s/it]\u001b[A\n",
            " 11%|█         | 11/100 [02:21<19:01, 12.83s/it]\u001b[A\n",
            " 12%|█▏        | 12/100 [02:33<18:43, 12.77s/it]\u001b[A\n",
            " 13%|█▎        | 13/100 [02:46<18:28, 12.75s/it]\u001b[A\n",
            " 14%|█▍        | 14/100 [02:59<18:10, 12.68s/it]\u001b[A\n",
            " 15%|█▌        | 15/100 [03:12<18:11, 12.84s/it]\u001b[A\n",
            " 16%|█▌        | 16/100 [03:25<18:10, 12.98s/it]\u001b[A\n",
            " 17%|█▋        | 17/100 [03:38<17:50, 12.89s/it]\u001b[A\n",
            " 18%|█▊        | 18/100 [03:51<17:33, 12.84s/it]\u001b[A\n",
            " 19%|█▉        | 19/100 [04:04<17:35, 13.03s/it]\u001b[A\n",
            " 20%|██        | 20/100 [04:17<17:18, 12.99s/it]\u001b[A\n",
            " 21%|██        | 21/100 [04:30<17:07, 13.01s/it]\u001b[A\n",
            " 22%|██▏       | 22/100 [04:42<16:38, 12.80s/it]\u001b[A\n",
            " 23%|██▎       | 23/100 [04:55<16:18, 12.71s/it]\u001b[A\n",
            " 24%|██▍       | 24/100 [05:07<16:00, 12.64s/it]\u001b[A\n",
            " 25%|██▌       | 25/100 [05:20<15:56, 12.75s/it]\u001b[A\n",
            " 26%|██▌       | 26/100 [05:33<15:40, 12.71s/it]\u001b[A\n",
            " 27%|██▋       | 27/100 [05:46<15:25, 12.68s/it]\u001b[A\n",
            " 28%|██▊       | 28/100 [05:58<15:08, 12.61s/it]\u001b[A\n",
            " 29%|██▉       | 29/100 [06:11<14:53, 12.58s/it]\u001b[A\n",
            " 30%|███       | 30/100 [06:24<14:49, 12.71s/it]\u001b[A\n",
            " 31%|███       | 31/100 [06:36<14:38, 12.74s/it]\u001b[A\n",
            " 32%|███▏      | 32/100 [06:49<14:24, 12.71s/it]\u001b[A\n",
            " 33%|███▎      | 33/100 [07:02<14:11, 12.70s/it]\u001b[A\n",
            " 34%|███▍      | 34/100 [07:14<13:56, 12.68s/it]\u001b[A\n",
            " 35%|███▌      | 35/100 [07:27<13:44, 12.69s/it]\u001b[A\n",
            " 36%|███▌      | 36/100 [07:40<13:46, 12.91s/it]\u001b[A\n",
            " 37%|███▋      | 37/100 [07:53<13:25, 12.78s/it]\u001b[A\n",
            " 38%|███▊      | 38/100 [08:06<13:11, 12.76s/it]\u001b[A\n",
            " 39%|███▉      | 39/100 [08:18<12:50, 12.63s/it]\u001b[A\n",
            " 40%|████      | 40/100 [08:31<12:37, 12.63s/it]\u001b[A\n",
            " 41%|████      | 41/100 [08:44<12:35, 12.81s/it]\u001b[A\n",
            " 42%|████▏     | 42/100 [08:57<12:21, 12.78s/it]\u001b[A\n",
            " 43%|████▎     | 43/100 [09:09<12:00, 12.64s/it]\u001b[A\n",
            " 44%|████▍     | 44/100 [09:22<11:56, 12.80s/it]\u001b[A\n",
            " 45%|████▌     | 45/100 [09:34<11:36, 12.66s/it]\u001b[A\n",
            " 46%|████▌     | 46/100 [09:47<11:24, 12.67s/it]\u001b[A\n",
            " 47%|████▋     | 47/100 [10:01<11:31, 13.06s/it]\u001b[A\n",
            " 48%|████▊     | 48/100 [10:13<11:09, 12.88s/it]\u001b[A\n",
            " 49%|████▉     | 49/100 [10:26<10:48, 12.72s/it]\u001b[A\n",
            " 50%|█████     | 50/100 [10:38<10:35, 12.71s/it]\u001b[A\n",
            " 51%|█████     | 51/100 [10:51<10:25, 12.76s/it]\u001b[A\n",
            " 52%|█████▏    | 52/100 [11:04<10:11, 12.75s/it]\u001b[A\n",
            " 53%|█████▎    | 53/100 [11:17<10:03, 12.84s/it]\u001b[A\n",
            " 54%|█████▍    | 54/100 [11:30<09:48, 12.80s/it]\u001b[A\n",
            " 55%|█████▌    | 55/100 [11:43<09:39, 12.88s/it]\u001b[A\n",
            " 56%|█████▌    | 56/100 [11:56<09:28, 12.92s/it]\u001b[A\n",
            " 57%|█████▋    | 57/100 [12:10<09:34, 13.36s/it]\u001b[A\n",
            " 58%|█████▊    | 58/100 [12:23<09:10, 13.10s/it]\u001b[A\n",
            " 59%|█████▉    | 59/100 [12:36<08:56, 13.07s/it]\u001b[A\n",
            " 60%|██████    | 60/100 [12:49<08:40, 13.02s/it]\u001b[A\n",
            " 61%|██████    | 61/100 [13:02<08:27, 13.03s/it]\u001b[A\n",
            " 62%|██████▏   | 62/100 [13:14<08:06, 12.81s/it]\u001b[A\n",
            " 63%|██████▎   | 63/100 [13:27<07:58, 12.95s/it]\u001b[A\n",
            " 64%|██████▍   | 64/100 [13:40<07:44, 12.90s/it]\u001b[A\n",
            " 65%|██████▌   | 65/100 [13:52<07:25, 12.72s/it]\u001b[A\n",
            " 66%|██████▌   | 66/100 [14:05<07:09, 12.65s/it]\u001b[A\n",
            " 67%|██████▋   | 67/100 [14:18<06:59, 12.71s/it]\u001b[A\n",
            " 68%|██████▊   | 68/100 [14:30<06:42, 12.59s/it]\u001b[A\n",
            " 69%|██████▉   | 69/100 [14:43<06:34, 12.73s/it]\u001b[A\n",
            " 70%|███████   | 70/100 [14:56<06:19, 12.66s/it]\u001b[A\n",
            " 71%|███████   | 71/100 [15:08<06:06, 12.64s/it]\u001b[A\n",
            " 72%|███████▏  | 72/100 [15:21<05:57, 12.75s/it]\u001b[A\n",
            " 73%|███████▎  | 73/100 [15:34<05:42, 12.67s/it]\u001b[A\n",
            " 74%|███████▍  | 74/100 [15:46<05:28, 12.65s/it]\u001b[A\n",
            " 75%|███████▌  | 75/100 [15:59<05:15, 12.61s/it]\u001b[A\n",
            " 76%|███████▌  | 76/100 [16:11<05:01, 12.57s/it]\u001b[A\n",
            " 77%|███████▋  | 77/100 [16:24<04:49, 12.57s/it]\u001b[A\n",
            " 78%|███████▊  | 78/100 [16:36<04:36, 12.55s/it]\u001b[A\n",
            " 79%|███████▉  | 79/100 [16:49<04:25, 12.62s/it]\u001b[A\n",
            " 80%|████████  | 80/100 [17:02<04:14, 12.71s/it]\u001b[A\n",
            " 81%|████████  | 81/100 [17:15<04:03, 12.82s/it]\u001b[A\n",
            " 82%|████████▏ | 82/100 [17:28<03:51, 12.85s/it]\u001b[A\n",
            " 83%|████████▎ | 83/100 [17:41<03:37, 12.81s/it]\u001b[A\n",
            " 84%|████████▍ | 84/100 [17:53<03:22, 12.66s/it]\u001b[A\n",
            " 85%|████████▌ | 85/100 [18:06<03:09, 12.64s/it]\u001b[A\n",
            " 86%|████████▌ | 86/100 [18:19<02:57, 12.70s/it]\u001b[A\n",
            " 87%|████████▋ | 87/100 [18:31<02:45, 12.75s/it]\u001b[A\n",
            " 88%|████████▊ | 88/100 [18:44<02:33, 12.77s/it]\u001b[A\n",
            " 89%|████████▉ | 89/100 [18:57<02:20, 12.75s/it]\u001b[A\n",
            " 90%|█████████ | 90/100 [19:09<02:06, 12.66s/it]\u001b[A\n",
            " 91%|█████████ | 91/100 [19:22<01:54, 12.67s/it]\u001b[A\n",
            " 92%|█████████▏| 92/100 [19:35<01:41, 12.71s/it]\u001b[A\n",
            " 93%|█████████▎| 93/100 [19:47<01:28, 12.59s/it]\u001b[A\n",
            " 94%|█████████▍| 94/100 [20:00<01:16, 12.71s/it]\u001b[A\n",
            " 95%|█████████▌| 95/100 [20:13<01:04, 12.80s/it]\u001b[A\n",
            " 96%|█████████▌| 96/100 [20:26<00:50, 12.75s/it]\u001b[A\n",
            " 97%|█████████▋| 97/100 [20:38<00:38, 12.73s/it]\u001b[A\n",
            " 98%|█████████▊| 98/100 [20:52<00:25, 12.87s/it]\u001b[A\n",
            " 99%|█████████▉| 99/100 [21:04<00:12, 12.70s/it]\u001b[A\n",
            "100%|██████████| 100/100 [21:16<00:00, 12.77s/it]\n",
            " 80%|████████  | 4/5 [1:25:05<21:16, 1276.68s/it]"
          ]
        },
        {
          "output_type": "stream",
          "name": "stdout",
          "text": [
            "Average loss for epoch = 0.3125 \n"
          ]
        },
        {
          "output_type": "stream",
          "name": "stderr",
          "text": [
            "\n",
            "  0%|          | 0/100 [00:00<?, ?it/s]\u001b[A\n",
            "  1%|          | 1/100 [00:12<21:26, 12.99s/it]\u001b[A\n",
            "  2%|▏         | 2/100 [00:25<20:56, 12.82s/it]\u001b[A\n",
            "  3%|▎         | 3/100 [00:38<20:47, 12.86s/it]\u001b[A\n",
            "  4%|▍         | 4/100 [00:51<20:35, 12.86s/it]\u001b[A\n",
            "  5%|▌         | 5/100 [01:04<20:20, 12.85s/it]\u001b[A\n",
            "  6%|▌         | 6/100 [01:17<20:09, 12.87s/it]\u001b[A\n",
            "  7%|▋         | 7/100 [01:30<19:54, 12.85s/it]\u001b[A\n",
            "  8%|▊         | 8/100 [01:42<19:46, 12.89s/it]\u001b[A\n",
            "  9%|▉         | 9/100 [01:55<19:25, 12.81s/it]\u001b[A\n",
            " 10%|█         | 10/100 [02:08<19:10, 12.78s/it]\u001b[A\n",
            " 11%|█         | 11/100 [02:21<18:58, 12.79s/it]\u001b[A\n",
            " 12%|█▏        | 12/100 [02:34<18:48, 12.83s/it]\u001b[A\n",
            " 13%|█▎        | 13/100 [02:46<18:30, 12.76s/it]\u001b[A\n",
            " 14%|█▍        | 14/100 [02:59<18:12, 12.71s/it]\u001b[A\n",
            " 15%|█▌        | 15/100 [03:11<17:54, 12.64s/it]\u001b[A\n",
            " 16%|█▌        | 16/100 [03:24<17:50, 12.75s/it]\u001b[A\n",
            " 17%|█▋        | 17/100 [03:37<17:39, 12.77s/it]\u001b[A\n",
            " 18%|█▊        | 18/100 [03:50<17:35, 12.87s/it]\u001b[A\n",
            " 19%|█▉        | 19/100 [04:03<17:13, 12.76s/it]\u001b[A\n",
            " 20%|██        | 20/100 [04:16<17:04, 12.81s/it]\u001b[A\n",
            " 21%|██        | 21/100 [04:28<16:45, 12.73s/it]\u001b[A\n",
            " 22%|██▏       | 22/100 [04:41<16:32, 12.72s/it]\u001b[A\n",
            " 23%|██▎       | 23/100 [04:54<16:32, 12.89s/it]\u001b[A\n",
            " 24%|██▍       | 24/100 [05:07<16:10, 12.77s/it]\u001b[A\n",
            " 25%|██▌       | 25/100 [05:19<15:55, 12.75s/it]\u001b[A\n",
            " 26%|██▌       | 26/100 [05:32<15:51, 12.85s/it]\u001b[A\n",
            " 27%|██▋       | 27/100 [05:45<15:37, 12.84s/it]\u001b[A\n",
            " 28%|██▊       | 28/100 [05:58<15:24, 12.84s/it]\u001b[A\n",
            " 29%|██▉       | 29/100 [06:10<15:00, 12.68s/it]\u001b[A\n",
            " 30%|███       | 30/100 [06:23<14:44, 12.63s/it]\u001b[A\n",
            " 31%|███       | 31/100 [06:36<14:35, 12.68s/it]\u001b[A\n",
            " 32%|███▏      | 32/100 [06:49<14:26, 12.74s/it]\u001b[A\n",
            " 33%|███▎      | 33/100 [07:02<14:20, 12.84s/it]\u001b[A\n",
            " 34%|███▍      | 34/100 [07:15<14:11, 12.91s/it]\u001b[A\n",
            " 35%|███▌      | 35/100 [07:27<13:50, 12.78s/it]\u001b[A\n",
            " 36%|███▌      | 36/100 [07:39<13:28, 12.64s/it]\u001b[A\n",
            " 37%|███▋      | 37/100 [07:52<13:23, 12.75s/it]\u001b[A\n",
            " 38%|███▊      | 38/100 [08:05<13:02, 12.62s/it]\u001b[A\n",
            " 39%|███▉      | 39/100 [08:18<12:53, 12.68s/it]\u001b[A\n",
            " 40%|████      | 40/100 [08:31<12:54, 12.90s/it]\u001b[A\n",
            " 41%|████      | 41/100 [08:43<12:30, 12.72s/it]\u001b[A\n",
            " 42%|████▏     | 42/100 [08:56<12:22, 12.81s/it]\u001b[A\n",
            " 43%|████▎     | 43/100 [09:09<12:05, 12.72s/it]\u001b[A\n",
            " 44%|████▍     | 44/100 [09:21<11:45, 12.60s/it]\u001b[A\n",
            " 45%|████▌     | 45/100 [09:34<11:41, 12.75s/it]\u001b[A\n",
            " 46%|████▌     | 46/100 [09:47<11:24, 12.67s/it]\u001b[A\n",
            " 47%|████▋     | 47/100 [10:00<11:15, 12.74s/it]\u001b[A\n",
            " 48%|████▊     | 48/100 [10:12<11:02, 12.73s/it]\u001b[A\n",
            " 49%|████▉     | 49/100 [10:25<10:49, 12.73s/it]\u001b[A\n",
            " 50%|█████     | 50/100 [10:38<10:36, 12.73s/it]\u001b[A\n",
            " 51%|█████     | 51/100 [10:50<10:17, 12.61s/it]\u001b[A\n",
            " 52%|█████▏    | 52/100 [11:03<10:13, 12.78s/it]\u001b[A\n",
            " 53%|█████▎    | 53/100 [11:16<09:58, 12.73s/it]\u001b[A\n",
            " 54%|█████▍    | 54/100 [11:29<09:46, 12.75s/it]\u001b[A\n",
            " 55%|█████▌    | 55/100 [11:41<09:32, 12.72s/it]\u001b[A\n",
            " 56%|█████▌    | 56/100 [11:54<09:20, 12.74s/it]\u001b[A\n",
            " 57%|█████▋    | 57/100 [12:07<09:08, 12.76s/it]\u001b[A\n",
            " 58%|█████▊    | 58/100 [12:20<08:58, 12.81s/it]\u001b[A\n",
            " 59%|█████▉    | 59/100 [12:32<08:39, 12.66s/it]\u001b[A\n",
            " 60%|██████    | 60/100 [12:45<08:24, 12.60s/it]\u001b[A\n",
            " 61%|██████    | 61/100 [12:57<08:11, 12.61s/it]\u001b[A\n",
            " 62%|██████▏   | 62/100 [13:10<07:58, 12.58s/it]\u001b[A\n",
            " 63%|██████▎   | 63/100 [13:23<07:55, 12.85s/it]\u001b[A\n",
            " 64%|██████▍   | 64/100 [13:36<07:41, 12.83s/it]\u001b[A\n",
            " 65%|██████▌   | 65/100 [13:49<07:26, 12.77s/it]\u001b[A\n",
            " 66%|██████▌   | 66/100 [14:02<07:24, 13.06s/it]\u001b[A\n",
            " 67%|██████▋   | 67/100 [14:16<07:10, 13.05s/it]\u001b[A\n",
            " 68%|██████▊   | 68/100 [14:28<06:54, 12.95s/it]\u001b[A\n",
            " 69%|██████▉   | 69/100 [14:41<06:40, 12.93s/it]\u001b[A\n",
            " 70%|███████   | 70/100 [14:53<06:22, 12.74s/it]\u001b[A\n",
            " 71%|███████   | 71/100 [15:06<06:10, 12.79s/it]\u001b[A\n",
            " 72%|███████▏  | 72/100 [15:19<06:00, 12.88s/it]\u001b[A\n",
            " 73%|███████▎  | 73/100 [15:32<05:49, 12.94s/it]\u001b[A\n",
            " 74%|███████▍  | 74/100 [15:45<05:31, 12.76s/it]\u001b[A\n",
            " 75%|███████▌  | 75/100 [15:58<05:20, 12.80s/it]\u001b[A\n",
            " 76%|███████▌  | 76/100 [16:10<05:05, 12.73s/it]\u001b[A\n",
            " 77%|███████▋  | 77/100 [16:23<04:50, 12.65s/it]\u001b[A\n",
            " 78%|███████▊  | 78/100 [16:36<04:39, 12.72s/it]\u001b[A\n",
            " 79%|███████▉  | 79/100 [16:49<04:32, 12.99s/it]\u001b[A\n",
            " 80%|████████  | 80/100 [17:02<04:16, 12.85s/it]\u001b[A\n",
            " 81%|████████  | 81/100 [17:15<04:03, 12.84s/it]\u001b[A\n",
            " 82%|████████▏ | 82/100 [17:27<03:50, 12.79s/it]\u001b[A\n",
            " 83%|████████▎ | 83/100 [17:41<03:40, 12.98s/it]\u001b[A\n",
            " 84%|████████▍ | 84/100 [17:53<03:25, 12.84s/it]\u001b[A\n",
            " 85%|████████▌ | 85/100 [18:06<03:11, 12.78s/it]\u001b[A\n",
            " 86%|████████▌ | 86/100 [18:19<03:00, 12.91s/it]\u001b[A\n",
            " 87%|████████▋ | 87/100 [18:33<02:50, 13.12s/it]\u001b[A\n",
            " 88%|████████▊ | 88/100 [18:45<02:35, 12.97s/it]\u001b[A\n",
            " 89%|████████▉ | 89/100 [18:58<02:22, 12.95s/it]\u001b[A\n",
            " 90%|█████████ | 90/100 [19:10<02:07, 12.76s/it]\u001b[A\n",
            " 91%|█████████ | 91/100 [19:23<01:54, 12.75s/it]\u001b[A\n",
            " 92%|█████████▏| 92/100 [19:36<01:40, 12.62s/it]\u001b[A\n",
            " 93%|█████████▎| 93/100 [19:49<01:29, 12.80s/it]\u001b[A\n",
            " 94%|█████████▍| 94/100 [20:01<01:16, 12.70s/it]\u001b[A\n",
            " 95%|█████████▌| 95/100 [20:14<01:03, 12.64s/it]\u001b[A\n",
            " 96%|█████████▌| 96/100 [20:27<00:50, 12.71s/it]\u001b[A\n",
            " 97%|█████████▋| 97/100 [20:40<00:38, 12.85s/it]\u001b[A\n",
            " 98%|█████████▊| 98/100 [20:53<00:25, 12.84s/it]\u001b[A\n",
            " 99%|█████████▉| 99/100 [21:06<00:12, 12.90s/it]\u001b[A\n",
            "100%|██████████| 100/100 [21:18<00:00, 12.79s/it]\n",
            "100%|██████████| 5/5 [1:46:24<00:00, 1276.90s/it]"
          ]
        },
        {
          "output_type": "stream",
          "name": "stdout",
          "text": [
            "Average loss for epoch = 0.2921 \n"
          ]
        },
        {
          "output_type": "stream",
          "name": "stderr",
          "text": [
            "\n"
          ]
        }
      ],
      "source": [
        "import tqdm as tqdm\n",
        "import matplotlib.pyplot as plt\n",
        "# Perform training loop for n epochs\n",
        "loss_list = []\n",
        "n_epochs = 5\n",
        "model.train()\n",
        "for epoch in tqdm.tqdm(range(n_epochs)):\n",
        "    loss_epoch = []\n",
        "    iteration=1\n",
        "    for images,targets in tqdm.tqdm(data_loader):\n",
        "\n",
        "        images = list(image.to(device) for image in images)\n",
        "        targets = [{k: v.to(device) for k, v in t.items()} for t in targets]\n",
        "        optimizer.zero_grad()\n",
        "        model=model.double()\n",
        "        loss_dict = model(images, targets)\n",
        "        losses = sum(loss for loss in loss_dict.values())\n",
        "        losses.backward()       \n",
        "        optimizer.step()\n",
        "        # print('loss:', losses.item())\n",
        "        # loss_epoch.append(losses.item())\n",
        "        loss_epoch.append(losses.item())\n",
        "        # Plot loss every 10th iteration\n",
        "\n",
        "        iteration+=1\n",
        "    loss_epoch_mean = np.mean(loss_epoch) \n",
        "    loss_list.append(loss_epoch_mean) \n",
        "    # loss_list.append(loss_epoch_mean)    \n",
        "    print(\"Average loss for epoch = {:.4f} \".format(loss_epoch_mean))\n",
        "\n",
        "\n",
        "   "
      ]
    },
    {
      "cell_type": "code",
      "source": [
        "loss_list"
      ],
      "metadata": {
        "colab": {
          "base_uri": "https://localhost:8080/"
        },
        "id": "Wgg4Ln3ngcIn",
        "outputId": "bc260b76-3091-4769-d49d-ee12c54b9868"
      },
      "execution_count": null,
      "outputs": [
        {
          "output_type": "execute_result",
          "data": {
            "text/plain": [
              "[0.4168564888784563,\n",
              " 0.3821436175496433,\n",
              " 0.35210860223498414,\n",
              " 0.3124626321385223,\n",
              " 0.2920605676793864]"
            ]
          },
          "metadata": {},
          "execution_count": 25
        }
      ]
    },
    {
      "cell_type": "code",
      "source": [
        "save_path = '/content/Magnetic-tile-defect-datasets./Models/'+str('model1.pth')\n",
        "torch.save(model.state_dict(), save_path)"
      ],
      "metadata": {
        "id": "gz1A9MAghEXQ"
      },
      "execution_count": null,
      "outputs": []
    },
    {
      "cell_type": "code",
      "source": [
        "# Plot training loss\n",
        "plt.plot(list(range(n_epochs)), loss_list, label='traning loss')\n",
        "plt.legend()\n",
        "plt.xlabel(\"Epoch\")\n",
        "plt.ylabel(\"Loss\")\n",
        "plt.show()"
      ],
      "metadata": {
        "colab": {
          "base_uri": "https://localhost:8080/",
          "height": 279
        },
        "id": "jRUaA6lGiilB",
        "outputId": "76c98ab5-3a64-485e-f710-83c905d16f18"
      },
      "execution_count": null,
      "outputs": [
        {
          "output_type": "display_data",
          "data": {
            "text/plain": [
              "<Figure size 432x288 with 1 Axes>"
            ],
            "image/png": "[encoded data removed]"
          },
          "metadata": {
            "needs_background": "light"
          }
        }
      ]
    },
    {
      "cell_type": "code",
      "source": [
        "# Load previously trained model \n",
        "model.load_state_dict(torch.load(save_path))"
      ],
      "metadata": {
        "colab": {
          "base_uri": "https://localhost:8080/"
        },
        "id": "Vom0D19njLzu",
        "outputId": "642fd8d4-b702-47ac-f231-cb86a823fc21"
      },
      "execution_count": null,
      "outputs": [
        {
          "output_type": "execute_result",
          "data": {
            "text/plain": [
              "<All keys matched successfully>"
            ]
          },
          "metadata": {},
          "execution_count": 28
        }
      ]
    },
    {
      "cell_type": "code",
      "source": [
        "model.to(device)# move model to the right devic\n",
        "model.eval()"
      ],
      "metadata": {
        "colab": {
          "base_uri": "https://localhost:8080/"
        },
        "id": "dI4UctPUzyt0",
        "outputId": "0467c097-5762-4c2f-999e-609927f7abc6"
      },
      "execution_count": null,
      "outputs": [
        {
          "output_type": "execute_result",
          "data": {
            "text/plain": [
              "MaskRCNN(\n",
              "  (transform): GeneralizedRCNNTransform(\n",
              "      Normalize(mean=[0.485, 0.456, 0.406], std=[0.229, 0.224, 0.225])\n",
              "      Resize(min_size=(800,), max_size=1333, mode='bilinear')\n",
              "  )\n",
              "  (backbone): BackboneWithFPN(\n",
              "    (body): IntermediateLayerGetter(\n",
              "      (conv1): Conv2d(3, 64, kernel_size=(7, 7), stride=(2, 2), padding=(3, 3), bias=False)\n",
              "      (bn1): FrozenBatchNorm2d(64, eps=0.0)\n",
              "      (relu): ReLU(inplace=True)\n",
              "      (maxpool): MaxPool2d(kernel_size=3, stride=2, padding=1, dilation=1, ceil_mode=False)\n",
              "      (layer1): Sequential(\n",
              "        (0): Bottleneck(\n",
              "          (conv1): Conv2d(64, 64, kernel_size=(1, 1), stride=(1, 1), bias=False)\n",
              "          (bn1): FrozenBatchNorm2d(64, eps=0.0)\n",
              "          (conv2): Conv2d(64, 64, kernel_size=(3, 3), stride=(1, 1), padding=(1, 1), bias=False)\n",
              "          (bn2): FrozenBatchNorm2d(64, eps=0.0)\n",
              "          (conv3): Conv2d(64, 256, kernel_size=(1, 1), stride=(1, 1), bias=False)\n",
              "          (bn3): FrozenBatchNorm2d(256, eps=0.0)\n",
              "          (relu): ReLU(inplace=True)\n",
              "          (downsample): Sequential(\n",
              "            (0): Conv2d(64, 256, kernel_size=(1, 1), stride=(1, 1), bias=False)\n",
              "            (1): FrozenBatchNorm2d(256, eps=0.0)\n",
              "          )\n",
              "        )\n",
              "        (1): Bottleneck(\n",
              "          (conv1): Conv2d(256, 64, kernel_size=(1, 1), stride=(1, 1), bias=False)\n",
              "          (bn1): FrozenBatchNorm2d(64, eps=0.0)\n",
              "          (conv2): Conv2d(64, 64, kernel_size=(3, 3), stride=(1, 1), padding=(1, 1), bias=False)\n",
              "          (bn2): FrozenBatchNorm2d(64, eps=0.0)\n",
              "          (conv3): Conv2d(64, 256, kernel_size=(1, 1), stride=(1, 1), bias=False)\n",
              "          (bn3): FrozenBatchNorm2d(256, eps=0.0)\n",
              "          (relu): ReLU(inplace=True)\n",
              "        )\n",
              "        (2): Bottleneck(\n",
              "          (conv1): Conv2d(256, 64, kernel_size=(1, 1), stride=(1, 1), bias=False)\n",
              "          (bn1): FrozenBatchNorm2d(64, eps=0.0)\n",
              "          (conv2): Conv2d(64, 64, kernel_size=(3, 3), stride=(1, 1), padding=(1, 1), bias=False)\n",
              "          (bn2): FrozenBatchNorm2d(64, eps=0.0)\n",
              "          (conv3): Conv2d(64, 256, kernel_size=(1, 1), stride=(1, 1), bias=False)\n",
              "          (bn3): FrozenBatchNorm2d(256, eps=0.0)\n",
              "          (relu): ReLU(inplace=True)\n",
              "        )\n",
              "      )\n",
              "      (layer2): Sequential(\n",
              "        (0): Bottleneck(\n",
              "          (conv1): Conv2d(256, 128, kernel_size=(1, 1), stride=(1, 1), bias=False)\n",
              "          (bn1): FrozenBatchNorm2d(128, eps=0.0)\n",
              "          (conv2): Conv2d(128, 128, kernel_size=(3, 3), stride=(2, 2), padding=(1, 1), bias=False)\n",
              "          (bn2): FrozenBatchNorm2d(128, eps=0.0)\n",
              "          (conv3): Conv2d(128, 512, kernel_size=(1, 1), stride=(1, 1), bias=False)\n",
              "          (bn3): FrozenBatchNorm2d(512, eps=0.0)\n",
              "          (relu): ReLU(inplace=True)\n",
              "          (downsample): Sequential(\n",
              "            (0): Conv2d(256, 512, kernel_size=(1, 1), stride=(2, 2), bias=False)\n",
              "            (1): FrozenBatchNorm2d(512, eps=0.0)\n",
              "          )\n",
              "        )\n",
              "        (1): Bottleneck(\n",
              "          (conv1): Conv2d(512, 128, kernel_size=(1, 1), stride=(1, 1), bias=False)\n",
              "          (bn1): FrozenBatchNorm2d(128, eps=0.0)\n",
              "          (conv2): Conv2d(128, 128, kernel_size=(3, 3), stride=(1, 1), padding=(1, 1), bias=False)\n",
              "          (bn2): FrozenBatchNorm2d(128, eps=0.0)\n",
              "          (conv3): Conv2d(128, 512, kernel_size=(1, 1), stride=(1, 1), bias=False)\n",
              "          (bn3): FrozenBatchNorm2d(512, eps=0.0)\n",
              "          (relu): ReLU(inplace=True)\n",
              "        )\n",
              "        (2): Bottleneck(\n",
              "          (conv1): Conv2d(512, 128, kernel_size=(1, 1), stride=(1, 1), bias=False)\n",
              "          (bn1): FrozenBatchNorm2d(128, eps=0.0)\n",
              "          (conv2): Conv2d(128, 128, kernel_size=(3, 3), stride=(1, 1), padding=(1, 1), bias=False)\n",
              "          (bn2): FrozenBatchNorm2d(128, eps=0.0)\n",
              "          (conv3): Conv2d(128, 512, kernel_size=(1, 1), stride=(1, 1), bias=False)\n",
              "          (bn3): FrozenBatchNorm2d(512, eps=0.0)\n",
              "          (relu): ReLU(inplace=True)\n",
              "        )\n",
              "        (3): Bottleneck(\n",
              "          (conv1): Conv2d(512, 128, kernel_size=(1, 1), stride=(1, 1), bias=False)\n",
              "          (bn1): FrozenBatchNorm2d(128, eps=0.0)\n",
              "          (conv2): Conv2d(128, 128, kernel_size=(3, 3), stride=(1, 1), padding=(1, 1), bias=False)\n",
              "          (bn2): FrozenBatchNorm2d(128, eps=0.0)\n",
              "          (conv3): Conv2d(128, 512, kernel_size=(1, 1), stride=(1, 1), bias=False)\n",
              "          (bn3): FrozenBatchNorm2d(512, eps=0.0)\n",
              "          (relu): ReLU(inplace=True)\n",
              "        )\n",
              "      )\n",
              "      (layer3): Sequential(\n",
              "        (0): Bottleneck(\n",
              "          (conv1): Conv2d(512, 256, kernel_size=(1, 1), stride=(1, 1), bias=False)\n",
              "          (bn1): FrozenBatchNorm2d(256, eps=0.0)\n",
              "          (conv2): Conv2d(256, 256, kernel_size=(3, 3), stride=(2, 2), padding=(1, 1), bias=False)\n",
              "          (bn2): FrozenBatchNorm2d(256, eps=0.0)\n",
              "          (conv3): Conv2d(256, 1024, kernel_size=(1, 1), stride=(1, 1), bias=False)\n",
              "          (bn3): FrozenBatchNorm2d(1024, eps=0.0)\n",
              "          (relu): ReLU(inplace=True)\n",
              "          (downsample): Sequential(\n",
              "            (0): Conv2d(512, 1024, kernel_size=(1, 1), stride=(2, 2), bias=False)\n",
              "            (1): FrozenBatchNorm2d(1024, eps=0.0)\n",
              "          )\n",
              "        )\n",
              "        (1): Bottleneck(\n",
              "          (conv1): Conv2d(1024, 256, kernel_size=(1, 1), stride=(1, 1), bias=False)\n",
              "          (bn1): FrozenBatchNorm2d(256, eps=0.0)\n",
              "          (conv2): Conv2d(256, 256, kernel_size=(3, 3), stride=(1, 1), padding=(1, 1), bias=False)\n",
              "          (bn2): FrozenBatchNorm2d(256, eps=0.0)\n",
              "          (conv3): Conv2d(256, 1024, kernel_size=(1, 1), stride=(1, 1), bias=False)\n",
              "          (bn3): FrozenBatchNorm2d(1024, eps=0.0)\n",
              "          (relu): ReLU(inplace=True)\n",
              "        )\n",
              "        (2): Bottleneck(\n",
              "          (conv1): Conv2d(1024, 256, kernel_size=(1, 1), stride=(1, 1), bias=False)\n",
              "          (bn1): FrozenBatchNorm2d(256, eps=0.0)\n",
              "          (conv2): Conv2d(256, 256, kernel_size=(3, 3), stride=(1, 1), padding=(1, 1), bias=False)\n",
              "          (bn2): FrozenBatchNorm2d(256, eps=0.0)\n",
              "          (conv3): Conv2d(256, 1024, kernel_size=(1, 1), stride=(1, 1), bias=False)\n",
              "          (bn3): FrozenBatchNorm2d(1024, eps=0.0)\n",
              "          (relu): ReLU(inplace=True)\n",
              "        )\n",
              "        (3): Bottleneck(\n",
              "          (conv1): Conv2d(1024, 256, kernel_size=(1, 1), stride=(1, 1), bias=False)\n",
              "          (bn1): FrozenBatchNorm2d(256, eps=0.0)\n",
              "          (conv2): Conv2d(256, 256, kernel_size=(3, 3), stride=(1, 1), padding=(1, 1), bias=False)\n",
              "          (bn2): FrozenBatchNorm2d(256, eps=0.0)\n",
              "          (conv3): Conv2d(256, 1024, kernel_size=(1, 1), stride=(1, 1), bias=False)\n",
              "          (bn3): FrozenBatchNorm2d(1024, eps=0.0)\n",
              "          (relu): ReLU(inplace=True)\n",
              "        )\n",
              "        (4): Bottleneck(\n",
              "          (conv1): Conv2d(1024, 256, kernel_size=(1, 1), stride=(1, 1), bias=False)\n",
              "          (bn1): FrozenBatchNorm2d(256, eps=0.0)\n",
              "          (conv2): Conv2d(256, 256, kernel_size=(3, 3), stride=(1, 1), padding=(1, 1), bias=False)\n",
              "          (bn2): FrozenBatchNorm2d(256, eps=0.0)\n",
              "          (conv3): Conv2d(256, 1024, kernel_size=(1, 1), stride=(1, 1), bias=False)\n",
              "          (bn3): FrozenBatchNorm2d(1024, eps=0.0)\n",
              "          (relu): ReLU(inplace=True)\n",
              "        )\n",
              "        (5): Bottleneck(\n",
              "          (conv1): Conv2d(1024, 256, kernel_size=(1, 1), stride=(1, 1), bias=False)\n",
              "          (bn1): FrozenBatchNorm2d(256, eps=0.0)\n",
              "          (conv2): Conv2d(256, 256, kernel_size=(3, 3), stride=(1, 1), padding=(1, 1), bias=False)\n",
              "          (bn2): FrozenBatchNorm2d(256, eps=0.0)\n",
              "          (conv3): Conv2d(256, 1024, kernel_size=(1, 1), stride=(1, 1), bias=False)\n",
              "          (bn3): FrozenBatchNorm2d(1024, eps=0.0)\n",
              "          (relu): ReLU(inplace=True)\n",
              "        )\n",
              "      )\n",
              "      (layer4): Sequential(\n",
              "        (0): Bottleneck(\n",
              "          (conv1): Conv2d(1024, 512, kernel_size=(1, 1), stride=(1, 1), bias=False)\n",
              "          (bn1): FrozenBatchNorm2d(512, eps=0.0)\n",
              "          (conv2): Conv2d(512, 512, kernel_size=(3, 3), stride=(2, 2), padding=(1, 1), bias=False)\n",
              "          (bn2): FrozenBatchNorm2d(512, eps=0.0)\n",
              "          (conv3): Conv2d(512, 2048, kernel_size=(1, 1), stride=(1, 1), bias=False)\n",
              "          (bn3): FrozenBatchNorm2d(2048, eps=0.0)\n",
              "          (relu): ReLU(inplace=True)\n",
              "          (downsample): Sequential(\n",
              "            (0): Conv2d(1024, 2048, kernel_size=(1, 1), stride=(2, 2), bias=False)\n",
              "            (1): FrozenBatchNorm2d(2048, eps=0.0)\n",
              "          )\n",
              "        )\n",
              "        (1): Bottleneck(\n",
              "          (conv1): Conv2d(2048, 512, kernel_size=(1, 1), stride=(1, 1), bias=False)\n",
              "          (bn1): FrozenBatchNorm2d(512, eps=0.0)\n",
              "          (conv2): Conv2d(512, 512, kernel_size=(3, 3), stride=(1, 1), padding=(1, 1), bias=False)\n",
              "          (bn2): FrozenBatchNorm2d(512, eps=0.0)\n",
              "          (conv3): Conv2d(512, 2048, kernel_size=(1, 1), stride=(1, 1), bias=False)\n",
              "          (bn3): FrozenBatchNorm2d(2048, eps=0.0)\n",
              "          (relu): ReLU(inplace=True)\n",
              "        )\n",
              "        (2): Bottleneck(\n",
              "          (conv1): Conv2d(2048, 512, kernel_size=(1, 1), stride=(1, 1), bias=False)\n",
              "          (bn1): FrozenBatchNorm2d(512, eps=0.0)\n",
              "          (conv2): Conv2d(512, 512, kernel_size=(3, 3), stride=(1, 1), padding=(1, 1), bias=False)\n",
              "          (bn2): FrozenBatchNorm2d(512, eps=0.0)\n",
              "          (conv3): Conv2d(512, 2048, kernel_size=(1, 1), stride=(1, 1), bias=False)\n",
              "          (bn3): FrozenBatchNorm2d(2048, eps=0.0)\n",
              "          (relu): ReLU(inplace=True)\n",
              "        )\n",
              "      )\n",
              "    )\n",
              "    (fpn): FeaturePyramidNetwork(\n",
              "      (inner_blocks): ModuleList(\n",
              "        (0): Conv2dNormActivation(\n",
              "          (0): Conv2d(256, 256, kernel_size=(1, 1), stride=(1, 1))\n",
              "        )\n",
              "        (1): Conv2dNormActivation(\n",
              "          (0): Conv2d(512, 256, kernel_size=(1, 1), stride=(1, 1))\n",
              "        )\n",
              "        (2): Conv2dNormActivation(\n",
              "          (0): Conv2d(1024, 256, kernel_size=(1, 1), stride=(1, 1))\n",
              "        )\n",
              "        (3): Conv2dNormActivation(\n",
              "          (0): Conv2d(2048, 256, kernel_size=(1, 1), stride=(1, 1))\n",
              "        )\n",
              "      )\n",
              "      (layer_blocks): ModuleList(\n",
              "        (0): Conv2dNormActivation(\n",
              "          (0): Conv2d(256, 256, kernel_size=(3, 3), stride=(1, 1), padding=(1, 1))\n",
              "        )\n",
              "        (1): Conv2dNormActivation(\n",
              "          (0): Conv2d(256, 256, kernel_size=(3, 3), stride=(1, 1), padding=(1, 1))\n",
              "        )\n",
              "        (2): Conv2dNormActivation(\n",
              "          (0): Conv2d(256, 256, kernel_size=(3, 3), stride=(1, 1), padding=(1, 1))\n",
              "        )\n",
              "        (3): Conv2dNormActivation(\n",
              "          (0): Conv2d(256, 256, kernel_size=(3, 3), stride=(1, 1), padding=(1, 1))\n",
              "        )\n",
              "      )\n",
              "      (extra_blocks): LastLevelMaxPool()\n",
              "    )\n",
              "  )\n",
              "  (rpn): RegionProposalNetwork(\n",
              "    (anchor_generator): AnchorGenerator()\n",
              "    (head): RPNHead(\n",
              "      (conv): Sequential(\n",
              "        (0): Conv2dNormActivation(\n",
              "          (0): Conv2d(256, 256, kernel_size=(3, 3), stride=(1, 1), padding=(1, 1))\n",
              "          (1): ReLU(inplace=True)\n",
              "        )\n",
              "      )\n",
              "      (cls_logits): Conv2d(256, 3, kernel_size=(1, 1), stride=(1, 1))\n",
              "      (bbox_pred): Conv2d(256, 12, kernel_size=(1, 1), stride=(1, 1))\n",
              "    )\n",
              "  )\n",
              "  (roi_heads): RoIHeads(\n",
              "    (box_roi_pool): MultiScaleRoIAlign(featmap_names=['0', '1', '2', '3'], output_size=(7, 7), sampling_ratio=2)\n",
              "    (box_head): TwoMLPHead(\n",
              "      (fc6): Linear(in_features=12544, out_features=1024, bias=True)\n",
              "      (fc7): Linear(in_features=1024, out_features=1024, bias=True)\n",
              "    )\n",
              "    (box_predictor): FastRCNNPredictor(\n",
              "      (cls_score): Linear(in_features=1024, out_features=5, bias=True)\n",
              "      (bbox_pred): Linear(in_features=1024, out_features=20, bias=True)\n",
              "    )\n",
              "    (mask_roi_pool): MultiScaleRoIAlign(featmap_names=['0', '1', '2', '3'], output_size=(14, 14), sampling_ratio=2)\n",
              "    (mask_head): MaskRCNNHeads(\n",
              "      (0): Conv2dNormActivation(\n",
              "        (0): Conv2d(256, 256, kernel_size=(3, 3), stride=(1, 1), padding=(1, 1))\n",
              "        (1): ReLU(inplace=True)\n",
              "      )\n",
              "      (1): Conv2dNormActivation(\n",
              "        (0): Conv2d(256, 256, kernel_size=(3, 3), stride=(1, 1), padding=(1, 1))\n",
              "        (1): ReLU(inplace=True)\n",
              "      )\n",
              "      (2): Conv2dNormActivation(\n",
              "        (0): Conv2d(256, 256, kernel_size=(3, 3), stride=(1, 1), padding=(1, 1))\n",
              "        (1): ReLU(inplace=True)\n",
              "      )\n",
              "      (3): Conv2dNormActivation(\n",
              "        (0): Conv2d(256, 256, kernel_size=(3, 3), stride=(1, 1), padding=(1, 1))\n",
              "        (1): ReLU(inplace=True)\n",
              "      )\n",
              "    )\n",
              "    (mask_predictor): MaskRCNNPredictor(\n",
              "      (conv5_mask): ConvTranspose2d(256, 256, kernel_size=(2, 2), stride=(2, 2))\n",
              "      (relu): ReLU(inplace=True)\n",
              "      (mask_fcn_logits): Conv2d(256, 5, kernel_size=(1, 1), stride=(1, 1))\n",
              "    )\n",
              "  )\n",
              ")"
            ]
          },
          "metadata": {},
          "execution_count": 83
        }
      ]
    },
    {
      "cell_type": "code",
      "source": [
        "data_loader_test = torch.utils.data.DataLoader(\n",
        "    dataset_test, batch_size=2, shuffle=False, num_workers=4, collate_fn=utils.collate_fn)"
      ],
      "metadata": {
        "id": "TD4Rk47hjot7"
      },
      "execution_count": null,
      "outputs": []
    },
    {
      "cell_type": "code",
      "source": [
        "len(data_loader_test)"
      ],
      "metadata": {
        "colab": {
          "base_uri": "https://localhost:8080/"
        },
        "id": "rnWIK2Ry--RJ",
        "outputId": "3e9e434f-a93a-4f62-fdfe-d2ca98d7ffe7"
      },
      "execution_count": null,
      "outputs": [
        {
          "output_type": "execute_result",
          "data": {
            "text/plain": [
              "21"
            ]
          },
          "metadata": {},
          "execution_count": 85
        }
      ]
    },
    {
      "cell_type": "code",
      "source": [
        "test_path= r'/content/Magnetic-tile-defect-datasets./Augmented_data/test/Imgs/exp6_num_136770.jpg'"
      ],
      "metadata": {
        "id": "In9OCitz8vro"
      },
      "execution_count": null,
      "outputs": []
    },
    {
      "cell_type": "code",
      "source": [
        "images, targets=next(iter(data_loader_valid))\n",
        "images = list(image.to(device) for image in images)\n",
        "targets = [{k: v.to(device) for k, v in t.items()} for t in targets]\n",
        "\n",
        "model=model.double()\n",
        "model.eval()\n",
        "output = model(images)"
      ],
      "metadata": {
        "id": "yEOWLVz5839d"
      },
      "execution_count": null,
      "outputs": []
    },
    {
      "cell_type": "code",
      "source": [
        "print(len(output[0]['labels']))"
      ],
      "metadata": {
        "colab": {
          "base_uri": "https://localhost:8080/"
        },
        "id": "H_gOHxM79P1V",
        "outputId": "5a9692e6-c7c5-46be-d00e-fe0d2c5f2aaf"
      },
      "execution_count": null,
      "outputs": [
        {
          "output_type": "stream",
          "name": "stdout",
          "text": [
            "14\n"
          ]
        }
      ]
    },
    {
      "cell_type": "code",
      "source": [
        "images,labels=next(iter(data_loader_test))"
      ],
      "metadata": {
        "id": "i1HKB_FJBjkW"
      },
      "execution_count": null,
      "outputs": []
    },
    {
      "cell_type": "code",
      "source": [
        "print(len(images))"
      ],
      "metadata": {
        "colab": {
          "base_uri": "https://localhost:8080/"
        },
        "id": "SnIHjnlLBqKi",
        "outputId": "5f4de464-3e86-41ab-9fcf-e877a110436f"
      },
      "execution_count": null,
      "outputs": [
        {
          "output_type": "stream",
          "name": "stdout",
          "text": [
            "2\n"
          ]
        }
      ]
    },
    {
      "cell_type": "code",
      "source": [
        "import matplotlib.patches as mpatches\n",
        "from matplotlib import patches\n",
        "def view(images,labels,n=2,std=1,mean=0):\n",
        "    figure = plt.figure(figsize=(15,10))\n",
        "    images=list(images)\n",
        "    labels=list(labels)\n",
        "    for i in range(n):\n",
        "        out=torchvision.utils.make_grid(images[i])\n",
        "        inp=out.cpu().numpy().transpose((1,2,0))\n",
        "        inp=np.array(std)*inp+np.array(mean)\n",
        "        inp=np.clip(inp,0,1)  \n",
        "        ax = figure.add_subplot(2,2, i + 1)\n",
        "        ax.imshow(images[i].cpu().numpy().transpose((1,2,0)))\n",
        "        l=labels[i]['boxes'].cpu().numpy()\n",
        "        s=labels[i]['scores'].cpu().numpy()\n",
        "        m = labels[i]['masks'].cpu().numpy() \n",
        "        #print(\"scores:\", s)\n",
        "        #print(\"masks:\",m)\n",
        "        l[:,2]=l[:,2]-l[:,0]\n",
        "        l[:,3]=l[:,3]-l[:,1]\n",
        "        for j in range(len(l)):\n",
        "            ax.add_patch(patches.Rectangle((l[j][0],l[j][1]),l[j][2],l[j][3],linewidth=1.5,edgecolor='r',facecolor='none')) \n",
        "\n"
      ],
      "metadata": {
        "id": "5vmaYspW9Joq"
      },
      "execution_count": null,
      "outputs": []
    },
    {
      "cell_type": "code",
      "source": [
        "# Look at some of the images and predicted bbox's after training\n",
        "\n",
        "images, targets=next(iter(data_loader_test))\n",
        "images = list(image.to(device) for image in images)\n",
        "targets = [{k: v.to(device) for k, v in t.items()} for t in targets]\n",
        "\n",
        "model=model.double()\n",
        "model.eval()\n",
        "output = model(images)\n",
        "\n",
        "with torch.no_grad():\n",
        "    view(images, output, 2)"
      ],
      "metadata": {
        "colab": {
          "base_uri": "https://localhost:8080/",
          "height": 269
        },
        "id": "uxO-YcZ_jCgV",
        "outputId": "9409963c-4151-4c8f-cda2-c763144e75ee"
      },
      "execution_count": null,
      "outputs": [
        {
          "output_type": "display_data",
          "data": {
            "text/plain": [
              "<Figure size 1080x720 with 2 Axes>"
            ],
            "image/png": "[encoded data removed]"
          },
          "metadata": {
            "needs_background": "light"
          }
        }
      ]
    },
    {
      "cell_type": "code",
      "source": [
        "print(len(output[0]['boxes']))\n",
        "print(len(output[0]['scores']))"
      ],
      "metadata": {
        "colab": {
          "base_uri": "https://localhost:8080/"
        },
        "id": "f6QHYZSCRM3R",
        "outputId": "48554876-b51b-4526-b2ea-31b82c22f8fb"
      },
      "execution_count": null,
      "outputs": [
        {
          "output_type": "stream",
          "name": "stdout",
          "text": [
            "14\n",
            "14\n"
          ]
        }
      ]
    },
    {
      "cell_type": "code",
      "source": [
        "output[0]['boxes'][0]"
      ],
      "metadata": {
        "colab": {
          "base_uri": "https://localhost:8080/"
        },
        "id": "MzkN_35uRTX9",
        "outputId": "86f1c790-7580-4c46-c219-bb878664e932"
      },
      "execution_count": null,
      "outputs": [
        {
          "output_type": "execute_result",
          "data": {
            "text/plain": [
              "tensor([511.9888, 129.4043, 512.0000, 173.7526], device='cuda:0',\n",
              "       dtype=torch.float64, grad_fn=<SelectBackward0>)"
            ]
          },
          "metadata": {},
          "execution_count": 107
        }
      ]
    },
    {
      "cell_type": "code",
      "source": [
        "def view_mask(targets, output, n=2, cmap='Greys'):\n",
        "    figure = plt.figure(figsize=(15,10))\n",
        "    for i in range(n):\n",
        "      # plot target (true) masks\n",
        "      target_im = targets[i]['masks'][0].cpu().detach().numpy()\n",
        "      for k in range(len(targets[i]['masks'])):\n",
        "        target_im2 = targets[i]['masks'][k].cpu().detach().numpy()\n",
        "        target_im2[target_im2>0.5] = 1\n",
        "        target_im2[target_im2<0.5] = 0\n",
        "        target_im = target_im+target_im2\n",
        "\n",
        "      target_im[target_im>0.5] = 1\n",
        "      target_im[target_im<0.5] = 0\n",
        "      ax = figure.add_subplot(2,2, i+1)\n",
        "      ax.imshow(target_im, cmap=cmap)\n",
        "      # Plot output (predicted) masks\n",
        "      output_im = output[i]['masks'][0][0, :, :].cpu().detach().numpy()\n",
        "      for k in range(len(output[i]['masks'])):\n",
        "        output_im2 = output[i]['masks'][k][0, :, :].cpu().detach().numpy()\n",
        "        output_im2[output_im2>0.5] = 1\n",
        "        output_im2[output_im2<0.5] = 0\n",
        "        output_im = output_im+output_im2\n",
        "\n",
        "      output_im[output_im>0.5] = 1\n",
        "      output_im[output_im<0.5] = 0\n",
        "      ax = figure.add_subplot(2,2, i+3)\n",
        "      ax.imshow(output_im, cmap=cmap)\n",
        "      ax.imshow(output_im, cmap=cmap)\n",
        "\n",
        "view_mask(targets, output, n=2)\n"
      ],
      "metadata": {
        "colab": {
          "base_uri": "https://localhost:8080/",
          "height": 533
        },
        "id": "wtIFhgk2QntE",
        "outputId": "20bd3294-507a-4cde-b0f8-8703aec9e74f"
      },
      "execution_count": null,
      "outputs": [
        {
          "output_type": "display_data",
          "data": {
            "text/plain": [
              "<Figure size 1080x720 with 4 Axes>"
            ],
            "image/png": "[encoded data removed]"
          },
          "metadata": {
            "needs_background": "light"
          }
        }
      ]
    },
    {
      "cell_type": "code",
      "source": [],
      "metadata": {
        "id": "O0LLqkfRy-tq"
      },
      "execution_count": null,
      "outputs": []
    },
    {
      "cell_type": "code",
      "execution_count": null,
      "metadata": {
        "id": "EBIeAqJE2R3_"
      },
      "outputs": [],
      "source": [
        "def get_prediction(img_path, confidence):\n",
        "  \"\"\"\n",
        "  get_prediction\n",
        "    parameters:\n",
        "      - img_path - path of the input image\n",
        "      - confidence - threshold to keep the prediction or not\n",
        "    method:\n",
        "      - Image is obtained from the image path\n",
        "      - the image is converted to image tensor using PyTorch's Transforms\n",
        "      - image is passed through the model to get the predictions\n",
        "      - masks, classes and bounding boxes are obtained from the model and soft masks are made binary(0 or 1) on masks\n",
        "        ie: eg. segment of cat is made 1 and rest of the image is made 0\n",
        "    \n",
        "  \"\"\"\n",
        "  img = Image.open(img_path)\n",
        "  transform = T.Compose([T.ToTensor()])\n",
        "  img = transform(img)\n",
        "  pred = model([img])\n",
        "  pred_score = list(pred[0]['scores'].detach().numpy())\n",
        "  pred_t = [pred_score.index(x) for x in pred_score if x>confidence][-1]\n",
        "  masks = (pred[0]['masks']>0.5).squeeze().detach().cpu().numpy()\n",
        "  # print(pred[0]['labels'].numpy().max())\n",
        "  pred_class = [COCO_CLASS_NAMES[i] for i in list(pred[0]['labels'].numpy())]\n",
        "  pred_boxes = [[(i[0], i[1]), (i[2], i[3])] for i in list(pred[0]['boxes'].detach().numpy())]\n",
        "  masks = masks[:pred_t+1]\n",
        "  pred_boxes = pred_boxes[:pred_t+1]\n",
        "  pred_class = pred_class[:pred_t+1]\n",
        "  return masks, pred_boxes, pred_class"
      ]
    }
  ],
  "metadata": {
    "accelerator": "GPU",
    "colab": {
      "collapsed_sections": [],
      "provenance": [],
      "authorship_tag": "ABX9TyNxEAfP1VTmZY4w5u2H0Wvy",
      "include_colab_link": true
    },
    "kernelspec": {
      "display_name": "Python 3",
      "name": "python3"
    },
    "language_info": {
      "name": "python"
    },
    "widgets": {
      "application/vnd.jupyter.widget-state+json": {
        "28a6e04e6dae4352b0f6d77101e939f3": {
          "model_module": "@jupyter-widgets/controls",
          "model_name": "HBoxModel",
          "model_module_version": "1.5.0",
          "state": {
            "_dom_classes": [],
            "_model_module": "@jupyter-widgets/controls",
            "_model_module_version": "1.5.0",
            "_model_name": "HBoxModel",
            "_view_count": null,
            "_view_module": "@jupyter-widgets/controls",
            "_view_module_version": "1.5.0",
            "_view_name": "HBoxView",
            "box_style": "",
            "children": [
              "IPY_MODEL_59ecd2294f0b479da9b4d9bf4b824a20",
              "IPY_MODEL_cbe740cde17a417597065f038b79e962",
              "IPY_MODEL_e02c36608f294768b784f16a74172336"
            ],
            "layout": "IPY_MODEL_ec79ab631ef94f829b21bbc96dc06f1b"
          }
        },
        "59ecd2294f0b479da9b4d9bf4b824a20": {
          "model_module": "@jupyter-widgets/controls",
          "model_name": "HTMLModel",
          "model_module_version": "1.5.0",
          "state": {
            "_dom_classes": [],
            "_model_module": "@jupyter-widgets/controls",
            "_model_module_version": "1.5.0",
            "_model_name": "HTMLModel",
            "_view_count": null,
            "_view_module": "@jupyter-widgets/controls",
            "_view_module_version": "1.5.0",
            "_view_name": "HTMLView",
            "description": "",
            "description_tooltip": null,
            "layout": "IPY_MODEL_d7f374c082a94b06823e7b62d3b8f66d",
            "placeholder": "​",
            "style": "IPY_MODEL_942a82a038714202a25409ea13f974b7",
            "value": "100%"
          }
        },
        "cbe740cde17a417597065f038b79e962": {
          "model_module": "@jupyter-widgets/controls",
          "model_name": "FloatProgressModel",
          "model_module_version": "1.5.0",
          "state": {
            "_dom_classes": [],
            "_model_module": "@jupyter-widgets/controls",
            "_model_module_version": "1.5.0",
            "_model_name": "FloatProgressModel",
            "_view_count": null,
            "_view_module": "@jupyter-widgets/controls",
            "_view_module_version": "1.5.0",
            "_view_name": "ProgressView",
            "bar_style": "success",
            "description": "",
            "description_tooltip": null,
            "layout": "IPY_MODEL_daed9078da9542a697b1b52dd517d9ee",
            "max": 178090079,
            "min": 0,
            "orientation": "horizontal",
            "style": "IPY_MODEL_8819f34db7be4a1eb306d68c7b9a60d4",
            "value": 178090079
          }
        },
        "e02c36608f294768b784f16a74172336": {
          "model_module": "@jupyter-widgets/controls",
          "model_name": "HTMLModel",
          "model_module_version": "1.5.0",
          "state": {
            "_dom_classes": [],
            "_model_module": "@jupyter-widgets/controls",
            "_model_module_version": "1.5.0",
            "_model_name": "HTMLModel",
            "_view_count": null,
            "_view_module": "@jupyter-widgets/controls",
            "_view_module_version": "1.5.0",
            "_view_name": "HTMLView",
            "description": "",
            "description_tooltip": null,
            "layout": "IPY_MODEL_4a2dc5182e8545dc8adf62f3827e8f0e",
            "placeholder": "​",
            "style": "IPY_MODEL_f645001910e54ab9a8cdbfee5b8c5b0a",
            "value": " 170M/170M [00:00&lt;00:00, 229MB/s]"
          }
        },
        "ec79ab631ef94f829b21bbc96dc06f1b": {
          "model_module": "@jupyter-widgets/base",
          "model_name": "LayoutModel",
          "model_module_version": "1.2.0",
          "state": {
            "_model_module": "@jupyter-widgets/base",
            "_model_module_version": "1.2.0",
            "_model_name": "LayoutModel",
            "_view_count": null,
            "_view_module": "@jupyter-widgets/base",
            "_view_module_version": "1.2.0",
            "_view_name": "LayoutView",
            "align_content": null,
            "align_items": null,
            "align_self": null,
            "border": null,
            "bottom": null,
            "display": null,
            "flex": null,
            "flex_flow": null,
            "grid_area": null,
            "grid_auto_columns": null,
            "grid_auto_flow": null,
            "grid_auto_rows": null,
            "grid_column": null,
            "grid_gap": null,
            "grid_row": null,
            "grid_template_areas": null,
            "grid_template_columns": null,
            "grid_template_rows": null,
            "height": null,
            "justify_content": null,
            "justify_items": null,
            "left": null,
            "margin": null,
            "max_height": null,
            "max_width": null,
            "min_height": null,
            "min_width": null,
            "object_fit": null,
            "object_position": null,
            "order": null,
            "overflow": null,
            "overflow_x": null,
            "overflow_y": null,
            "padding": null,
            "right": null,
            "top": null,
            "visibility": null,
            "width": null
          }
        },
        "d7f374c082a94b06823e7b62d3b8f66d": {
          "model_module": "@jupyter-widgets/base",
          "model_name": "LayoutModel",
          "model_module_version": "1.2.0",
          "state": {
            "_model_module": "@jupyter-widgets/base",
            "_model_module_version": "1.2.0",
            "_model_name": "LayoutModel",
            "_view_count": null,
            "_view_module": "@jupyter-widgets/base",
            "_view_module_version": "1.2.0",
            "_view_name": "LayoutView",
            "align_content": null,
            "align_items": null,
            "align_self": null,
            "border": null,
            "bottom": null,
            "display": null,
            "flex": null,
            "flex_flow": null,
            "grid_area": null,
            "grid_auto_columns": null,
            "grid_auto_flow": null,
            "grid_auto_rows": null,
            "grid_column": null,
            "grid_gap": null,
            "grid_row": null,
            "grid_template_areas": null,
            "grid_template_columns": null,
            "grid_template_rows": null,
            "height": null,
            "justify_content": null,
            "justify_items": null,
            "left": null,
            "margin": null,
            "max_height": null,
            "max_width": null,
            "min_height": null,
            "min_width": null,
            "object_fit": null,
            "object_position": null,
            "order": null,
            "overflow": null,
            "overflow_x": null,
            "overflow_y": null,
            "padding": null,
            "right": null,
            "top": null,
            "visibility": null,
            "width": null
          }
        },
        "942a82a038714202a25409ea13f974b7": {
          "model_module": "@jupyter-widgets/controls",
          "model_name": "DescriptionStyleModel",
          "model_module_version": "1.5.0",
          "state": {
            "_model_module": "@jupyter-widgets/controls",
            "_model_module_version": "1.5.0",
            "_model_name": "DescriptionStyleModel",
            "_view_count": null,
            "_view_module": "@jupyter-widgets/base",
            "_view_module_version": "1.2.0",
            "_view_name": "StyleView",
            "description_width": ""
          }
        },
        "daed9078da9542a697b1b52dd517d9ee": {
          "model_module": "@jupyter-widgets/base",
          "model_name": "LayoutModel",
          "model_module_version": "1.2.0",
          "state": {
            "_model_module": "@jupyter-widgets/base",
            "_model_module_version": "1.2.0",
            "_model_name": "LayoutModel",
            "_view_count": null,
            "_view_module": "@jupyter-widgets/base",
            "_view_module_version": "1.2.0",
            "_view_name": "LayoutView",
            "align_content": null,
            "align_items": null,
            "align_self": null,
            "border": null,
            "bottom": null,
            "display": null,
            "flex": null,
            "flex_flow": null,
            "grid_area": null,
            "grid_auto_columns": null,
            "grid_auto_flow": null,
            "grid_auto_rows": null,
            "grid_column": null,
            "grid_gap": null,
            "grid_row": null,
            "grid_template_areas": null,
            "grid_template_columns": null,
            "grid_template_rows": null,
            "height": null,
            "justify_content": null,
            "justify_items": null,
            "left": null,
            "margin": null,
            "max_height": null,
            "max_width": null,
            "min_height": null,
            "min_width": null,
            "object_fit": null,
            "object_position": null,
            "order": null,
            "overflow": null,
            "overflow_x": null,
            "overflow_y": null,
            "padding": null,
            "right": null,
            "top": null,
            "visibility": null,
            "width": null
          }
        },
        "8819f34db7be4a1eb306d68c7b9a60d4": {
          "model_module": "@jupyter-widgets/controls",
          "model_name": "ProgressStyleModel",
          "model_module_version": "1.5.0",
          "state": {
            "_model_module": "@jupyter-widgets/controls",
            "_model_module_version": "1.5.0",
            "_model_name": "ProgressStyleModel",
            "_view_count": null,
            "_view_module": "@jupyter-widgets/base",
            "_view_module_version": "1.2.0",
            "_view_name": "StyleView",
            "bar_color": null,
            "description_width": ""
          }
        },
        "4a2dc5182e8545dc8adf62f3827e8f0e": {
          "model_module": "@jupyter-widgets/base",
          "model_name": "LayoutModel",
          "model_module_version": "1.2.0",
          "state": {
            "_model_module": "@jupyter-widgets/base",
            "_model_module_version": "1.2.0",
            "_model_name": "LayoutModel",
            "_view_count": null,
            "_view_module": "@jupyter-widgets/base",
            "_view_module_version": "1.2.0",
            "_view_name": "LayoutView",
            "align_content": null,
            "align_items": null,
            "align_self": null,
            "border": null,
            "bottom": null,
            "display": null,
            "flex": null,
            "flex_flow": null,
            "grid_area": null,
            "grid_auto_columns": null,
            "grid_auto_flow": null,
            "grid_auto_rows": null,
            "grid_column": null,
            "grid_gap": null,
            "grid_row": null,
            "grid_template_areas": null,
            "grid_template_columns": null,
            "grid_template_rows": null,
            "height": null,
            "justify_content": null,
            "justify_items": null,
            "left": null,
            "margin": null,
            "max_height": null,
            "max_width": null,
            "min_height": null,
            "min_width": null,
            "object_fit": null,
            "object_position": null,
            "order": null,
            "overflow": null,
            "overflow_x": null,
            "overflow_y": null,
            "padding": null,
            "right": null,
            "top": null,
            "visibility": null,
            "width": null
          }
        },
        "f645001910e54ab9a8cdbfee5b8c5b0a": {
          "model_module": "@jupyter-widgets/controls",
          "model_name": "DescriptionStyleModel",
          "model_module_version": "1.5.0",
          "state": {
            "_model_module": "@jupyter-widgets/controls",
            "_model_module_version": "1.5.0",
            "_model_name": "DescriptionStyleModel",
            "_view_count": null,
            "_view_module": "@jupyter-widgets/base",
            "_view_module_version": "1.2.0",
            "_view_name": "StyleView",
            "description_width": ""
          }
        }
      }
    }
  },
  "nbformat": 4,
  "nbformat_minor": 0
}