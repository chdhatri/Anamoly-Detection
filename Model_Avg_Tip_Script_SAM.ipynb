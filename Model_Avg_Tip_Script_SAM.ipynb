{
  "cells": [
    {
      "cell_type": "markdown",
      "metadata": {
        "id": "view-in-github",
        "colab_type": "text"
      },
      "source": [
        "<a href=\"https://colab.research.google.com/github/chdhatri/Anamoly-Detection/blob/main/Model_Avg_Tip_Script_SAM.ipynb\" target=\"_parent\"><img src=\"https://colab.research.google.com/assets/colab-badge.svg\" alt=\"Open In Colab\"/></a>"
      ]
    },
    {
      "cell_type": "code",
      "execution_count": 1,
      "metadata": {
        "colab": {
          "base_uri": "https://localhost:8080/"
        },
        "id": "hrrnxJ7bg-cE",
        "outputId": "a6ce086a-d4a1-4741-a67c-d281a5551665"
      },
      "outputs": [
        {
          "output_type": "stream",
          "name": "stdout",
          "text": [
            "Mounted at /content/drive\n"
          ]
        }
      ],
      "source": [
        "from google.colab import drive\n",
        "drive.mount('/content/drive')"
      ]
    },
    {
      "cell_type": "code",
      "source": [
        "!python --version\n",
        "\n"
      ],
      "metadata": {
        "colab": {
          "base_uri": "https://localhost:8080/"
        },
        "id": "PYQYAf0cHlr0",
        "outputId": "4ea944d8-a9c0-47f5-bc51-b45b02472061"
      },
      "execution_count": 4,
      "outputs": [
        {
          "output_type": "stream",
          "name": "stdout",
          "text": [
            "Python 3.10.12\n",
            "/bin/bash: line 1: torch: command not found\n"
          ]
        }
      ]
    },
    {
      "cell_type": "code",
      "source": [
        "import torch\n",
        "print(torch.__version__)"
      ],
      "metadata": {
        "colab": {
          "base_uri": "https://localhost:8080/"
        },
        "id": "RPmns-mzIRS_",
        "outputId": "955499ba-e435-42b0-cf31-fbc3bcce6d26"
      },
      "execution_count": 1,
      "outputs": [
        {
          "output_type": "stream",
          "name": "stdout",
          "text": [
            "2.1.0+cu118\n"
          ]
        }
      ]
    },
    {
      "cell_type": "code",
      "source": [
        "# prompt: check torch and torchvision version\n",
        "\n",
        "!python -c \"import torch; print(torch.__version__)\"\n",
        "!python -c \"import torchvision; print(torchvision.__version__)\"\n"
      ],
      "metadata": {
        "id": "3vo6b5vLIK6j"
      },
      "execution_count": null,
      "outputs": []
    },
    {
      "cell_type": "code",
      "execution_count": 2,
      "metadata": {
        "colab": {
          "base_uri": "https://localhost:8080/"
        },
        "id": "JYQFGP6uhHV7",
        "outputId": "bd4bc2c0-b219-41c9-89d8-3254a12f5be1"
      },
      "outputs": [
        {
          "output_type": "stream",
          "name": "stdout",
          "text": [
            "cp: cannot stat '/content/drive/MyDrive/train.mp4': No such file or directory\n",
            "cp: cannot stat '/content/drive/MyDrive/test.mp4': No such file or directory\n"
          ]
        }
      ],
      "source": [
        "!mkdir videos\n",
        "!cp -r /content/drive/MyDrive/weights /content\n",
        "!cp /content/drive/MyDrive/train.mp4  /content/videos\n",
        "!cp /content/drive/MyDrive/test.mp4 /content/videos\n"
      ]
    },
    {
      "cell_type": "code",
      "execution_count": null,
      "metadata": {
        "colab": {
          "base_uri": "https://localhost:8080/"
        },
        "id": "sKfMM2hEhL4B",
        "outputId": "7805b791-56ef-43d9-b9b6-c9cfb7729c09"
      },
      "outputs": [
        {
          "output_type": "stream",
          "name": "stdout",
          "text": [
            "cp: cannot stat '/content/drive/MyDrive/Tip_too_low_part1.mp4': No such file or directory\n",
            "cp: cannot stat '/content/drive/MyDrive/Tip_Too_high_part1.mp4': No such file or directory\n",
            "cp: cannot stat '/content/drive/MyDrive/Tip_right_height_part1.mp4': No such file or directory\n",
            "cp: cannot stat '/content/drive/MyDrive/Tip_right_height_part2.mp4': No such file or directory\n",
            "cp: cannot stat '!cp': No such file or directory\n"
          ]
        }
      ],
      "source": [
        "!cp /content/drive/MyDrive/Tip_too_low_part1.mp4 /content/videos\n",
        "!cp /content/drive/MyDrive/Tip_Too_high_part1.mp4 /content/videos\n",
        "!cp /content/drive/MyDrive/Tip_right_height_part1.mp4 /content/videos\n",
        "!cp /content/drive/MyDrive/Tip_right_height_part2.mp4 /content/videos\n",
        "!cp !cp /content/drive/MyDrive/tip_right_height_9-12-23_part1.mp4 /content/videos"
      ]
    },
    {
      "cell_type": "code",
      "execution_count": 3,
      "metadata": {
        "colab": {
          "base_uri": "https://localhost:8080/"
        },
        "id": "UyvRNzfwhJaP",
        "outputId": "d9ec94cb-7947-40c1-96f8-e27f077bc603"
      },
      "outputs": [
        {
          "output_type": "stream",
          "name": "stdout",
          "text": [
            "Collecting ultralytics\n",
            "  Downloading ultralytics-8.0.200-py3-none-any.whl (644 kB)\n",
            "\u001b[2K     \u001b[90m━━━━━━━━━━━━━━━━━━━━━━━━━━━━━━━━━━━━━━━━\u001b[0m \u001b[32m644.5/644.5 kB\u001b[0m \u001b[31m6.6 MB/s\u001b[0m eta \u001b[36m0:00:00\u001b[0m\n",
            "\u001b[?25hRequirement already satisfied: matplotlib>=3.3.0 in /usr/local/lib/python3.10/dist-packages (from ultralytics) (3.7.1)\n",
            "Requirement already satisfied: numpy>=1.22.2 in /usr/local/lib/python3.10/dist-packages (from ultralytics) (1.23.5)\n",
            "Requirement already satisfied: opencv-python>=4.6.0 in /usr/local/lib/python3.10/dist-packages (from ultralytics) (4.8.0.76)\n",
            "Requirement already satisfied: pillow>=7.1.2 in /usr/local/lib/python3.10/dist-packages (from ultralytics) (9.4.0)\n",
            "Requirement already satisfied: pyyaml>=5.3.1 in /usr/local/lib/python3.10/dist-packages (from ultralytics) (6.0.1)\n",
            "Requirement already satisfied: requests>=2.23.0 in /usr/local/lib/python3.10/dist-packages (from ultralytics) (2.31.0)\n",
            "Requirement already satisfied: scipy>=1.4.1 in /usr/local/lib/python3.10/dist-packages (from ultralytics) (1.11.3)\n",
            "Requirement already satisfied: torch>=1.8.0 in /usr/local/lib/python3.10/dist-packages (from ultralytics) (2.1.0+cu118)\n",
            "Requirement already satisfied: torchvision>=0.9.0 in /usr/local/lib/python3.10/dist-packages (from ultralytics) (0.16.0+cu118)\n",
            "Requirement already satisfied: tqdm>=4.64.0 in /usr/local/lib/python3.10/dist-packages (from ultralytics) (4.66.1)\n",
            "Requirement already satisfied: pandas>=1.1.4 in /usr/local/lib/python3.10/dist-packages (from ultralytics) (1.5.3)\n",
            "Requirement already satisfied: seaborn>=0.11.0 in /usr/local/lib/python3.10/dist-packages (from ultralytics) (0.12.2)\n",
            "Requirement already satisfied: psutil in /usr/local/lib/python3.10/dist-packages (from ultralytics) (5.9.5)\n",
            "Requirement already satisfied: py-cpuinfo in /usr/local/lib/python3.10/dist-packages (from ultralytics) (9.0.0)\n",
            "Collecting thop>=0.1.1 (from ultralytics)\n",
            "  Downloading thop-0.1.1.post2209072238-py3-none-any.whl (15 kB)\n",
            "Requirement already satisfied: contourpy>=1.0.1 in /usr/local/lib/python3.10/dist-packages (from matplotlib>=3.3.0->ultralytics) (1.1.1)\n",
            "Requirement already satisfied: cycler>=0.10 in /usr/local/lib/python3.10/dist-packages (from matplotlib>=3.3.0->ultralytics) (0.12.1)\n",
            "Requirement already satisfied: fonttools>=4.22.0 in /usr/local/lib/python3.10/dist-packages (from matplotlib>=3.3.0->ultralytics) (4.43.1)\n",
            "Requirement already satisfied: kiwisolver>=1.0.1 in /usr/local/lib/python3.10/dist-packages (from matplotlib>=3.3.0->ultralytics) (1.4.5)\n",
            "Requirement already satisfied: packaging>=20.0 in /usr/local/lib/python3.10/dist-packages (from matplotlib>=3.3.0->ultralytics) (23.2)\n",
            "Requirement already satisfied: pyparsing>=2.3.1 in /usr/local/lib/python3.10/dist-packages (from matplotlib>=3.3.0->ultralytics) (3.1.1)\n",
            "Requirement already satisfied: python-dateutil>=2.7 in /usr/local/lib/python3.10/dist-packages (from matplotlib>=3.3.0->ultralytics) (2.8.2)\n",
            "Requirement already satisfied: pytz>=2020.1 in /usr/local/lib/python3.10/dist-packages (from pandas>=1.1.4->ultralytics) (2023.3.post1)\n",
            "Requirement already satisfied: charset-normalizer<4,>=2 in /usr/local/lib/python3.10/dist-packages (from requests>=2.23.0->ultralytics) (3.3.0)\n",
            "Requirement already satisfied: idna<4,>=2.5 in /usr/local/lib/python3.10/dist-packages (from requests>=2.23.0->ultralytics) (3.4)\n",
            "Requirement already satisfied: urllib3<3,>=1.21.1 in /usr/local/lib/python3.10/dist-packages (from requests>=2.23.0->ultralytics) (2.0.7)\n",
            "Requirement already satisfied: certifi>=2017.4.17 in /usr/local/lib/python3.10/dist-packages (from requests>=2.23.0->ultralytics) (2023.7.22)\n",
            "Requirement already satisfied: filelock in /usr/local/lib/python3.10/dist-packages (from torch>=1.8.0->ultralytics) (3.12.4)\n",
            "Requirement already satisfied: typing-extensions in /usr/local/lib/python3.10/dist-packages (from torch>=1.8.0->ultralytics) (4.5.0)\n",
            "Requirement already satisfied: sympy in /usr/local/lib/python3.10/dist-packages (from torch>=1.8.0->ultralytics) (1.12)\n",
            "Requirement already satisfied: networkx in /usr/local/lib/python3.10/dist-packages (from torch>=1.8.0->ultralytics) (3.1)\n",
            "Requirement already satisfied: jinja2 in /usr/local/lib/python3.10/dist-packages (from torch>=1.8.0->ultralytics) (3.1.2)\n",
            "Requirement already satisfied: fsspec in /usr/local/lib/python3.10/dist-packages (from torch>=1.8.0->ultralytics) (2023.6.0)\n",
            "Requirement already satisfied: triton==2.1.0 in /usr/local/lib/python3.10/dist-packages (from torch>=1.8.0->ultralytics) (2.1.0)\n",
            "Requirement already satisfied: six>=1.5 in /usr/local/lib/python3.10/dist-packages (from python-dateutil>=2.7->matplotlib>=3.3.0->ultralytics) (1.16.0)\n",
            "Requirement already satisfied: MarkupSafe>=2.0 in /usr/local/lib/python3.10/dist-packages (from jinja2->torch>=1.8.0->ultralytics) (2.1.3)\n",
            "Requirement already satisfied: mpmath>=0.19 in /usr/local/lib/python3.10/dist-packages (from sympy->torch>=1.8.0->ultralytics) (1.3.0)\n",
            "Installing collected packages: thop, ultralytics\n",
            "Successfully installed thop-0.1.1.post2209072238 ultralytics-8.0.200\n",
            "Requirement already satisfied: scikit-learn in /usr/local/lib/python3.10/dist-packages (1.2.2)\n",
            "Requirement already satisfied: numpy>=1.17.3 in /usr/local/lib/python3.10/dist-packages (from scikit-learn) (1.23.5)\n",
            "Requirement already satisfied: scipy>=1.3.2 in /usr/local/lib/python3.10/dist-packages (from scikit-learn) (1.11.3)\n",
            "Requirement already satisfied: joblib>=1.1.1 in /usr/local/lib/python3.10/dist-packages (from scikit-learn) (1.3.2)\n",
            "Requirement already satisfied: threadpoolctl>=2.0.0 in /usr/local/lib/python3.10/dist-packages (from scikit-learn) (3.2.0)\n",
            "Requirement already satisfied: opencv-python in /usr/local/lib/python3.10/dist-packages (4.8.0.76)\n",
            "Requirement already satisfied: numpy>=1.21.2 in /usr/local/lib/python3.10/dist-packages (from opencv-python) (1.23.5)\n"
          ]
        }
      ],
      "source": [
        "!pip install ultralytics\n",
        "!pip install scikit-learn\n",
        "\n",
        "!pip install opencv-python\n"
      ]
    },
    {
      "cell_type": "code",
      "execution_count": null,
      "metadata": {
        "colab": {
          "base_uri": "https://localhost:8080/"
        },
        "id": "V_1Sr5_khPY1",
        "outputId": "eebbe3ba-033e-4d0c-e613-dd807469a8e3"
      },
      "outputs": [
        {
          "output_type": "stream",
          "name": "stdout",
          "text": [
            "total 2.6G\n",
            "-rw------- 1 root root  22M Oct 19 01:48 best.pt\n",
            "drwx------ 2 root root 4.0K Oct 19 01:48 cylinder_weights\n",
            "-rw-r--r-- 1 root root 139M Jun 20 07:01 FastSAM.pt\n",
            "-rw------- 1 root root  22M Oct 19 01:48 last.pt\n",
            "-rw-r--r-- 1 root root 2.4G Apr  4  2023 sam_vit_h_4b8939.pth\n"
          ]
        }
      ],
      "source": [
        "!mkdir -p /content/weights\n",
        "!wget -P /content/weights -q https://huggingface.co/spaces/An-619/FastSAM/resolve/main/weights/FastSAM.pt\n",
        "!wget -P /content/weights -q https://dl.fbaipublicfiles.com/segment_anything/sam_vit_h_4b8939.pth\n",
        "!ls -lh /content/weights"
      ]
    },
    {
      "cell_type": "code",
      "execution_count": null,
      "metadata": {
        "colab": {
          "base_uri": "https://localhost:8080/"
        },
        "id": "j30TWUYohMgl",
        "outputId": "ab6216c8-a9b6-4933-9ab4-bf6cc1af2001"
      },
      "outputs": [
        {
          "output_type": "stream",
          "name": "stdout",
          "text": [
            "Cloning into 'FastSAM'...\n",
            "remote: Enumerating objects: 1171, done.\u001b[K\n",
            "remote: Counting objects: 100% (242/242), done.\u001b[K\n",
            "remote: Compressing objects: 100% (56/56), done.\u001b[K\n",
            "remote: Total 1171 (delta 201), reused 186 (delta 186), pack-reused 929\u001b[K\n",
            "Receiving objects: 100% (1171/1171), 72.45 MiB | 20.71 MiB/s, done.\n",
            "Resolving deltas: 100% (456/456), done.\n",
            "\u001b[2K     \u001b[90m━━━━━━━━━━━━━━━━━━━━━━━━━━━━━━━━━━━━━━━━\u001b[0m \u001b[32m19.7/19.7 MB\u001b[0m \u001b[31m21.7 MB/s\u001b[0m eta \u001b[36m0:00:00\u001b[0m\n",
            "\u001b[2K     \u001b[90m━━━━━━━━━━━━━━━━━━━━━━━━━━━━━━━━━━━━━━━━\u001b[0m \u001b[32m611.7/611.7 kB\u001b[0m \u001b[31m4.2 MB/s\u001b[0m eta \u001b[36m0:00:00\u001b[0m\n",
            "\u001b[2K     \u001b[90m━━━━━━━━━━━━━━━━━━━━━━━━━━━━━━━━━━━━━━━━\u001b[0m \u001b[32m92.9/92.9 kB\u001b[0m \u001b[31m6.3 MB/s\u001b[0m eta \u001b[36m0:00:00\u001b[0m\n",
            "\u001b[?25h  Preparing metadata (setup.py) ... \u001b[?25l\u001b[?25hdone\n",
            "\u001b[2K     \u001b[90m━━━━━━━━━━━━━━━━━━━━━━━━━━━━━━━━━━━━━━━━\u001b[0m \u001b[32m299.2/299.2 kB\u001b[0m \u001b[31m9.1 MB/s\u001b[0m eta \u001b[36m0:00:00\u001b[0m\n",
            "\u001b[2K     \u001b[90m━━━━━━━━━━━━━━━━━━━━━━━━━━━━━━━━━━━━━━━━\u001b[0m \u001b[32m75.7/75.7 kB\u001b[0m \u001b[31m5.3 MB/s\u001b[0m eta \u001b[36m0:00:00\u001b[0m\n",
            "\u001b[2K     \u001b[90m━━━━━━━━━━━━━━━━━━━━━━━━━━━━━━━━━━━━━━━━\u001b[0m \u001b[32m302.0/302.0 kB\u001b[0m \u001b[31m9.9 MB/s\u001b[0m eta \u001b[36m0:00:00\u001b[0m\n",
            "\u001b[2K     \u001b[90m━━━━━━━━━━━━━━━━━━━━━━━━━━━━━━━━━━━━━━━━\u001b[0m \u001b[32m50.5/50.5 kB\u001b[0m \u001b[31m1.7 MB/s\u001b[0m eta \u001b[36m0:00:00\u001b[0m\n",
            "\u001b[2K     \u001b[90m━━━━━━━━━━━━━━━━━━━━━━━━━━━━━━━━━━━━━━━━\u001b[0m \u001b[32m138.7/138.7 kB\u001b[0m \u001b[31m4.3 MB/s\u001b[0m eta \u001b[36m0:00:00\u001b[0m\n",
            "\u001b[2K     \u001b[90m━━━━━━━━━━━━━━━━━━━━━━━━━━━━━━━━━━━━━━━━\u001b[0m \u001b[32m45.7/45.7 kB\u001b[0m \u001b[31m2.5 MB/s\u001b[0m eta \u001b[36m0:00:00\u001b[0m\n",
            "\u001b[2K     \u001b[90m━━━━━━━━━━━━━━━━━━━━━━━━━━━━━━━━━━━━━━━━\u001b[0m \u001b[32m59.5/59.5 kB\u001b[0m \u001b[31m1.4 MB/s\u001b[0m eta \u001b[36m0:00:00\u001b[0m\n",
            "\u001b[2K     \u001b[90m━━━━━━━━━━━━━━━━━━━━━━━━━━━━━━━━━━━━━━━━\u001b[0m \u001b[32m129.9/129.9 kB\u001b[0m \u001b[31m9.2 MB/s\u001b[0m eta \u001b[36m0:00:00\u001b[0m\n",
            "\u001b[2K     \u001b[90m━━━━━━━━━━━━━━━━━━━━━━━━━━━━━━━━━━━━━━━━\u001b[0m \u001b[32m50.4/50.4 kB\u001b[0m \u001b[31m3.3 MB/s\u001b[0m eta \u001b[36m0:00:00\u001b[0m\n",
            "\u001b[2K     \u001b[90m━━━━━━━━━━━━━━━━━━━━━━━━━━━━━━━━━━━━━━━━\u001b[0m \u001b[32m46.5/46.5 kB\u001b[0m \u001b[31m3.1 MB/s\u001b[0m eta \u001b[36m0:00:00\u001b[0m\n",
            "\u001b[2K     \u001b[90m━━━━━━━━━━━━━━━━━━━━━━━━━━━━━━━━━━━━━━━━\u001b[0m \u001b[32m43.7/43.7 kB\u001b[0m \u001b[31m2.4 MB/s\u001b[0m eta \u001b[36m0:00:00\u001b[0m\n",
            "\u001b[2K     \u001b[90m━━━━━━━━━━━━━━━━━━━━━━━━━━━━━━━━━━━━━━━━\u001b[0m \u001b[32m41.0/41.0 kB\u001b[0m \u001b[31m2.4 MB/s\u001b[0m eta \u001b[36m0:00:00\u001b[0m\n",
            "\u001b[2K     \u001b[90m━━━━━━━━━━━━━━━━━━━━━━━━━━━━━━━━━━━━━━━━\u001b[0m \u001b[32m41.0/41.0 kB\u001b[0m \u001b[31m2.1 MB/s\u001b[0m eta \u001b[36m0:00:00\u001b[0m\n",
            "\u001b[2K     \u001b[90m━━━━━━━━━━━━━━━━━━━━━━━━━━━━━━━━━━━━━━━━\u001b[0m \u001b[32m87.5/87.5 kB\u001b[0m \u001b[31m6.4 MB/s\u001b[0m eta \u001b[36m0:00:00\u001b[0m\n",
            "\u001b[2K     \u001b[90m━━━━━━━━━━━━━━━━━━━━━━━━━━━━━━━━━━━━━━━━\u001b[0m \u001b[32m84.5/84.5 kB\u001b[0m \u001b[31m6.8 MB/s\u001b[0m eta \u001b[36m0:00:00\u001b[0m\n",
            "\u001b[2K     \u001b[90m━━━━━━━━━━━━━━━━━━━━━━━━━━━━━━━━━━━━━━━━\u001b[0m \u001b[32m58.3/58.3 kB\u001b[0m \u001b[31m4.1 MB/s\u001b[0m eta \u001b[36m0:00:00\u001b[0m\n",
            "\u001b[2K     \u001b[90m━━━━━━━━━━━━━━━━━━━━━━━━━━━━━━━━━━━━━━━━\u001b[0m \u001b[32m67.0/67.0 kB\u001b[0m \u001b[31m4.2 MB/s\u001b[0m eta \u001b[36m0:00:00\u001b[0m\n",
            "\u001b[2K     \u001b[90m━━━━━━━━━━━━━━━━━━━━━━━━━━━━━━━━━━━━━━━━\u001b[0m \u001b[32m76.0/76.0 kB\u001b[0m \u001b[31m3.6 MB/s\u001b[0m eta \u001b[36m0:00:00\u001b[0m\n",
            "\u001b[?25h  Building wheel for ffmpy (setup.py) ... \u001b[?25l\u001b[?25hdone\n",
            "\u001b[31mERROR: pip's dependency resolver does not currently take into account all the packages that are installed. This behaviour is the source of the following dependency conflicts.\n",
            "lida 0.0.10 requires kaleido, which is not installed.\n",
            "tensorflow 2.13.0 requires typing-extensions<4.6.0,>=3.6.6, but you have typing-extensions 4.8.0 which is incompatible.\u001b[0m\u001b[31m\n",
            "\u001b[0m  Preparing metadata (setup.py) ... \u001b[?25l\u001b[?25hdone\n",
            "\u001b[2K     \u001b[90m━━━━━━━━━━━━━━━━━━━━━━━━━━━━━━━━━━━━━━━━\u001b[0m \u001b[32m53.1/53.1 kB\u001b[0m \u001b[31m1.2 MB/s\u001b[0m eta \u001b[36m0:00:00\u001b[0m\n",
            "\u001b[?25h  Building wheel for clip (setup.py) ... \u001b[?25l\u001b[?25hdone\n",
            "  Preparing metadata (setup.py) ... \u001b[?25l\u001b[?25hdone\n",
            "  Building wheel for segment-anything (setup.py) ... \u001b[?25l\u001b[?25hdone\n",
            "\u001b[2K     \u001b[90m━━━━━━━━━━━━━━━━━━━━━━━━━━━━━━━━━━━━━━━━\u001b[0m \u001b[32m58.8/58.8 kB\u001b[0m \u001b[31m1.3 MB/s\u001b[0m eta \u001b[36m0:00:00\u001b[0m\n",
            "\u001b[2K     \u001b[90m━━━━━━━━━━━━━━━━━━━━━━━━━━━━━━━━━━━━━━━━\u001b[0m \u001b[32m367.8/367.8 kB\u001b[0m \u001b[31m8.9 MB/s\u001b[0m eta \u001b[36m0:00:00\u001b[0m\n",
            "\u001b[2K     \u001b[90m━━━━━━━━━━━━━━━━━━━━━━━━━━━━━━━━━━━━━━━━\u001b[0m \u001b[32m155.3/155.3 kB\u001b[0m \u001b[31m13.9 MB/s\u001b[0m eta \u001b[36m0:00:00\u001b[0m\n",
            "\u001b[2K     \u001b[90m━━━━━━━━━━━━━━━━━━━━━━━━━━━━━━━━━━━━━━━━\u001b[0m \u001b[32m178.7/178.7 kB\u001b[0m \u001b[31m14.9 MB/s\u001b[0m eta \u001b[36m0:00:00\u001b[0m\n",
            "\u001b[2K     \u001b[90m━━━━━━━━━━━━━━━━━━━━━━━━━━━━━━━━━━━━━━━━\u001b[0m \u001b[32m58.8/58.8 kB\u001b[0m \u001b[31m5.6 MB/s\u001b[0m eta \u001b[36m0:00:00\u001b[0m\n",
            "\u001b[2K     \u001b[90m━━━━━━━━━━━━━━━━━━━━━━━━━━━━━━━━━━━━━━━━\u001b[0m \u001b[32m49.1/49.1 MB\u001b[0m \u001b[31m14.1 MB/s\u001b[0m eta \u001b[36m0:00:00\u001b[0m\n",
            "\u001b[2K     \u001b[90m━━━━━━━━━━━━━━━━━━━━━━━━━━━━━━━━━━━━━━━━\u001b[0m \u001b[32m67.8/67.8 kB\u001b[0m \u001b[31m5.9 MB/s\u001b[0m eta \u001b[36m0:00:00\u001b[0m\n",
            "\u001b[2K     \u001b[90m━━━━━━━━━━━━━━━━━━━━━━━━━━━━━━━━━━━━━━━━\u001b[0m \u001b[32m54.5/54.5 kB\u001b[0m \u001b[31m3.5 MB/s\u001b[0m eta \u001b[36m0:00:00\u001b[0m\n",
            "\u001b[2K     \u001b[90m━━━━━━━━━━━━━━━━━━━━━━━━━━━━━━━━━━━━━━━━\u001b[0m \u001b[32m1.6/1.6 MB\u001b[0m \u001b[31m46.7 MB/s\u001b[0m eta \u001b[36m0:00:00\u001b[0m\n",
            "\u001b[?25h\u001b[31mERROR: pip's dependency resolver does not currently take into account all the packages that are installed. This behaviour is the source of the following dependency conflicts.\n",
            "lida 0.0.10 requires kaleido, which is not installed.\n",
            "tensorflow 2.13.0 requires typing-extensions<4.6.0,>=3.6.6, but you have typing-extensions 4.8.0 which is incompatible.\u001b[0m\u001b[31m\n",
            "\u001b[0m"
          ]
        }
      ],
      "source": [
        "# install FastSAM\n",
        "!git clone https://github.com/CASIA-IVA-Lab/FastSAM.git\n",
        "!pip -q install -r FastSAM/requirements.txt\n",
        "# install CLIP\n",
        "!pip -q install git+https://github.com/openai/CLIP.git\n",
        "# install SAM\n",
        "!pip -q install git+https://github.com/facebookresearch/segment-anything.git\n",
        "# install other dependencies\n",
        "!pip -q install roboflow supervision jupyter_bbox_widget"
      ]
    },
    {
      "cell_type": "code",
      "execution_count": null,
      "metadata": {
        "id": "HFTDrlYOhSrP"
      },
      "outputs": [],
      "source": [
        "!cp -r /content/drive/MyDrive/weights /content/weights\n",
        "!mkdir \"/content/train_images\"\n",
        "!mkdir \"/content/train_masks\"\n"
      ]
    },
    {
      "cell_type": "code",
      "execution_count": 6,
      "metadata": {
        "colab": {
          "base_uri": "https://localhost:8080/"
        },
        "id": "L8JjD1MKg_Oy",
        "outputId": "b264b575-6840-49c3-af7c-99d0d7cfa096"
      },
      "outputs": [
        {
          "output_type": "stream",
          "name": "stderr",
          "text": [
            "Ultralytics YOLOv8.0.200 🚀 Python-3.10.12 torch-2.1.0+cu118 CPU (Intel Xeon 2.20GHz)\n",
            "Setup complete ✅ (2 CPUs, 12.7 GB RAM, 27.2/225.8 GB disk)\n"
          ]
        }
      ],
      "source": [
        "import ultralytics\n",
        "from ultralytics import YOLO\n",
        "import cv2\n",
        "import numpy as np\n",
        "import os\n",
        "import pandas as pd\n",
        "from IPython.display import display, Image\n",
        "from tqdm import tqdm\n",
        "from skimage import io, color, measure, filters\n",
        "import matplotlib.pyplot as plt\n",
        "import time\n",
        "ultralytics.checks()\n",
        "\n",
        "import torch\n",
        "#import roboflow\n",
        "import base64\n",
        "\n",
        "#import supervision as sv\n",
        "\n",
        "#from roboflow import Roboflow\n",
        "#from segment_anything import sam_model_registry, SamAutomaticMaskGenerator, SamPredictor\n",
        "\n",
        "FONT = cv2.FONT_HERSHEY_SIMPLEX\n",
        "POSITION = (50, 50)\n",
        "FOURCC = cv2.VideoWriter_fourcc(*'XVID')\n",
        "\n",
        "\n",
        "\n",
        "def get_mask_height(mask):\n",
        "\n",
        "   # Find the active coordinates\n",
        "    coords = np.column_stack(np.where(mask))\n",
        "\n",
        "    # Extract bounding box coordinates\n",
        "    y_min, x_min = coords.min(axis=0)\n",
        "    y_max, x_max = coords.max(axis=0)\n",
        "\n",
        "    # Calculate the height in pixels\n",
        "    height_in_pixels = y_max - y_min + 1  # \"+ 1\" to include both boundary pixels\n",
        "\n",
        "    # Assume pixel spacing (resolution) is given, for example:\n",
        "    pixel_spacing = 0.02  # 1/96 dpi mm/pixel\n",
        "\n",
        "    # Convert height in pixels to height in mm\n",
        "    height_in_mm = height_in_pixels * pixel_spacing\n",
        "\n",
        "    return height_in_mm\n",
        "\n",
        "\n",
        "def get_region_height(mask):\n",
        "  gray = color.rgb2gray(mask)\n",
        "\n",
        "  # Threshold the image to create a binary mask (assuming mask is brighter than the background)\n",
        "  binary = gray > filters.threshold_otsu(gray)\n",
        "\n",
        "  # Label the regions in the binary mask\n",
        "  label_image = measure.label(binary)\n",
        "\n",
        "  # Measure properties of labeled regions\n",
        "  properties = measure.regionprops(label_image)\n",
        "\n",
        "  # Assuming the mask is a single region; if not, you'd iterate through regions\n",
        "  region = properties[0]\n",
        "\n",
        "  # Height of the mask\n",
        "  height = region.bbox[2] - region.bbox[0]\n",
        "\n",
        "  # Area of the mask\n",
        "  area = region.area\n",
        "\n",
        "  return area, height\n",
        "\n",
        "\n",
        "def feret_diameter(region):\n",
        "    \"\"\"Compute the maximum Feret diameter for a region.\"\"\"\n",
        "    max_diameter = 0\n",
        "    coords = region.coords\n",
        "\n",
        "    for i in range(len(coords)):\n",
        "        for j in range(i+1, len(coords)):\n",
        "            distance = np.linalg.norm(coords[i] - coords[j])\n",
        "            if distance > max_diameter:\n",
        "                max_diameter = distance\n",
        "\n",
        "    return max_diameter\n",
        "\n",
        "def annotate_image(image_path: str, masks: np.ndarray) -> np.ndarray:\n",
        "    image = cv2.imread(image_path)\n",
        "\n",
        "    xyxy = sv.mask_to_xyxy(masks=masks)\n",
        "    detections = sv.Detections(xyxy=xyxy, mask=masks)\n",
        "\n",
        "    mask_annotator = sv.MaskAnnotator()\n",
        "    return mask_annotator.annotate(scene=image.copy(), detections=detections)\n",
        "\n",
        "def show_mask(mask, ax, random_color=False):\n",
        "    if random_color:\n",
        "        color = np.concatenate([np.random.random(3), np.array([0.6])], axis=0)\n",
        "    else:\n",
        "        color = np.array([30/255, 144/255, 255/255, 0.6])\n",
        "    h, w = mask.shape[-2:]\n",
        "    mask_image = mask.reshape(h, w, 1) * color.reshape(1, 1, -1)\n",
        "    ax.imshow(mask_image)\n",
        "\n",
        "def return_mask(mask,random_color=False):\n",
        "    if random_color:\n",
        "        color = np.concatenate([np.random.random(3), np.array([0.6])], axis=0)\n",
        "    else:\n",
        "        color = np.array([30/255, 144/255, 255/255, 0.6])\n",
        "    h, w = mask.shape[-2:]\n",
        "    mask_image = mask.reshape(h, w, 1) * color.reshape(1, 1, -1)\n",
        "    return mask_image\n",
        "\n",
        "def show_points(coords, labels, ax, marker_size=375):\n",
        "    pos_points = coords[labels==1]\n",
        "    neg_points = coords[labels==0]\n",
        "    ax.scatter(pos_points[:, 0], pos_points[:, 1], color='green', marker='*', s=marker_size, edgecolor='white', linewidth=1.25)\n",
        "    ax.scatter(neg_points[:, 0], neg_points[:, 1], color='red', marker='*', s=marker_size, edgecolor='white', linewidth=1.25)\n",
        "\n",
        "def show_box(box, ax):\n",
        "    x0, y0 = box[0], box[1]\n",
        "    w, h = box[2] - box[0], box[3] - box[1]\n",
        "    ax.add_patch(plt.Rectangle((x0, y0), w, h, edgecolor='green', facecolor=(0,0,0,0), lw=2))\n",
        "\n",
        "\n",
        "\n",
        "################old logic ####################################\n",
        "#######################################################\n",
        "#####################################\n",
        "def extract_frames(video_path, output_folder):\n",
        "  cap = cv2.VideoCapture(video_path)\n",
        "  # Define the codec and create VideoWriter object\n",
        "  fourcc = cv2.VideoWriter_fourcc(*'XVID')\n",
        "  out = cv2.VideoWriter('all_frames_output.avi', fourcc, 20.0, (int(cap.get(3)), int(cap.get(4))))\n",
        "\n",
        "  data = []\n",
        "  if not cap.isOpened():\n",
        "    print(\"Error opening video file\")\n",
        "    return\n",
        "\n",
        "  fps = cap.get(cv2.CAP_PROP_FPS)\n",
        "  frames_per_output = fps // 2\n",
        "  frame_count = 0#start_frame\n",
        "  total_time = 0\n",
        "  output_count = 0\n",
        "  iter = 1\n",
        "  new_iter = 1\n",
        "  with tqdm(total=int(cap.get(cv2.CAP_PROP_FRAME_COUNT))) as pbar:\n",
        "    while True:\n",
        "      ret, frame = cap.read()\n",
        "\n",
        "      if not ret:\n",
        "        break\n",
        "\n",
        "      # Define the codec and create VideoWriter object\n",
        "      fourcc = cv2.VideoWriter_fourcc(*'XVID')\n",
        "      out = cv2.VideoWriter('output_full.avi', fourcc, 20.0, (int(cap.get(3)), int(cap.get(4))))\n",
        "\n",
        "\n",
        "      # Determine the current second in the video\n",
        "      current_second = frame_count // fps\n",
        "\n",
        "      if frame_count % frames_per_output  == 0:\n",
        "        # Compute the index of the frame within the current second (0, 1, or 2)\n",
        "        frame_within_second = (frame_count % fps) // (fps // 2)\n",
        "        #frame label correspnds to the fps count\n",
        "        frame_label = int(frame_count/fps) + 1\n",
        "        #check for the rotation number\n",
        "        if frame_label % 8 == 0:\n",
        "            new_iter = int(frame_label/8) + 1\n",
        "\n",
        "        file_name = f\"frame_{frame_label}S_{int(frame_within_second)}F_{new_iter}I.jpg\"\n",
        "        output_path = f\"{output_folder}/{file_name}\"\n",
        "        mask_path = f\"{mask_folder}/{file_name}\"\n",
        "\n",
        "        #processing start time\n",
        "        start_time = time.time()\n",
        "        predictor.set_image(frame)\n",
        "\n",
        "        #predict the SAM\n",
        "        masks, scores, logits = predictor.predict(\n",
        "          point_coords=input_point,\n",
        "          point_labels=input_label,\n",
        "          multimask_output=True,\n",
        "          )\n",
        "\n",
        "      for i, (mask, score) in enumerate(zip(masks, scores)):\n",
        "        area = np.sum(mask.astype(bool))\n",
        "\n",
        "        #if area < 2000:\n",
        "          # Convert to numpy array for easier processing\n",
        "        mask_array = np.array(mask)\n",
        "\n",
        "          # Check rows where the mask is present\n",
        "        rows_with_mask = np.any(mask_array > 0, axis=1)  # This considers any non-zero value as mask. Adjust the threshold as required.\n",
        "\n",
        "          # Find the first and last row containing the mask\n",
        "        first_row = np.where(rows_with_mask)[0][0]\n",
        "        last_row = np.where(rows_with_mask)[0][-1]\n",
        "\n",
        "          # Calculate the height\n",
        "        height = (last_row - first_row + 1) * (1/96)\n",
        "        text = f\"Ht: {height:.2f}mm Area: {area}\"\n",
        "          #print(\"Start writting frames\" )\n",
        "        save_mask_on_image(frame, mask, output_path, text,out)\n",
        "          #print(\"Frame written to:\",{file_name})\n",
        "        data.append([file_name, area, height])\n",
        "\n",
        "      # Convert data to a DataFrame and then to a CSV file\n",
        "      csv_file = '/content/data.csv'\n",
        "      df = pd.DataFrame(data, columns=['Frame Number', 'Area', 'Height (mm)'])\n",
        "      df.to_csv(csv_file, index=False)\n",
        "\n",
        "      end_time = time.time()\n",
        "      total_time += end_time - start_time\n",
        "\n",
        "      frame_count += 1\n",
        "      pbar.update(1)\n",
        "      out.write(frame)\n",
        "      # If frame_count is multiple of 100, print the average time\n",
        "      if frame_count % 100 == 0:\n",
        "        average_time = total_time / 100\n",
        "        print(f\"Average time for last 100 frames: {average_time:.4f} seconds\")\n",
        "        total_time = 0  # Reset total time for next batch of frames\n",
        "\n",
        "  cap.release()\n",
        "\n"
      ]
    },
    {
      "cell_type": "code",
      "execution_count": null,
      "metadata": {
        "colab": {
          "base_uri": "https://localhost:8080/"
        },
        "id": "Y_uVYvYS2UB2",
        "outputId": "b524379f-f7e1-4e22-d12c-49decc0b0827"
      },
      "outputs": [
        {
          "name": "stdout",
          "output_type": "stream",
          "text": [
            "cp: cannot stat '/content/videos/too_high_0914_1353_part2.mp4': No such file or directory\n"
          ]
        }
      ],
      "source": [
        "!cp /content/videos/too_high_0914_1353_part2.mp4 /content/videos"
      ]
    },
    {
      "cell_type": "code",
      "execution_count": null,
      "metadata": {
        "colab": {
          "base_uri": "https://localhost:8080/"
        },
        "id": "SPnZJx7Aax3e",
        "outputId": "317b80f5-e804-4153-e349-990390701364"
      },
      "outputs": [
        {
          "output_type": "stream",
          "name": "stdout",
          "text": [
            "unzip:  cannot find or open /content/too_low_2023-10-03.zip, /content/too_low_2023-10-03.zip.zip or /content/too_low_2023-10-03.zip.ZIP.\n"
          ]
        }
      ],
      "source": [
        "# prompt: unzip\n",
        "\n",
        "!unzip /content/too_low_2023-10-03.zip"
      ]
    },
    {
      "cell_type": "code",
      "execution_count": 7,
      "metadata": {
        "id": "LsdPhgBsV1aW"
      },
      "outputs": [],
      "source": [
        "####################################################################\n",
        "##################### Refactored logic ################################\n",
        "###################################################################\n",
        "import pandas as pd\n",
        "import numpy as np\n",
        "from tqdm import tqdm\n",
        "import cv2\n",
        "import time\n",
        "import matplotlib.pyplot as plt\n",
        "\n",
        "# Annotate the image with height information\n",
        "font = cv2.FONT_HERSHEY_SIMPLEX\n",
        "position = (10, 50)  # You can change this to the desired position on the image\n",
        "font_scale = 2\n",
        "font_color = (0, 30, 255)  # Blue color\n",
        "font_thickness = 4\n",
        "\n",
        "########## find red square bounding box in the frame ###################\n",
        "def find_red_square(frame):\n",
        "    frame = cv2.cvtColor(frame, cv2.COLOR_BGR2RGB)\n",
        "    lower_red = np.array([0, 0, 200])\n",
        "    upper_red = np.array([100, 100, 255])\n",
        "\n",
        "    red_mask = cv2.inRange(frame, lower_red, upper_red)\n",
        "    contours, _ = cv2.findContours(red_mask, cv2.RETR_EXTERNAL, cv2.CHAIN_APPROX_SIMPLE)\n",
        "    bbox = None\n",
        "    for contour in contours:\n",
        "        if cv2.contourArea(contour) > 500:  # filter out small contours\n",
        "            x, y, w, h = cv2.boundingRect(contour)\n",
        "            bbox = x, y, w, h\n",
        "            #cv2.rectangle(frame, (x, y), (x+w, y+h), (0, 255, 0), 2)\n",
        "\n",
        "    return bbox\n",
        "\n",
        "\n",
        "#### from the red box bbox check if the box has green color##################\n",
        "def is_color_square(frame, bbox, lower_color, upper_color):\n",
        "    x, y, w, h = bbox\n",
        "    roi = frame[y:y+h, x:x+w]  # Extract the region of interest based on bbox\n",
        "    mask = cv2.inRange(roi, lower_color, upper_color)\n",
        "    return np.any(mask)  # Return True if there's any non-zero pixel in the mask\n",
        "\n",
        "def is_green_square(frame, bbox):\n",
        "\n",
        "    # Define lower and upper range for green color in BGR format\n",
        "    lower_green = np.array([0, 100, 0])\n",
        "    upper_green = np.array([50, 255, 50])\n",
        "\n",
        "    return is_color_square(frame, bbox, lower_green, upper_green)\n",
        "\n",
        "def is_blue_square(frame, bbox):\n",
        "\n",
        "  # Define lower and upper range for blue  color in BGR format\n",
        "  lower_blue = np.array([0, 0, 100])\n",
        "  upper_blue = np.array([150, 150, 255])\n",
        "\n",
        "  return is_color_square(frame, bbox, lower_blue, upper_blue)\n",
        "\n",
        "def is_yellow_square(frame, bbox):\n",
        "\n",
        "  # Define lower and upper range for yellow color in BGR format\n",
        "  lower_yellow = np.array([100, 100, 0])\n",
        "  upper_yellow = np.array([255, 255, 150])\n",
        "  return is_color_square(frame, bbox, lower_yellow, upper_yellow)\n",
        "\n",
        "\"\"\" Get the mask height \"\"\"\n",
        "def get_contour_height(img):\n",
        "  # Ensure the mask is binary (0s and 255s)\n",
        "  binary_mask = np.where(img > 0, 255, 0).astype(np.uint8)\n",
        "   # Perform morphological operations to remove small disconnected components\n",
        "  kernel = np.ones((3, 3), np.uint8)\n",
        "  opening = cv2.morphologyEx(binary_mask, cv2.MORPH_OPEN, kernel)\n",
        "\n",
        "\n",
        "  contours, _ = cv2.findContours(opening, cv2.RETR_EXTERNAL, cv2.CHAIN_APPROX_SIMPLE)\n",
        "  min_area_threshold = 500  # Adjust as needed\n",
        "  mask_height = 0\n",
        "  mask_area = 0\n",
        "  for contour in contours:\n",
        "      area = cv2.contourArea(contour)\n",
        "      if area > min_area_threshold:\n",
        "        # Calculate the height of the contour (assuming it's vertical)\n",
        "        y_coords = contour[:, 0, 1]  # Get y-coordinates of the contour points\n",
        "        height = (np.max(y_coords) - np.min(y_coords) + 1)  # Calculate height\n",
        "        x, y, w, h = cv2.boundingRect(contour)\n",
        "        contour_bbox =  x, y, w, h\n",
        "        properties = measure.regionprops(contour.astype(int))\n",
        "        # Get the height property (major_axis_length)\n",
        "        #h = properties[0].major_axis_length\n",
        "        epsilon = 0.04 * cv2.arcLength(contour, True)  # You can adjust the epsilon value as needed\n",
        "        approx = cv2.approxPolyDP(contour, epsilon, True)\n",
        "\n",
        "        # Find the convex hull of the contour\n",
        "        hull = cv2.convexHull(approx)\n",
        "\n",
        "        # Extract the vertices of the convex hull (ordered in counterclockwise manner)\n",
        "        vertices = []\n",
        "        for point in hull:\n",
        "          x, y = point[0]\n",
        "          vertices.append((x, y))\n",
        "\n",
        "        # Sort the vertices by y-coordinate\n",
        "        sorted_vertices = sorted(vertices, key=lambda point: point[1])\n",
        "\n",
        "        # Calculate the height of the contour\n",
        "        topmost_point = sorted_vertices[0]\n",
        "        bottommost_point = sorted_vertices[-1]\n",
        "        contour_height = bottommost_point[1] - topmost_point[1]\n",
        "\n",
        "        height = round((h * 0.02), 2)\n",
        "        width = round((w * 0.02), 2)\n",
        "        print(f\"Contour Area:{area}, height:{height}\")\n",
        "        if area > min_area_threshold:\n",
        "            cv2.drawContours(binary_mask, [contour], -1, 0, -1)\n",
        "            mask_height = height\n",
        "            mask_width = width\n",
        "            mask_area = area\n",
        "\n",
        "  return mask_area, mask_height, mask_width, contour_bbox\n",
        "\n",
        "def get_contour_area_height(img):\n",
        "    # Ensure the mask is binary (0s and 255s)\n",
        "    binary_mask = np.where(img > 0, 255, 0).astype(np.uint8)\n",
        "\n",
        "    # Perform morphological operations to remove small disconnected components\n",
        "    kernel = np.ones((3, 3), np.uint8)\n",
        "    opening = cv2.morphologyEx(binary_mask, cv2.MORPH_OPEN, kernel)\n",
        "\n",
        "    contours, _ = cv2.findContours(opening, cv2.RETR_EXTERNAL, cv2.CHAIN_APPROX_SIMPLE)\n",
        "    min_area_threshold = 500  # Adjust as needed\n",
        "\n",
        "    max_area = 0\n",
        "    max_height = 0\n",
        "    max_bbox = None\n",
        "\n",
        "    for contour in contours:\n",
        "        area = cv2.contourArea(contour)\n",
        "        if area > min_area_threshold:\n",
        "            # Calculate the bounding box\n",
        "            x, y, w, h = cv2.boundingRect(contour)\n",
        "            contour_bbox = x, y, w, h\n",
        "\n",
        "            if area > max_area:\n",
        "                max_area = area\n",
        "                max_height = h  # Directly using the height of bounding box\n",
        "                max_width = w\n",
        "                max_bbox = contour_bbox\n",
        "\n",
        "    if max_bbox is not None:\n",
        "        return max_area, max_height, max_width, max_bbox\n",
        "    else:\n",
        "        return 0, 0, 0, (0, 0, 0, 0)\n",
        "\n",
        "\n",
        "def getTipbbox(model, frame):\n",
        "  results = model.predict(frame)\n",
        "  boxes = []\n",
        "  for result in results:\n",
        "    boxes =result.boxes.xyxy.cpu().numpy()\n",
        "    print(\"len:\", len(boxes))\n",
        "  if(len(boxes) == 0):\n",
        "    print(\"Tip not detected\")\n",
        "    return None\n",
        "  else:\n",
        "    x1, y1, x2, y2 = map(int,boxes[0])\n",
        "    return (x1, y1, x2, y2)\n",
        "\n",
        "''' get the center of bounding box '''\n",
        "def get_bbox_center(bbox):\n",
        "    coords = bbox\n",
        "    center_x = (coords[0] + coords[2]) / 2\n",
        "    center_y = (coords[1] + (coords[3])) / 2\n",
        "    return np.array([[center_x, center_y]])\n",
        "\n",
        "\n",
        "\n",
        "\"\"\" Overlay the mask on the frames \"\"\"\n",
        "def save_mask_on_image(original, mask,bbox, random_color=False):\n",
        "\n",
        "    original = cv2.cvtColor(original, cv2.COLOR_BGR2RGB)\n",
        "\n",
        "    color = np.array([0/255, 0/255, 128/255, 0.6])\n",
        "\n",
        "    # Convert 3-channel mask to single channel\n",
        "    # Check if mask has 3 channels\n",
        "    if len(mask.shape) == 3 and mask.shape[2] == 3:\n",
        "        mask_single_channel = mask[:, :, 0]\n",
        "    else:\n",
        "        mask_single_channel = mask\n",
        "\n",
        "\n",
        "    h, w = mask_single_channel.shape\n",
        "    mask_colored = (mask_single_channel.reshape(h, w, 1) * color[:3].reshape(1, 1, -1)).astype(np.float32)\n",
        "    # Find the active coordinates\n",
        "    coords = np.column_stack(np.where(mask))\n",
        "\n",
        "    # Extract bounding box coordinates for the mask\n",
        "    y_min, x_min = coords.min(axis=0)\n",
        "    y_max, x_max = coords.max(axis=0)\n",
        "    # Ensure original image is in float32 and range [0, 1]\n",
        "    original_float = original.astype(np.float32) / 255.0\n",
        "\n",
        "    # Combine original image with the colored mask\n",
        "    combined = cv2.addWeighted(original_float, 1, mask_colored, color[3], 0)\n",
        "\n",
        "    # Convert combined image back to range [0, 255] for saving\n",
        "    combined = (combined * 255).astype(np.uint8)\n",
        "\n",
        "    x_min = bbox[0]\n",
        "    y_min = bbox[1]\n",
        "    x_max = x_min + bbox[2]\n",
        "    y_max = y_min +bbox[3]\n",
        "    cv2.rectangle(combined, (x_min, y_min), (x_max,y_max), (255,0,0), 2)\n",
        "\n",
        "    return combined\n",
        "\n",
        "\"\"\"Determine if the current frame has green, blue or yellow box\n",
        "  and should be processed.\"\"\"\n",
        "def should_process_frame(frame, bbox):\n",
        "    if bbox is not None:\n",
        "        if is_green_square(frame, bbox):\n",
        "            return \"green\"\n",
        "        elif is_yellow_square(frame, bbox):\n",
        "            return \"yellow\"\n",
        "        elif is_blue_square(frame, bbox):\n",
        "            return \"blue\"\n",
        "        else:\n",
        "            return None\n",
        "    else:\n",
        "        print(\"No red box found on frame\")\n",
        "        return None\n",
        "\n",
        "\"\"\"Process a single frame and return relevant data.\"\"\"\n",
        "def process_frame(color_detected,input_box, frame):\n",
        "    data = []\n",
        "    overlay_img = frame\n",
        "    text = \"\"\n",
        "\n",
        "    input_point = get_bbox_center(input_box)\n",
        "    input_label = np.array([1])\n",
        "\n",
        "    # predictor logic here\n",
        "    predictor.set_image(frame)\n",
        "    if color_detected != \"yellow\":\n",
        "      prompt_box = None\n",
        "    else:\n",
        "      prompt_box = input_box\n",
        "\n",
        "    masks, scores, logits = predictor.predict(\n",
        "          point_coords=input_point,\n",
        "          point_labels=input_label,\n",
        "          box=prompt_box,\n",
        "          multimask_output=False,\n",
        "      )\n",
        "\n",
        "    for i, (mask, score) in enumerate(zip(masks, scores)):\n",
        "        area = np.sum(mask.astype(bool))\n",
        "        print(\"Mask Area:\", area)\n",
        "        # Further processing logic\n",
        "        if 500 < area < 7000:\n",
        "            area, height, width, cbbox = get_contour_area_height(mask)\n",
        "            height *= 0.02\n",
        "            text = f\"Ht: {height:.2f}mm\"\n",
        "            overlay_img = save_mask_on_image(frame, mask, cbbox)\n",
        "            data.append([area, height])\n",
        "        elif area > 7000:\n",
        "          masks, scores, logits = predictor.predict(\n",
        "          point_coords=input_point,\n",
        "          point_labels=input_label,\n",
        "          box=input_box,\n",
        "          multimask_output=False,\n",
        "          )\n",
        "          for i, (mask, score) in enumerate(zip(masks, scores)):\n",
        "            area = np.sum(mask.astype(bool))\n",
        "            print(\"Mask Area:\", area)\n",
        "            # Further processing logic\n",
        "            if 500 < area < 7000:\n",
        "              area, height, width, cbbox = get_contour_area_height(mask)\n",
        "              height *= 0.02\n",
        "              text = f\"Ht: {height:.2f}mm\"\n",
        "              overlay_img = save_mask_on_image(frame, mask, cbbox)\n",
        "              data.append([area, height])\n",
        "\n",
        "    return data, overlay_img, text\n"
      ]
    },
    {
      "cell_type": "code",
      "source": [
        "def get_bounding_box(ground_truth_map):\n",
        "  # get bounding box from mask\n",
        "  y_indices, x_indices = np.where(ground_truth_map > 0)\n",
        "  x_min, x_max = np.min(x_indices), np.max(x_indices)\n",
        "  y_min, y_max = np.min(y_indices), np.max(y_indices)\n",
        "  # add perturbation to bounding box coordinates\n",
        "  H, W = ground_truth_map.shape\n",
        "  x_min = max(0, x_min - np.random.randint(0, 20))\n",
        "  x_max = min(W, x_max + np.random.randint(0, 20))\n",
        "  y_min = max(0, y_min - np.random.randint(0, 20))\n",
        "  y_max = min(H, y_max + np.random.randint(0, 20))\n",
        "  bbox = [x_min, y_min, x_max, y_max]\n",
        "\n",
        "  return bbox"
      ],
      "metadata": {
        "id": "mTyyNE_CIxR3"
      },
      "execution_count": 17,
      "outputs": []
    },
    {
      "cell_type": "code",
      "source": [
        "import numpy as np\n",
        "\n",
        "def sam_process_frame(sam_model, input_box, frame, frame_path):\n",
        "    data = []\n",
        "    overlay_img = frame\n",
        "    text = \"\"\n",
        "\n",
        "    input_point = get_bbox_center(input_box)\n",
        "    input_label = np.array([1])\n",
        "\n",
        "    # Predictor logic here\n",
        "    results = sam_model('/content/frame_2S_blue.jpg', bboxes=[875, 631, 986, 723])\n",
        "\n",
        "    mask = results[0].masks[0].data.cpu().numpy()\n",
        "    area = np.sum(mask.astype(bool))\n",
        "\n",
        "    # Further processing logic\n",
        "    if 500 < area < 7000:\n",
        "        area, height, width, cbbox = get_bounding_box(mask)\n",
        "        height *= 0.02\n",
        "        text = f\"Ht: {height:.2f}mm\"\n",
        "        overlay_img = save_mask_on_image(frame, mask, cbbox)\n",
        "        data.append([area, height])\n",
        "\n",
        "    return data, overlay_img, text\n",
        "\n"
      ],
      "metadata": {
        "id": "wE-nOnHFtS_F"
      },
      "execution_count": null,
      "outputs": []
    },
    {
      "cell_type": "code",
      "source": [
        "def getFileName(fps, frame_count, color_detected):\n",
        "  frame_label = int(frame_count/fps) + 1\n",
        "  file_name = f\"frame_{frame_label}S_{color_detected}.jpg\"\n",
        "  return file_name"
      ],
      "metadata": {
        "id": "18yKElthwUWr"
      },
      "execution_count": null,
      "outputs": []
    },
    {
      "cell_type": "code",
      "execution_count": null,
      "metadata": {
        "id": "KLAMCxYBi-PX"
      },
      "outputs": [],
      "source": [
        "def process_and_save_frame(frame,text, out, frame_count, fps, color_detected, green_counter, image_folder, mask_folder, processed_frame):\n",
        "    print(\"Color:\", color_detected)\n",
        "    if processed_frame is None:\n",
        "        processed_frame = frame\n",
        "\n",
        "    cv2.putText(processed_frame, text, POSITION, FONT, 2, (0, 0, 255), 2)\n",
        "    out.write(processed_frame)\n",
        "\n",
        "    frame_label = int(frame_count/fps) + 1\n",
        "    file_name = f\"frame_{frame_label}S_{color_detected}_{int(green_counter)}F.jpg\"\n",
        "    cv2.imwrite(os.path.join(image_folder, file_name), frame)\n",
        "    cv2.imwrite(os.path.join(mask_folder, file_name), processed_frame)\n",
        "\n",
        "    return file_name"
      ]
    },
    {
      "cell_type": "code",
      "execution_count": 8,
      "metadata": {
        "id": "55nzigKlSV15"
      },
      "outputs": [],
      "source": [
        "moving_avg_window_size=3\n",
        "moving_avg_blue_areas = []\n",
        "moving_avg_blue_heights = []\n",
        "\n",
        "moving_avg_yellow_areas = []\n",
        "moving_avg_yellow_heights = []\n",
        "\n",
        "moving_avg_green_areas = []\n",
        "moving_avg_green_heights = []\n",
        "\n",
        "\n",
        "def update_moving_avg(color, avg_area, avg_height, window_size):\n",
        "    moving_avg_areas = None\n",
        "    moving_avg_heights = None\n",
        "\n",
        "    if color == \"blue\":\n",
        "        moving_avg_areas = moving_avg_blue_areas\n",
        "        moving_avg_heights = moving_avg_blue_heights\n",
        "    elif color == \"yellow\":\n",
        "        moving_avg_areas = moving_avg_yellow_areas\n",
        "        moving_avg_heights = moving_avg_yellow_heights\n",
        "    elif color == \"green\":\n",
        "        moving_avg_areas = moving_avg_green_areas\n",
        "        moving_avg_heights = moving_avg_green_heights\n",
        "\n",
        "    moving_avg_areas.append(avg_area)\n",
        "    moving_avg_heights.append(avg_height)\n",
        "\n",
        "    if len(moving_avg_areas) >= window_size:\n",
        "        moving_avg_area = sum(moving_avg_areas[-window_size:]) / window_size\n",
        "        moving_avg_height = sum(moving_avg_heights[-window_size:]) / window_size\n",
        "        return moving_avg_area, moving_avg_height\n",
        "\n",
        "    return None, None\n",
        "\n",
        "\n",
        "def compute_moving_avg(prev_color, color_counter, avg_area, avg_height, window_size):\n",
        "    if color_counter <= 1:\n",
        "        return None, None\n",
        "\n",
        "    '''If there are fewer than 3 data points,\n",
        "    compute the moving average over whatever data points are available'''\n",
        "    moving_avg_area, moving_avg_height = update_moving_avg(prev_color, avg_area, avg_height, window_size)\n",
        "    if moving_avg_area is None:\n",
        "      moving_avg_area = avg_area\n",
        "    if moving_avg_height is None:\n",
        "      moving_avg_height = avg_height\n",
        "\n",
        "    return moving_avg_area, moving_avg_height"
      ]
    },
    {
      "cell_type": "code",
      "source": [
        "def sam_avg_color_frames(model, sam_model, video_path, image_folder, mask_folder, csv_file, output_video_path):\n",
        "    cap = cv2.VideoCapture(video_path)\n",
        "    out = cv2.VideoWriter(output_video_path, FOURCC, 20.0, (int(cap.get(3)), int(cap.get(4))))\n",
        "\n",
        "    all_data = []\n",
        "    new_data = []\n",
        "    total_time = 0\n",
        "    prev_green_txt = \"\"\n",
        "    moving_avg_text = \"\"\n",
        "    fps = int(cap.get(cv2.CAP_PROP_FPS))\n",
        "    red_bbox = None\n",
        "    color_counter = 1\n",
        "    processed_frame = None\n",
        "    total_metrics = np.zeros(4)\n",
        "    total_area =0\n",
        "    total_height = 0\n",
        "    prev_color = None\n",
        "\n",
        "\n",
        "\n",
        "    with tqdm(total=int(cap.get(cv2.CAP_PROP_FRAME_COUNT))) as pbar:\n",
        "        frame_count = 0\n",
        "\n",
        "        while cap.isOpened():\n",
        "            ret, frame = cap.read()\n",
        "            if not ret:\n",
        "                break\n",
        "            frame = cv2.cvtColor(frame, cv2.COLOR_BGR2RGB)\n",
        "            start_time = time.time()\n",
        "\n",
        "            if red_bbox is None:\n",
        "                red_bbox = find_red_square(frame)\n",
        "\n",
        "            color_detected = should_process_frame(frame, red_bbox)\n",
        "            if color_detected:\n",
        "                tip_bbox = getTipbbox(model, frame)\n",
        "                image_file_name = getFileName(fps, frame_count, color_detected)\n",
        "                file_path = os.path.join(image_folder, image_file_name)\n",
        "                cv2.imwrite(file_path, frame)\n",
        "\n",
        "                if tip_bbox:\n",
        "                    x1, y1, x2, y2 = tip_bbox\n",
        "                    input_box = np.array([x1 , y2, x2, y2+35])\n",
        "                    result = sam_process_frame(sam_model,input_box, frame, file_path)\n",
        "\n",
        "                    if result:\n",
        "                        frame_data, processed_frame, _ = result\n",
        "                        # Accumulate metrics for each green frame\n",
        "                        for area, height in frame_data:\n",
        "                            total_area += area\n",
        "                            total_height += height\n",
        "                        all_data.extend(frame_data)\n",
        "                        color_counter += 1\n",
        "                        prev_color = color_detected\n",
        "                        print(f\"Processing {color_detected} frame :{prev_green_txt}\")\n",
        "\n",
        "                    else:\n",
        "                        print(\"Warning: Couldn't process the green frame:\", frame_count)\n",
        "                        continue\n",
        "            else:\n",
        "\n",
        "                if color_counter > 1:\n",
        "                  avg_area = total_area / (color_counter - 1)\n",
        "                  avg_height = total_height / (color_counter - 1)\n",
        "                  avg_text = (f\"Height: {avg_height:.2f}mm  \")\n",
        "                  prev_green_txt = avg_text\n",
        "\n",
        "                  moving_avg_area, moving_avg_height = compute_moving_avg(prev_color, color_counter,\n",
        "                                                                          avg_area, avg_height,\n",
        "                                                                          moving_avg_window_size)\n",
        "                  print(\"Moving Average before:\",moving_avg_text)\n",
        "                  moving_avg_text = \"\" if moving_avg_height is None else f\"MA Ht: {moving_avg_height:.2f}mm\"\n",
        "                  print(\"Moving Average:\",moving_avg_text)\n",
        "                  file_name = process_and_save_frame(frame, avg_text+moving_avg_text, out, frame_count, fps, prev_color, color_counter, image_folder, mask_folder, processed_frame)\n",
        "                  new_data.append([file_name, avg_height, avg_area, prev_color, moving_avg_height if moving_avg_height else None])\n",
        "                  total_area = 0\n",
        "                  total_height = 0\n",
        "                  total_width = 0\n",
        "                  total_diagonal = 0\n",
        "                else:\n",
        "                    cv2.putText(frame, prev_green_txt + moving_avg_text, position, cv2.FONT_HERSHEY_SIMPLEX, 2, (0, 0, 255), 2)\n",
        "                    out.write(frame)\n",
        "                color_counter = 1\n",
        "                avg_text = \"\"\n",
        "                #print(\"Processing red frame:\", prev_green_txt)\n",
        "\n",
        "            end_time = time.time()\n",
        "            total_time += end_time - start_time\n",
        "            frame_count += 1\n",
        "            pbar.update(1)\n",
        "\n",
        "            if frame_count % 100 == 0:\n",
        "                print(f\"Average time for last 100 frames: {total_time/100:.4f} seconds\")\n",
        "                total_time = 0\n",
        "\n",
        "    df = pd.DataFrame(new_data, columns=['file_name', 'Height (mm)', 'Area', 'color', \"Moving Average Height\"])\n",
        "    df.to_csv(csv_file, index=False)\n",
        "\n",
        "    cap.release()\n",
        "    out.release()\n"
      ],
      "metadata": {
        "id": "CqKRUIkLslrP"
      },
      "execution_count": 10,
      "outputs": []
    },
    {
      "cell_type": "code",
      "execution_count": 11,
      "metadata": {
        "colab": {
          "base_uri": "https://localhost:8080/"
        },
        "id": "yOG9c9CrJMaS",
        "outputId": "a44e70b3-5c20-4431-9874-d37ce62b02e0"
      },
      "outputs": [
        {
          "output_type": "stream",
          "name": "stdout",
          "text": [
            "Archive:  /content/drive/MyDrive/tip_2023_10_13.zip\n",
            "  inflating: tip_2023_10_13/2023-10-13 11-44-38.mp4  \n",
            "  inflating: tip_2023_10_13/2023-10-13 11-48-21.mp4  \n"
          ]
        }
      ],
      "source": [
        "!unzip /content/drive/MyDrive/tip_2023_10_13.zip"
      ]
    },
    {
      "cell_type": "markdown",
      "metadata": {
        "id": "sp-X2WpHLubz"
      },
      "source": [
        "#@Old Logic"
      ]
    },
    {
      "cell_type": "code",
      "execution_count": null,
      "metadata": {
        "id": "spzNYebAMMou"
      },
      "outputs": [],
      "source": [
        "\n",
        "def extract_image_frames(model, video_path, image_folder, mask_folder, csv_file):\n",
        "    cap = cv2.VideoCapture(video_path)\n",
        "    all_data = []\n",
        "    total_time = 0\n",
        "    prev_green_txt = \"\"\n",
        "    if not cap.isOpened():\n",
        "        print(\"Error opening video file\")\n",
        "        return\n",
        "\n",
        "    # Define the codec and create VideoWriter object\n",
        "    fourcc = cv2.VideoWriter_fourcc(*'XVID')\n",
        "    out = cv2.VideoWriter('output_full.avi', fourcc, 20.0, (int(cap.get(3)), int(cap.get(4))))\n",
        "\n",
        "    fps = int(cap.get(cv2.CAP_PROP_FPS))\n",
        "    red_bbox = None\n",
        "    is_frame_green = False\n",
        "    green_counter = 1\n",
        "    processed_frame = None\n",
        "\n",
        "    # Define accumulators for metrics\n",
        "    total_area = 0\n",
        "    total_height = 0\n",
        "    total_width = 0\n",
        "    total_diagonal = 0\n",
        "\n",
        "    with tqdm(total=int(cap.get(cv2.CAP_PROP_FRAME_COUNT))) as pbar:\n",
        "        frame_count = 0\n",
        "        while True:\n",
        "            ret, frame = cap.read()\n",
        "            if not ret:\n",
        "                break\n",
        "            frame = cv2.cvtColor(frame, cv2.COLOR_BGR2RGB)\n",
        "            start_time = time.time()\n",
        "            if red_bbox is None:\n",
        "              red_bbox = find_red_square(frame)\n",
        "            '''Process the frames for the green box '''\n",
        "            if should_process_frame(frame, red_bbox):\n",
        "                is_frame_green = True\n",
        "                tip_bbox = getTipbbox(model, frame)\n",
        "                if tip_bbox is not None:\n",
        "                  x1, y1, x2, y2 = tip_bbox\n",
        "                  input_box = np.array([x1 , y2, x2, y2+30])\n",
        "\n",
        "                  result = process_frame(input_box, frame, image_folder, mask_folder, frame_count, green_counter, fps, out)\n",
        "                  if result is not None:\n",
        "                    frame_data, overly_frame, text = result\n",
        "                    processed_frame = overly_frame\n",
        "\n",
        "                    #Accumulate metrics for each green frame\n",
        "                    for data in frame_data:\n",
        "                     area, height, width, diagonal = data\n",
        "                     total_area += area\n",
        "                     total_height += height\n",
        "                     total_width += width\n",
        "                     total_diagonal += diagonal\n",
        "                     print(\"Total height:\", total_height)\n",
        "\n",
        "                    print(\"Processing green frame:\", prev_green_txt)\n",
        "                    green_counter += 1\n",
        "                    all_data.extend(frame_data)\n",
        "                  else:\n",
        "                    print(\"Warning: Couldn't process the green frame:\", frame_count)\n",
        "                    continue\n",
        "\n",
        "\n",
        "            else:\n",
        "                processed_frame = frame\n",
        "                is_frame_green = False\n",
        "                if green_counter >= 1:\n",
        "                   avg_area = total_area / (green_counter - 1)\n",
        "                   avg_height = total_height / (green_counter - 1)\n",
        "                   avg_width = total_width / (green_counter - 1)\n",
        "                   avg_diagonal = total_diagonal / (green_counter - 1)\n",
        "\n",
        "                   avg_text = (f\"Average area: {avg_area:.2f}  \"\n",
        "                                f\"Height: {avg_height:.2f}mm  \")\n",
        "                   # Write avg_text onto the last processed green frame\n",
        "                   position = (10, 30)\n",
        "                   cv2.putText(processed_frame, avg_text, position, cv2.FONT_HERSHEY_SIMPLEX, 1, (255, 0, 0), 2)\n",
        "\n",
        "\n",
        "                   total_area = 0\n",
        "                   total_height = 0\n",
        "                   total_width = 0\n",
        "                   total_diagonal = 0\n",
        "                green_counter = 1\n",
        "                print(\"Processing red frame:\", prev_green_txt)\n",
        "\n",
        "            # Write the output frame to video\n",
        "            out.write(processed_frame)\n",
        "            end_time = time.time()\n",
        "            total_time += end_time - start_time\n",
        "            frame_count += 1\n",
        "            pbar.update(1)\n",
        "\n",
        "            # If frame_count is multiple of 100, print the average time\n",
        "            if frame_count % 100 == 0:\n",
        "              average_time = total_time / 100\n",
        "              print(f\"Average time for last 100 frames: {average_time:.4f} seconds\")\n",
        "              total_time = 0  # Reset total time for next batch of frames\n",
        "\n",
        "\n",
        "    # Convert data to a DataFrame and then to a CSV file\n",
        "    df = pd.DataFrame(all_data, columns=['Frame Number', 'Area', 'Height (mm)', 'Width (mm)', 'diagonal (mm)'])\n",
        "    df.to_csv(csv_file, index=False)\n",
        "\n",
        "    cap.release()\n",
        "    out.release()\n",
        "\n",
        "\n",
        "\n"
      ]
    },
    {
      "cell_type": "code",
      "execution_count": null,
      "metadata": {
        "id": "hezqAWA7l0nL"
      },
      "outputs": [],
      "source": [
        "\n",
        "def new_extract_green_frames(model, video_path, image_folder, mask_folder, csv_file):\n",
        "    cap = cv2.VideoCapture(video_path)\n",
        "    out = cv2.VideoWriter('output_full.avi', FOURCC, 20.0, (int(cap.get(3)), int(cap.get(4))))\n",
        "\n",
        "    all_data = []\n",
        "    new_data = []\n",
        "    total_time = 0\n",
        "    prev_green_txt = \"\"\n",
        "    fps = int(cap.get(cv2.CAP_PROP_FPS))\n",
        "    red_bbox = None\n",
        "    green_counter = 1\n",
        "    processed_frame = None\n",
        "    total_metrics = np.zeros(4)\n",
        "    total_area =0\n",
        "    total_height = 0\n",
        "    prev_color = None\n",
        "\n",
        "\n",
        "    with tqdm(total=int(cap.get(cv2.CAP_PROP_FRAME_COUNT))) as pbar:\n",
        "        frame_count = 0\n",
        "\n",
        "        while cap.isOpened():\n",
        "            ret, frame = cap.read()\n",
        "            if not ret:\n",
        "                break\n",
        "            frame = cv2.cvtColor(frame, cv2.COLOR_BGR2RGB)\n",
        "            start_time = time.time()\n",
        "\n",
        "            if red_bbox is None:\n",
        "                red_bbox = find_red_square(frame)\n",
        "\n",
        "            color_detected = should_process_frame(frame, red_bbox)\n",
        "            if color_detected:\n",
        "                tip_bbox = getTipbbox(model, frame)\n",
        "\n",
        "                if tip_bbox:\n",
        "                    x1, y1, x2, y2 = tip_bbox\n",
        "                    input_box = np.array([x1 , y2, x2, y2+40])\n",
        "                    result = process_frame(input_box, frame)\n",
        "\n",
        "                    if result:\n",
        "                        frame_data, processed_frame, _ = result\n",
        "                        # Accumulate metrics for each green frame\n",
        "                        for area, height in frame_data:\n",
        "                            total_area += area\n",
        "                            total_height += height\n",
        "                        all_data.extend(frame_data)\n",
        "                        green_counter += 1\n",
        "                        prev_color = color_detected\n",
        "                        print(f\"Processing {color_detected} frame :{prev_green_txt}\")\n",
        "\n",
        "                    else:\n",
        "                        print(\"Warning: Couldn't process the green frame:\", frame_count)\n",
        "                        continue\n",
        "            else:\n",
        "\n",
        "                if green_counter > 1:\n",
        "                    avg_area = total_area / (green_counter - 1)\n",
        "                    avg_height = total_height / (green_counter - 1)\n",
        "                    avg_text = (f\"Height: {avg_height:.2f}mm  \")\n",
        "                    prev_green_txt = avg_text\n",
        "\n",
        "                    file_name = process_and_save_frame(frame, avg_text, out, frame_count, fps, prev_color, green_counter, image_folder, mask_folder, processed_frame)\n",
        "                    new_data.append([file_name, avg_height, avg_area, prev_color])\n",
        "\n",
        "                    total_area = 0\n",
        "                    total_height = 0\n",
        "                    total_width = 0\n",
        "                    total_diagonal = 0\n",
        "                else:\n",
        "                    cv2.putText(frame, prev_green_txt, position, cv2.FONT_HERSHEY_SIMPLEX, 2, (0, 0, 255), 2)\n",
        "                    out.write(frame)\n",
        "                green_counter = 1\n",
        "                avg_text = \"\"\n",
        "                #print(\"Processing red frame:\", prev_green_txt)\n",
        "\n",
        "            end_time = time.time()\n",
        "            total_time += end_time - start_time\n",
        "            frame_count += 1\n",
        "            pbar.update(1)\n",
        "\n",
        "            if frame_count % 100 == 0:\n",
        "                print(f\"Average time for last 100 frames: {total_time/100:.4f} seconds\")\n",
        "                total_time = 0\n",
        "\n",
        "    df = pd.DataFrame(new_data, columns=['file_name', 'Height (mm)', 'Area', 'color'])\n",
        "    df.to_csv(csv_file, index=False)\n",
        "\n",
        "    cap.release()\n",
        "    out.release()\n",
        "\n"
      ]
    },
    {
      "cell_type": "code",
      "execution_count": null,
      "metadata": {
        "id": "nrcsMiouHc0M"
      },
      "outputs": [],
      "source": [
        "def new_extract_image_frames(model, video_path, image_folder, mask_folder, csv_file):\n",
        "    cap = cv2.VideoCapture(video_path)\n",
        "    all_data = []\n",
        "    new_data = []\n",
        "    total_time = 0\n",
        "    prev_green_txt = \"\"\n",
        "    avg_text = \"\"\n",
        "    position = (50, 50)\n",
        "\n",
        "    fourcc = cv2.VideoWriter_fourcc(*'XVID')\n",
        "    out = cv2.VideoWriter('output_full.avi', fourcc, 20.0, (int(cap.get(3)), int(cap.get(4))))\n",
        "\n",
        "    fps = int(cap.get(cv2.CAP_PROP_FPS))\n",
        "    red_bbox = None\n",
        "    is_frame_green = False\n",
        "    green_counter = 1\n",
        "    processed_frame = None\n",
        "\n",
        "    total_area = 0\n",
        "    total_height = 0\n",
        "    total_width = 0\n",
        "    total_diagonal = 0\n",
        "\n",
        "    with tqdm(total=int(cap.get(cv2.CAP_PROP_FRAME_COUNT))) as pbar:\n",
        "        frame_count = 0\n",
        "        while True:\n",
        "            ret, frame = cap.read()\n",
        "            if not ret:\n",
        "                break\n",
        "            frame = cv2.cvtColor(frame, cv2.COLOR_BGR2RGB)\n",
        "            start_time = time.time()\n",
        "\n",
        "            if red_bbox is None:\n",
        "                red_bbox = find_red_square(frame)\n",
        "\n",
        "            if should_process_frame(frame, red_bbox):\n",
        "                is_frame_green = True\n",
        "                tip_bbox = getTipbbox(model, frame)\n",
        "                if tip_bbox is not None:\n",
        "                    x1, y1, x2, y2 = tip_bbox\n",
        "                    input_box = np.array([x1 , y2, x2, y2+30])\n",
        "\n",
        "                    result = process_frame(input_box, frame)\n",
        "                    if result is not None:\n",
        "                        frame_data, overly_frame, text = result\n",
        "                        processed_frame = overly_frame\n",
        "\n",
        "                        # Accumulate metrics for each green frame\n",
        "                        for area, height, width, diagonal in frame_data:\n",
        "                            total_area += area\n",
        "                            total_height += height\n",
        "                            total_width += width\n",
        "                            total_diagonal += diagonal\n",
        "\n",
        "                        print(\"Processing green frame:\", prev_green_txt)\n",
        "                        green_counter += 1\n",
        "                        all_data.extend(frame_data)\n",
        "                    else:\n",
        "                        print(\"Warning: Couldn't process the green frame:\", frame_count)\n",
        "                        continue\n",
        "\n",
        "            else:\n",
        "                # Calculate average values if we've processed any green frames\n",
        "                if green_counter > 1:\n",
        "                    avg_area = total_area / (green_counter - 1)\n",
        "                    avg_height = total_height / (green_counter - 1)\n",
        "                    avg_width = total_width / (green_counter - 1)\n",
        "                    avg_diagonal = total_diagonal / (green_counter - 1)\n",
        "\n",
        "                    avg_text = (f\"Height: {avg_height:.2f}mm  \")\n",
        "\n",
        "                    # Write avg_text onto the last processed green frame\n",
        "                    cv2.putText(processed_frame, avg_text, position, cv2.FONT_HERSHEY_SIMPLEX, 2, (0, 0, 255), 2)\n",
        "                    out.write(processed_frame)\n",
        "                    # Save the processed_frame with avg_text to the image_folder\n",
        "                    frame_label = int(frame_count/fps) + 1\n",
        "                    file_name = f\"frame_{frame_label}S_green_{int(green_counter-1)}F_avgMetrics.jpg\"  # green_counter-1 because we are considering the last green frame\n",
        "                    cv2.imwrite(os.path.join(image_folder, file_name), frame)\n",
        "                    cv2.imwrite(os.path.join(mask_folder, file_name), processed_frame)\n",
        "                    new_data.append([file_name, avg_area, avg_height, avg_width, avg_diagonal])\n",
        "\n",
        "                    prev_green_txt = avg_text\n",
        "                    # Reset metrics for the next set of green frames\n",
        "                    total_area = 0\n",
        "                    total_height = 0\n",
        "                    total_width = 0\n",
        "                    total_diagonal = 0\n",
        "                cv2.putText(frame, prev_green_txt, position, cv2.FONT_HERSHEY_SIMPLEX, 2, (0, 0, 255), 2)\n",
        "                out.write(frame)\n",
        "                # Resetting avg_text so that it doesn't get written to successive red frames\n",
        "                avg_text = \"\"\n",
        "                green_counter = 1\n",
        "                print(\"Processing red frame:\", prev_green_txt)\n",
        "\n",
        "\n",
        "            end_time = time.time()\n",
        "            total_time += end_time - start_time\n",
        "            frame_count += 1\n",
        "            pbar.update(1)\n",
        "\n",
        "            if frame_count % 100 == 0:\n",
        "                average_time = total_time / 100\n",
        "                print(f\"Average time for last 100 frames: {average_time:.4f} seconds\")\n",
        "                total_time = 0\n",
        "\n",
        "    df = pd.DataFrame(new_data, columns=['file_name','Area', 'Height (mm)', 'Width (mm)', 'diagonal (mm)'])\n",
        "    df.to_csv(csv_file, index=False)\n",
        "\n",
        "    cap.release()\n",
        "    out.release()\n"
      ]
    },
    {
      "cell_type": "markdown",
      "metadata": {
        "id": "YFzFJfQuLyvp"
      },
      "source": [
        "#@Run the SAM model\n"
      ]
    },
    {
      "cell_type": "code",
      "execution_count": null,
      "metadata": {
        "colab": {
          "base_uri": "https://localhost:8080/"
        },
        "id": "aj8ZOWi7Ez6U",
        "outputId": "faf1fc49-7e40-4588-eac9-f7a97cb9a381"
      },
      "outputs": [
        {
          "output_type": "stream",
          "name": "stdout",
          "text": [
            "Archive:  /content/drive/MyDrive/tip_2023_10_13.zip\n",
            "  inflating: tip_2023_10_13/2023-10-13 11-44-38.mp4  \n",
            "  inflating: tip_2023_10_13/2023-10-13 11-48-21.mp4  \n"
          ]
        }
      ],
      "source": [
        "!unzip /content/drive/MyDrive/tip_2023_10_13.zip"
      ]
    },
    {
      "cell_type": "code",
      "execution_count": 12,
      "metadata": {
        "id": "wlzPFGsKlvhT"
      },
      "outputs": [],
      "source": [
        "!rm -rf /content/images_1013_1148/\n",
        "!rm -rf /content/masks_1013_1148/\n",
        "!mkdir  /content/images_1013_1148/\n",
        "!mkdir  /content/masks_1013_1148/\n",
        "!rm -rf /content/results_1013_1148/\n",
        "!mkdir  /content/results_1013_1148/\n"
      ]
    },
    {
      "cell_type": "code",
      "execution_count": null,
      "metadata": {
        "id": "vInfMaNsiS8L"
      },
      "outputs": [],
      "source": [
        "import torch\n",
        "import numpy as np\n",
        "import pickle\n",
        "import os\n",
        "import sys\n",
        "''' load the SAM model and Predictor '''\n",
        "\n",
        "SAM_SAM_CHECKPOINT_PATH = \"/content/weights/sam_vit_h_4b8939.pth\"\n",
        "\n",
        "DEVICE = torch.device('cuda:0' if torch.cuda.is_available() else 'cpu')\n",
        "MODEL_TYPE = \"vit_h\"\n",
        "\n",
        "sam = sam_model_registry[MODEL_TYPE](checkpoint=SAM_SAM_CHECKPOINT_PATH).to(device=DEVICE)\n",
        "\n"
      ]
    },
    {
      "cell_type": "code",
      "source": [
        "import torch\n",
        "import numpy as np\n",
        "import pickle\n",
        "import os\n",
        "import sys\n",
        "\n",
        "from ultralytics import SAM\n",
        "sam_model = SAM('sam_b.pt')"
      ],
      "metadata": {
        "colab": {
          "base_uri": "https://localhost:8080/"
        },
        "id": "4ZuGyKP7sD2Z",
        "outputId": "b1029215-16c9-4e69-8aec-1238bfb077d6"
      },
      "execution_count": 13,
      "outputs": [
        {
          "output_type": "stream",
          "name": "stderr",
          "text": [
            "Downloading https://github.com/ultralytics/assets/releases/download/v0.0.0/sam_b.pt to 'sam_b.pt'...\n",
            "100%|██████████| 358M/358M [00:05<00:00, 67.4MB/s]\n"
          ]
        }
      ]
    },
    {
      "cell_type": "code",
      "source": [],
      "metadata": {
        "id": "zfFwa8KFsMbl"
      },
      "execution_count": null,
      "outputs": []
    },
    {
      "cell_type": "code",
      "execution_count": null,
      "metadata": {
        "id": "-cdEiNyiWOCo"
      },
      "outputs": [],
      "source": [
        "import datetime\n",
        "import time\n",
        "if __name__ == \"__main__\":\n",
        "    predictor = SamPredictor(sam)\n",
        "\n",
        "\n",
        "    model =  YOLO('/content/weights/cylinder_weights/best.pt')\n",
        "\n",
        "    video_path = \"/content/tip_2023_10_13/2023-10-13 11-48-21.mp4\"\n",
        "    image_folder = \"/content/images_1013_1148\"\n",
        "    mask_folder = \"/content/masks_1013_1148\"\n",
        "    csv_file = '/content/data_1013_1144.csv'\n",
        "    # Capture the start time\n",
        "    start_time = datetime.datetime.now()\n",
        "    moving_avg_color_frames(model,video_path, image_folder, mask_folder, csv_file, \"output.avi\")\n",
        "    #extract_frames(video_path, output_folder)\n",
        "    end_time = datetime.datetime.now()\n",
        "\n",
        "    elapsed_time = end_time - start_time\n",
        "    print(f\"Elapsed time: {elapsed_time}\")\n",
        "\n"
      ]
    },
    {
      "cell_type": "code",
      "source": [
        "results = sam_model('/content/frame_2S_blue.jpg', bboxes = [875, 631, 986, 723])"
      ],
      "metadata": {
        "colab": {
          "base_uri": "https://localhost:8080/"
        },
        "id": "X12A9TGr1td9",
        "outputId": "86c49478-d46c-4e7c-a955-f5dd99235ca5"
      },
      "execution_count": 16,
      "outputs": [
        {
          "output_type": "stream",
          "name": "stderr",
          "text": [
            "\n",
            "image 1/1 /content/frame_2S_blue.jpg: 1024x1024 38050.1ms\n",
            "Speed: 57.4ms preprocess, 38050.1ms inference, 35.1ms postprocess per image at shape (1, 3, 1024, 1024)\n"
          ]
        }
      ]
    },
    {
      "cell_type": "code",
      "source": [
        "!pip install ultralytics\n"
      ],
      "metadata": {
        "id": "N1hgNleC5kda"
      },
      "execution_count": null,
      "outputs": []
    },
    {
      "cell_type": "code",
      "source": [
        "from ultralytics import SAM\n",
        "sam_model1 = SAM('sam_b.pt')"
      ],
      "metadata": {
        "colab": {
          "base_uri": "https://localhost:8080/"
        },
        "id": "YORTNwKW4ZCF",
        "outputId": "92834a4b-e04d-4c59-c646-6e50527bc7f4"
      },
      "execution_count": null,
      "outputs": [
        {
          "output_type": "stream",
          "name": "stderr",
          "text": [
            "Downloading https://github.com/ultralytics/assets/releases/download/v0.0.0/sam_b.pt to 'sam_b.pt'...\n",
            "100%|██████████| 358M/358M [00:01<00:00, 275MB/s]\n"
          ]
        }
      ]
    },
    {
      "cell_type": "code",
      "source": [
        "results = sam_model1('/content/frame_2S_blue.jpg', bboxes=[876, 723, 995, 763])"
      ],
      "metadata": {
        "colab": {
          "base_uri": "https://localhost:8080/",
          "height": 178
        },
        "id": "A6Enl_7u4eTT",
        "outputId": "a7febdbc-6da6-48b3-dc2e-f19ae029f494"
      },
      "execution_count": 14,
      "outputs": [
        {
          "output_type": "error",
          "ename": "NameError",
          "evalue": "ignored",
          "traceback": [
            "\u001b[0;31m---------------------------------------------------------------------------\u001b[0m",
            "\u001b[0;31mNameError\u001b[0m                                 Traceback (most recent call last)",
            "\u001b[0;32m<ipython-input-14-2b982dc5188d>\u001b[0m in \u001b[0;36m<cell line: 1>\u001b[0;34m()\u001b[0m\n\u001b[0;32m----> 1\u001b[0;31m \u001b[0mresults\u001b[0m \u001b[0;34m=\u001b[0m \u001b[0msam_model1\u001b[0m\u001b[0;34m(\u001b[0m\u001b[0;34m'/content/frame_2S_blue.jpg'\u001b[0m\u001b[0;34m,\u001b[0m \u001b[0mbboxes\u001b[0m\u001b[0;34m=\u001b[0m\u001b[0;34m[\u001b[0m\u001b[0;36m876\u001b[0m\u001b[0;34m,\u001b[0m \u001b[0;36m723\u001b[0m\u001b[0;34m,\u001b[0m \u001b[0;36m995\u001b[0m\u001b[0;34m,\u001b[0m \u001b[0;36m763\u001b[0m\u001b[0;34m]\u001b[0m\u001b[0;34m)\u001b[0m\u001b[0;34m\u001b[0m\u001b[0;34m\u001b[0m\u001b[0m\n\u001b[0m",
            "\u001b[0;31mNameError\u001b[0m: name 'sam_model1' is not defined"
          ]
        }
      ]
    },
    {
      "cell_type": "code",
      "execution_count": null,
      "metadata": {
        "colab": {
          "base_uri": "https://localhost:8080/",
          "height": 261,
          "resources": {
            "http://localhost:8080/content/2023-10-13_11-44-38.zip": {
              "data": "CjwhRE9DVFlQRSBodG1sPgo8aHRtbCBsYW5nPWVuPgogIDxtZXRhIGNoYXJzZXQ9dXRmLTg+CiAgPG1ldGEgbmFtZT12aWV3cG9ydCBjb250ZW50PSJpbml0aWFsLXNjYWxlPTEsIG1pbmltdW0tc2NhbGU9MSwgd2lkdGg9ZGV2aWNlLXdpZHRoIj4KICA8dGl0bGU+RXJyb3IgNDA0IChOb3QgRm91bmQpISExPC90aXRsZT4KICA8c3R5bGU+CiAgICAqe21hcmdpbjowO3BhZGRpbmc6MH1odG1sLGNvZGV7Zm9udDoxNXB4LzIycHggYXJpYWwsc2Fucy1zZXJpZn1odG1se2JhY2tncm91bmQ6I2ZmZjtjb2xvcjojMjIyO3BhZGRpbmc6MTVweH1ib2R5e21hcmdpbjo3JSBhdXRvIDA7bWF4LXdpZHRoOjM5MHB4O21pbi1oZWlnaHQ6MTgwcHg7cGFkZGluZzozMHB4IDAgMTVweH0qID4gYm9keXtiYWNrZ3JvdW5kOnVybCgvL3d3dy5nb29nbGUuY29tL2ltYWdlcy9lcnJvcnMvcm9ib3QucG5nKSAxMDAlIDVweCBuby1yZXBlYXQ7cGFkZGluZy1yaWdodDoyMDVweH1we21hcmdpbjoxMXB4IDAgMjJweDtvdmVyZmxvdzpoaWRkZW59aW5ze2NvbG9yOiM3Nzc7dGV4dC1kZWNvcmF0aW9uOm5vbmV9YSBpbWd7Ym9yZGVyOjB9QG1lZGlhIHNjcmVlbiBhbmQgKG1heC13aWR0aDo3NzJweCl7Ym9keXtiYWNrZ3JvdW5kOm5vbmU7bWFyZ2luLXRvcDowO21heC13aWR0aDpub25lO3BhZGRpbmctcmlnaHQ6MH19I2xvZ297YmFja2dyb3VuZDp1cmwoLy93d3cuZ29vZ2xlLmNvbS9pbWFnZXMvbG9nb3MvZXJyb3JwYWdlL2Vycm9yX2xvZ28tMTUweDU0LnBuZykgbm8tcmVwZWF0O21hcmdpbi1sZWZ0Oi01cHh9QG1lZGlhIG9ubHkgc2NyZWVuIGFuZCAobWluLXJlc29sdXRpb246MTkyZHBpKXsjbG9nb3tiYWNrZ3JvdW5kOnVybCgvL3d3dy5nb29nbGUuY29tL2ltYWdlcy9sb2dvcy9lcnJvcnBhZ2UvZXJyb3JfbG9nby0xNTB4NTQtMngucG5nKSBuby1yZXBlYXQgMCUgMCUvMTAwJSAxMDAlOy1tb3otYm9yZGVyLWltYWdlOnVybCgvL3d3dy5nb29nbGUuY29tL2ltYWdlcy9sb2dvcy9lcnJvcnBhZ2UvZXJyb3JfbG9nby0xNTB4NTQtMngucG5nKSAwfX1AbWVkaWEgb25seSBzY3JlZW4gYW5kICgtd2Via2l0LW1pbi1kZXZpY2UtcGl4ZWwtcmF0aW86Mil7I2xvZ297YmFja2dyb3VuZDp1cmwoLy93d3cuZ29vZ2xlLmNvbS9pbWFnZXMvbG9nb3MvZXJyb3JwYWdlL2Vycm9yX2xvZ28tMTUweDU0LTJ4LnBuZykgbm8tcmVwZWF0Oy13ZWJraXQtYmFja2dyb3VuZC1zaXplOjEwMCUgMTAwJX19I2xvZ297ZGlzcGxheTppbmxpbmUtYmxvY2s7aGVpZ2h0OjU0cHg7d2lkdGg6MTUwcHh9CiAgPC9zdHlsZT4KICA8YSBocmVmPS8vd3d3Lmdvb2dsZS5jb20vPjxzcGFuIGlkPWxvZ28gYXJpYS1sYWJlbD1Hb29nbGU+PC9zcGFuPjwvYT4KICA8cD48Yj40MDQuPC9iPiA8aW5zPlRoYXTigJlzIGFuIGVycm9yLjwvaW5zPgogIDxwPiAgPGlucz5UaGF04oCZcyBhbGwgd2Uga25vdy48L2lucz4K",
              "headers": [
                [
                  "content-length",
                  "1449"
                ],
                [
                  "content-type",
                  "text/html; charset=utf-8"
                ]
              ],
              "ok": false,
              "status": 404,
              "status_text": ""
            }
          }
        },
        "id": "PLgSIofnMPJU",
        "outputId": "cf94e8fd-90c3-4cab-cb4b-5782d126bc95"
      },
      "outputs": [
        {
          "data": {
            "text/html": [
              "\n",
              "<video width=\"320\" height=\"240\" controls>\n",
              "  <source src=\"/content/2023-10-13_11-44-38.zip\" type=\"video/mp4\">\n",
              "</video>\n"
            ],
            "text/plain": [
              "<IPython.core.display.HTML object>"
            ]
          },
          "metadata": {},
          "output_type": "display_data"
        }
      ],
      "source": [
        "from IPython.display import display, HTML\n",
        "\n",
        "video_name = \"/content/2023-10-13_11-44-38.zip\"  # Replace with your video file's name\n",
        "\n",
        "display(HTML(\"\"\"\n",
        "<video width=\"320\" height=\"240\" controls>\n",
        "  <source src=\"{}\" type=\"video/mp4\">\n",
        "</video>\n",
        "\"\"\".format(video_name)))"
      ]
    },
    {
      "cell_type": "code",
      "execution_count": null,
      "metadata": {
        "id": "fsCJNyOzkWAi"
      },
      "outputs": [],
      "source": [
        "!zip -r /content/results_1013_1144_opt.zip /content/results_1013_1144_opt"
      ]
    },
    {
      "cell_type": "markdown",
      "metadata": {
        "id": "zTKQx_5hgTvN"
      },
      "source": [
        "#@OCR"
      ]
    },
    {
      "cell_type": "code",
      "execution_count": null,
      "metadata": {
        "colab": {
          "base_uri": "https://localhost:8080/"
        },
        "id": "ZSqU33A5zC_g",
        "outputId": "74de811d-9b0a-499a-c2a9-bf94aebf1949"
      },
      "outputs": [
        {
          "name": "stdout",
          "output_type": "stream",
          "text": [
            "Requirement already satisfied: opencv-python in /usr/local/lib/python3.10/dist-packages (4.8.0.76)\n",
            "Requirement already satisfied: pytesseract in /usr/local/lib/python3.10/dist-packages (0.3.10)\n",
            "Requirement already satisfied: numpy>=1.21.2 in /usr/local/lib/python3.10/dist-packages (from opencv-python) (1.23.5)\n",
            "Requirement already satisfied: packaging>=21.3 in /usr/local/lib/python3.10/dist-packages (from pytesseract) (23.1)\n",
            "Requirement already satisfied: Pillow>=8.0.0 in /usr/local/lib/python3.10/dist-packages (from pytesseract) (9.4.0)\n"
          ]
        }
      ],
      "source": [
        "!pip install opencv-python pytesseract"
      ]
    },
    {
      "cell_type": "code",
      "execution_count": null,
      "metadata": {
        "colab": {
          "base_uri": "https://localhost:8080/"
        },
        "id": "jnQ52ATi02Ol",
        "outputId": "97e980fe-b109-432b-be5d-3a17295b66c8"
      },
      "outputs": [
        {
          "name": "stdout",
          "output_type": "stream",
          "text": [
            "Reading package lists... Done\n",
            "Building dependency tree... Done\n",
            "Reading state information... Done\n",
            "The following additional packages will be installed:\n",
            "  tesseract-ocr-eng tesseract-ocr-osd\n",
            "The following NEW packages will be installed:\n",
            "  tesseract-ocr tesseract-ocr-eng tesseract-ocr-osd\n",
            "0 upgraded, 3 newly installed, 0 to remove and 16 not upgraded.\n",
            "Need to get 4,816 kB of archives.\n",
            "After this operation, 15.6 MB of additional disk space will be used.\n",
            "Get:1 http://archive.ubuntu.com/ubuntu jammy/universe amd64 tesseract-ocr-eng all 1:4.00~git30-7274cfa-1.1 [1,591 kB]\n",
            "Get:2 http://archive.ubuntu.com/ubuntu jammy/universe amd64 tesseract-ocr-osd all 1:4.00~git30-7274cfa-1.1 [2,990 kB]\n",
            "Get:3 http://archive.ubuntu.com/ubuntu jammy/universe amd64 tesseract-ocr amd64 4.1.1-2.1build1 [236 kB]\n",
            "Fetched 4,816 kB in 0s (12.3 MB/s)\n",
            "Selecting previously unselected package tesseract-ocr-eng.\n",
            "(Reading database ... 120831 files and directories currently installed.)\n",
            "Preparing to unpack .../tesseract-ocr-eng_1%3a4.00~git30-7274cfa-1.1_all.deb ...\n",
            "Unpacking tesseract-ocr-eng (1:4.00~git30-7274cfa-1.1) ...\n",
            "Selecting previously unselected package tesseract-ocr-osd.\n",
            "Preparing to unpack .../tesseract-ocr-osd_1%3a4.00~git30-7274cfa-1.1_all.deb ...\n",
            "Unpacking tesseract-ocr-osd (1:4.00~git30-7274cfa-1.1) ...\n",
            "Selecting previously unselected package tesseract-ocr.\n",
            "Preparing to unpack .../tesseract-ocr_4.1.1-2.1build1_amd64.deb ...\n",
            "Unpacking tesseract-ocr (4.1.1-2.1build1) ...\n",
            "Setting up tesseract-ocr-eng (1:4.00~git30-7274cfa-1.1) ...\n",
            "Setting up tesseract-ocr-osd (1:4.00~git30-7274cfa-1.1) ...\n",
            "Setting up tesseract-ocr (4.1.1-2.1build1) ...\n",
            "Processing triggers for man-db (2.10.2-1) ...\n"
          ]
        }
      ],
      "source": [
        "!apt install tesseract-ocr"
      ]
    },
    {
      "cell_type": "code",
      "execution_count": null,
      "metadata": {
        "colab": {
          "base_uri": "https://localhost:8080/",
          "height": 841
        },
        "id": "4SXVYA4TzJZA",
        "outputId": "33c90a6a-a81f-4175-d4f4-68bad5a79378"
      },
      "outputs": [
        {
          "data": {
            "image/png": "[encoded data removed]",
            "text/plain": [
              "<Figure size 640x480 with 1 Axes>"
            ]
          },
          "metadata": {},
          "output_type": "display_data"
        },
        {
          "name": "stdout",
          "output_type": "stream",
          "text": [
            "i aad ey , my os\n",
            "a a — -\n",
            "4 D ee.\n",
            "p eee:\n",
            "Pee =u re ie\n",
            ": <<.) ] q ees ae\n",
            "ee eves: ,\n",
            "‘aes pearl’ ~ 7 : F : f\n",
            "ales ii\n",
            "amen a? oe”\n",
            "7 2\n",
            "ies .\n",
            "eee\n",
            "nd on. *\n",
            "ete Be\n",
            ": cea\n",
            "— f\n",
            "ae .\n",
            "i. +\n",
            ". aa .\n",
            "See rn So\n",
            "See Bs > ae\n",
            "me aS ag, ae\n",
            "mei Sogn\n",
            "a ee. ons Ta 7 ¥\n",
            "Famers a\n",
            "Sg ee, Eee sek”\n",
            "\f\n"
          ]
        }
      ],
      "source": [
        "import cv2\n",
        "import pytesseract\n",
        "import matplotlib.pyplot as plt\n",
        "\n",
        "# Use pytesseract to extract text from the frame\n",
        "frame = cv2.imread(\"/content/train_masks/frame_125S_4F_16I.jpg\")\n",
        "# Convert to grayscale\n",
        "gray = cv2.cvtColor(frame, cv2.COLOR_BGR2GRAY)\n",
        "gauss = cv2.GaussianBlur(gray, (5, 5), 0)\n",
        "\n",
        "# Apply adaptive thresholding\n",
        "\n",
        "# Resize the frame to enlarge the text (optional, you can experiment with the factor)\n",
        "#gray = cv2.resize(gray, None, fx=1.5, fy=1.5, interpolation=cv2.INTER_LINEAR)\n",
        "\n",
        "# Apply adaptive thresholding\n",
        "binary = cv2.adaptiveThreshold(gauss, 255, cv2.ADAPTIVE_THRESH_GAUSSIAN_C, cv2.THRESH_BINARY, 11, 2)\n",
        "\n",
        "plt.imshow(binary)\n",
        "plt.show()\n",
        "\n",
        "# Perform OCR\n",
        "text = pytesseract.image_to_string(gray, config='--psm 6')\n",
        "print(text)\n",
        "\n"
      ]
    }
  ],
  "metadata": {
    "colab": {
      "collapsed_sections": [
        "sp-X2WpHLubz",
        "zTKQx_5hgTvN"
      ],
      "provenance": [],
      "authorship_tag": "ABX9TyO2nV9FroXiKIMWonNik0JJ",
      "include_colab_link": true
    },
    "kernelspec": {
      "display_name": "Python 3",
      "name": "python3"
    },
    "language_info": {
      "name": "python"
    }
  },
  "nbformat": 4,
  "nbformat_minor": 0
}